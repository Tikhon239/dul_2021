{
  "cells": [
    {
      "cell_type": "markdown",
      "metadata": {
        "id": "view-in-github",
        "colab_type": "text"
      },
      "source": [
        "<a href=\"https://colab.research.google.com/github/Tikhon239/dul_2021/blob/hw15/Homework/hw15/Homework15_diffusion.ipynb\" target=\"_parent\"><img src=\"https://colab.research.google.com/assets/colab-badge.svg\" alt=\"Open In Colab\"/></a>"
      ]
    },
    {
      "cell_type": "code",
      "execution_count": 1,
      "metadata": {
        "colab": {
          "base_uri": "https://localhost:8080/"
        },
        "id": "6EAvrriX7MVW",
        "outputId": "c4eb77bc-d184-418b-c4ca-f501781dcdd2"
      },
      "outputs": [
        {
          "output_type": "stream",
          "name": "stdout",
          "text": [
            "Collecting denoising_diffusion_pytorch\n",
            "  Downloading denoising_diffusion_pytorch-0.7.1-py3-none-any.whl (8.3 kB)\n",
            "Collecting einops\n",
            "  Downloading einops-0.4.1-py3-none-any.whl (28 kB)\n",
            "Requirement already satisfied: torchvision in /usr/local/lib/python3.7/dist-packages (from denoising_diffusion_pytorch) (0.11.1+cu111)\n",
            "Requirement already satisfied: torch in /usr/local/lib/python3.7/dist-packages (from denoising_diffusion_pytorch) (1.10.0+cu111)\n",
            "Requirement already satisfied: numpy in /usr/local/lib/python3.7/dist-packages (from denoising_diffusion_pytorch) (1.21.5)\n",
            "Requirement already satisfied: pillow in /usr/local/lib/python3.7/dist-packages (from denoising_diffusion_pytorch) (7.1.2)\n",
            "Requirement already satisfied: tqdm in /usr/local/lib/python3.7/dist-packages (from denoising_diffusion_pytorch) (4.63.0)\n",
            "Requirement already satisfied: typing-extensions in /usr/local/lib/python3.7/dist-packages (from torch->denoising_diffusion_pytorch) (3.10.0.2)\n",
            "Installing collected packages: einops, denoising-diffusion-pytorch\n",
            "Successfully installed denoising-diffusion-pytorch-0.7.1 einops-0.4.1\n"
          ]
        }
      ],
      "source": [
        "! pip install denoising_diffusion_pytorch"
      ]
    },
    {
      "cell_type": "markdown",
      "metadata": {
        "id": "pkcTtYFc7MVa"
      },
      "source": [
        "# Imports"
      ]
    },
    {
      "cell_type": "code",
      "execution_count": 57,
      "metadata": {
        "id": "gfyA5rKt7MVb"
      },
      "outputs": [],
      "source": [
        "import copy\n",
        "from math import ceil\n",
        "import numpy as np\n",
        "\n",
        "import torch\n",
        "from torch import nn\n",
        "import torch.distributions as D\n",
        "from torch import autograd\n",
        "import torch.nn.functional as F\n",
        "\n",
        "from torchvision import transforms\n",
        "from torchvision.datasets import MNIST\n",
        "from torch.utils.data import DataLoader\n",
        "from torchvision.utils import make_grid\n",
        "\n",
        "from denoising_diffusion_pytorch import Unet\n",
        "\n",
        "import matplotlib.pyplot as plt\n",
        "from tqdm.auto import tqdm, trange"
      ]
    },
    {
      "cell_type": "code",
      "execution_count": 58,
      "metadata": {
        "colab": {
          "base_uri": "https://localhost:8080/"
        },
        "id": "I4vxMLlW7MVc",
        "outputId": "ba0ca02f-3a12-4b9d-9728-a73f6038d980"
      },
      "outputs": [
        {
          "output_type": "execute_result",
          "data": {
            "text/plain": [
              "<torch._C.Generator at 0x7fd8ae6d19b0>"
            ]
          },
          "metadata": {},
          "execution_count": 58
        }
      ],
      "source": [
        "import random\n",
        "\n",
        "random.seed(0)\n",
        "np.random.seed(0)\n",
        "torch.manual_seed(0)"
      ]
    },
    {
      "cell_type": "code",
      "execution_count": 59,
      "metadata": {
        "id": "ov1FZVq37MVd"
      },
      "outputs": [],
      "source": [
        "device = torch.device('cuda' if torch.cuda.is_available() else 'cpu')\n",
        "# device = torch.device('cpu')"
      ]
    },
    {
      "cell_type": "markdown",
      "metadata": {
        "id": "wT0kLM_x7MVd"
      },
      "source": [
        "# Data"
      ]
    },
    {
      "cell_type": "code",
      "execution_count": 60,
      "metadata": {
        "id": "AgyIoNWp7MVe"
      },
      "outputs": [],
      "source": [
        "transform = transforms.Compose([\n",
        "    transforms.ToTensor(),\n",
        "    transforms.Resize((16, 16)),\n",
        "    transforms.Normalize((0.5), (0.5)),\n",
        "])"
      ]
    },
    {
      "cell_type": "code",
      "execution_count": 61,
      "metadata": {
        "id": "8Awtd_Kw7MVe"
      },
      "outputs": [],
      "source": [
        "train_data = MNIST(root='./data/', train=True, download=True, transform=transform)\n",
        "val_data = MNIST(root='./data/', train=False, download=True, transform=transform)"
      ]
    },
    {
      "cell_type": "code",
      "execution_count": 62,
      "metadata": {
        "id": "r7NGKVgh7MVf"
      },
      "outputs": [],
      "source": [
        "BATCH_SIZE = 128"
      ]
    },
    {
      "cell_type": "code",
      "execution_count": 63,
      "metadata": {
        "id": "gEvQe9-R7MVf"
      },
      "outputs": [],
      "source": [
        "train_loader = DataLoader(\n",
        "    train_data,\n",
        "    batch_size=BATCH_SIZE,\n",
        "    shuffle=True,\n",
        "    num_workers=2,\n",
        "    drop_last=True\n",
        ")\n",
        "val_loader = DataLoader(\n",
        "    val_data,\n",
        "    batch_size=BATCH_SIZE,\n",
        "    shuffle=False,\n",
        "    num_workers=2,\n",
        "    drop_last=True\n",
        ")"
      ]
    },
    {
      "cell_type": "markdown",
      "metadata": {
        "id": "aBU_vIJb7MVg"
      },
      "source": [
        "# Utils"
      ]
    },
    {
      "cell_type": "code",
      "execution_count": 64,
      "metadata": {
        "id": "bpbwYmum7MVg"
      },
      "outputs": [],
      "source": [
        "def f_(f, x):\n",
        "    x = x.clone()\n",
        "    \n",
        "    with torch.enable_grad():\n",
        "        if not x.requires_grad:\n",
        "            x.requires_grad = True\n",
        "\n",
        "        y = f(x)\n",
        "        \n",
        "        (grad, ) = autograd.grad(y.sum(), x, create_graph=False)\n",
        "        \n",
        "    return grad"
      ]
    },
    {
      "cell_type": "code",
      "execution_count": 65,
      "metadata": {
        "id": "iMI8nMma7MVg"
      },
      "outputs": [],
      "source": [
        "@torch.no_grad()\n",
        "def solve_sde(x, f, g, ts=0, tf=1, dt=1e-3):\n",
        "    for t in tqdm(np.arange(tf, ts, -dt)):\n",
        "        tt = torch.FloatTensor([t]).to(device)\n",
        "        z = torch.randn_like(x).to(device)\n",
        "        x = x - f(x, tt) * dt - g(tt) * z * abs(dt) ** 0.5\n",
        "        \n",
        "    return x"
      ]
    },
    {
      "cell_type": "code",
      "execution_count": 66,
      "metadata": {
        "id": "zS34Bcji7MVh"
      },
      "outputs": [],
      "source": [
        "@torch.no_grad()\n",
        "def show_imgs(x):\n",
        "    x = x.detach().cpu()\n",
        "    \n",
        "    img = make_grid(x, nrow=5)\n",
        "    img = img.permute(1, 2, 0)\n",
        "    img = img * 0.5 + 0.5\n",
        "\n",
        "    plt.imshow(img.numpy())\n",
        "    plt.show()"
      ]
    },
    {
      "cell_type": "markdown",
      "metadata": {
        "id": "_sb0JoLV7MVh"
      },
      "source": [
        "[Текст ссылки](https://)# Question 1. DDPM\n",
        "\n",
        "В этом задание вам предлагается реализовать диффузную модель с непрерывным временем на основе DDPM. Технический код уже написан, нужно лишь восстановить содержательные функции."
      ]
    },
    {
      "cell_type": "code",
      "execution_count": 67,
      "metadata": {
        "id": "JshlPMYe7MVh"
      },
      "outputs": [],
      "source": [
        "class ContDDPM(nn.Module):\n",
        "    def __init__(self):\n",
        "        super().__init__()\n",
        "        \n",
        "        self.eps_th = Unet(\n",
        "            dim=16,\n",
        "            dim_mults=(1, 2, 3),\n",
        "            channels=1\n",
        "        )\n",
        "\n",
        "    @property \n",
        "    def device(self):\n",
        "        return next(self.parameters()).device\n",
        "        \n",
        "    def gamma(self, t):\n",
        "        return torch.log(torch.expm1(1e-4 + 10 * t ** 2))\n",
        "    \n",
        "    # Coefficient \\bar{a}_t\n",
        "    # see presentation, slide 19\n",
        "    def a_bar(self, t):\n",
        "        g = self.gamma(t)\n",
        "        return torch.sigmoid(-g)\n",
        "    \n",
        "    def sigma_2(self, t):\n",
        "        return 1 - self.a_bar(t)\n",
        "    \n",
        "    def log_a_bar_sqrt_(self, t):\n",
        "        return 0.5 * f_(lambda s: torch.log(self.a_bar(s)), t)\n",
        "    \n",
        "    # Coefficient f(x, t)\n",
        "    # see presentation, slide 31\n",
        "    def f(self, x_t, t):\n",
        "        return self.log_a_bar_sqrt_(t) * x_t\n",
        "    \n",
        "    # Coefficient g^2(t)\n",
        "    # see presentation, slide 31\n",
        "    def g_2(self, t):\n",
        "        return f_(self.sigma_2, t) - 2 * self.log_a_bar_sqrt_(t) * self.sigma_2(t)\n",
        "\n",
        "    def gamma(self, t):\n",
        "        return torch.log(torch.expm1(1e-4 + 10 * t ** 2))\n",
        "    \n",
        "    # Learned score function\n",
        "    # see presentation, slide 28\n",
        "    def score(self, x_t, t):\n",
        "        \"\"\"\n",
        "        x_t: tensort [bs, 1, 16, 16]\n",
        "        t: tensort [bs]\n",
        "\n",
        "        Returns\n",
        "        - score: tensor  [bs, 1, 16, 16]\n",
        "        \"\"\"\n",
        "\n",
        "        eps = self.eps_th(x_t, t)\n",
        "        # t: tensort [1] !!!\n",
        "        sigma = self.sigma_2(t).sqrt().reshape(-1, 1, 1, 1)\n",
        "        return -eps / sigma\n",
        "    \n",
        "    def sample_t(self, bs):\n",
        "        t = torch.rand(bs).to(self.device)\n",
        "        return t\n",
        "        \n",
        "    # Transition sampling q(x_t|x_0)\n",
        "    # see presentation, slide 19 and 25\n",
        "    def sample_x_t(self, x_0, t):\n",
        "        \"\"\"\n",
        "        x_0: tensort [bs, 1, 16, 16]\n",
        "        t: tensort [bs]\n",
        "\n",
        "        Returns\n",
        "        - x_t: tensor  [bs, 1, 16, 16]\n",
        "        \"\"\"\n",
        "        bs = x_0.shape[0]\n",
        "        assert t.shape[0] == bs\n",
        "\n",
        "        mu = self.a_bar(t).sqrt().reshape(bs, 1, 1, 1) * x_0\n",
        "        sigma = self.sigma_2(t).sqrt().reshape(bs, 1, 1, 1)\n",
        "        eps = torch.rand_like(x_0)\n",
        "\n",
        "        return mu + sigma * eps, eps\n",
        "    \n",
        "    # Loss function\n",
        "    # see presentation, slide 26\n",
        "    def get_loss(self, x_0):\n",
        "        bs = x_0.shape[0]\n",
        "        data_dims = tuple(np.arange(1, len(x_0.shape)))\n",
        "        \n",
        "        t = self.sample_t(bs)\n",
        "        x_t, eps = self.sample_x_t(x_0, t)\n",
        "        \n",
        "        loss = ((eps - self.eps_th(x_t, t)) ** 2).sum(dim=data_dims)\n",
        "        loss = loss.mean()\n",
        "        \n",
        "        return loss\n",
        "        \n",
        "    # Sampling according to reverse SDE\n",
        "    # see presentation, slide 32\n",
        "    # Hint: use solve_sde function\n",
        "    def sample_sde(self, bs):\n",
        "        \"\"\"\n",
        "        bs: int\n",
        "\n",
        "        Returns\n",
        "        - x_0: tensor  [bs, 1, 16, 16] generated data\n",
        "        \"\"\"\n",
        "        x_t = torch.randn((bs, 1, 16, 16), device=self.device)\n",
        "        f = lambda x, t: self.f(x, t) - self.g_2(t) * self.score(x, t)\n",
        "        g = lambda t: self.g_2(t).sqrt()\n",
        "        return solve_sde(x_t, f, g)"
      ]
    },
    {
      "cell_type": "markdown",
      "metadata": {
        "id": "gBSrZpO37MVi"
      },
      "source": [
        "## Training"
      ]
    },
    {
      "cell_type": "code",
      "execution_count": 68,
      "metadata": {
        "id": "pumncGb87MVj"
      },
      "outputs": [],
      "source": [
        "def calc_loss(ddpm, x):\n",
        "    loss = ddpm.get_loss(x)\n",
        "\n",
        "    return loss"
      ]
    },
    {
      "cell_type": "code",
      "execution_count": 69,
      "metadata": {
        "id": "9EbRPEnW7MVj"
      },
      "outputs": [],
      "source": [
        "def train_step(ddpm, x, optim):\n",
        "    loss_total = calc_loss(ddpm, x)\n",
        "    \n",
        "    optim.zero_grad()\n",
        "    loss_total.backward()\n",
        "    optim.step()\n",
        "    \n",
        "    return loss_total.item()"
      ]
    },
    {
      "cell_type": "code",
      "execution_count": 70,
      "metadata": {
        "id": "f-eS9KEA7MVj"
      },
      "outputs": [],
      "source": [
        "def train_epoch(ddpm, data_loader, optim):\n",
        "    ddpm.train()\n",
        "\n",
        "    losses = []\n",
        "    for x, _ in data_loader:\n",
        "        x = x.to(device)\n",
        "\n",
        "        loss_total = train_step(ddpm, x, optim)\n",
        "        \n",
        "        losses += [loss_total]\n",
        "        \n",
        "    loss_mean = np.mean(losses)\n",
        "\n",
        "    return loss_mean"
      ]
    },
    {
      "cell_type": "code",
      "execution_count": 71,
      "metadata": {
        "id": "bt84fxW_7MVk"
      },
      "outputs": [],
      "source": [
        "def val_epoch(ddpm, data_loader):\n",
        "    ddpm.eval()\n",
        "\n",
        "    losses = []\n",
        "    for x, _ in data_loader:\n",
        "        x = x.to(device)\n",
        "\n",
        "        total_loss = calc_loss(ddpm, x).item()\n",
        "        \n",
        "        losses += [total_loss]\n",
        "        \n",
        "    loss_mean = np.mean(losses)    \n",
        "\n",
        "    return loss_mean"
      ]
    },
    {
      "cell_type": "code",
      "execution_count": 72,
      "metadata": {
        "id": "DoTNMFCf7MVk"
      },
      "outputs": [],
      "source": [
        "def train(ddpm, train_loader, val_loader, optim, epochs):\n",
        "    for epoch in trange(epochs):\n",
        "        train_los = train_epoch(ddpm, train_loader, optim)\n",
        "        with torch.no_grad():\n",
        "            val_los = val_epoch(ddpm, val_loader)\n",
        "        print(f\"train: {train_los}    val: {val_los}\")"
      ]
    },
    {
      "cell_type": "markdown",
      "metadata": {
        "id": "dwcybbJ37MVk"
      },
      "source": [
        "## Experiment"
      ]
    },
    {
      "cell_type": "code",
      "source": [
        "ddpm = ContDDPM()\n",
        "ddpm.to(device)\n",
        "\n",
        "optim = torch.optim.Adam(ddpm.parameters(), lr=2e-4)\n",
        "\n",
        "train(ddpm, train_loader, val_loader, optim, epochs=15)"
      ],
      "metadata": {
        "id": "OGg7gsUY6qU_",
        "outputId": "881f4b79-3415-40d0-bca0-3ee6fbf36314",
        "colab": {
          "base_uri": "https://localhost:8080/",
          "height": 304,
          "referenced_widgets": [
            "1aaf229ab7264b9fa6c52df621a50a3b",
            "3351dc2a9c2f499a8f6c7e6c845416fe",
            "9729c9aa423b497284119119336d3c8f",
            "002713ab80a440509c96ab08053b513f",
            "cbbc75070dbc4f0da2e49111e8084c46",
            "0d15c5c2f2c54f568bb06a0e2a4cbef6",
            "21d77e14f4b24576b634089e5f447216",
            "d7360075c37948829eb0e0a266370645",
            "92d7b0dce97b4da68a614c6bc705e1c8",
            "05d43c7c98dd464dbc24b8e6e24dd120",
            "7ce1d97f035948829bac3c29a5fce068"
          ]
        }
      },
      "execution_count": 73,
      "outputs": [
        {
          "output_type": "display_data",
          "data": {
            "text/plain": [
              "  0%|          | 0/15 [00:00<?, ?it/s]"
            ],
            "application/vnd.jupyter.widget-view+json": {
              "version_major": 2,
              "version_minor": 0,
              "model_id": "1aaf229ab7264b9fa6c52df621a50a3b"
            }
          },
          "metadata": {}
        },
        {
          "output_type": "stream",
          "name": "stdout",
          "text": [
            "train: 8.316004956889357    val: 3.6732206222338553\n",
            "train: 3.229912119034009    val: 2.939660463577662\n",
            "train: 2.7795531107829166    val: 2.664280115029751\n",
            "train: 2.604416300598373    val: 2.540178561821962\n",
            "train: 2.5013551564298124    val: 2.478864150169568\n",
            "train: 2.4290199649130177    val: 2.352930642091311\n",
            "train: 2.361811433847134    val: 2.376426080862681\n",
            "train: 2.298513133556415    val: 2.237625313110841\n",
            "train: 2.2247859751566863    val: 2.2009685773115892\n",
            "train: 2.1756162630696583    val: 2.1590164594161205\n",
            "train: 2.123409310976664    val: 2.1555298689084177\n",
            "train: 2.1002575874838056    val: 2.0378756645398264\n",
            "train: 2.059905429935863    val: 2.012277765151782\n",
            "train: 2.0515858627792096    val: 2.0196586755605845\n",
            "train: 2.002595719873396    val: 1.9671850494849377\n"
          ]
        }
      ]
    },
    {
      "cell_type": "code",
      "source": [
        "x = ddpm.sample_sde(bs=25)\n",
        "show_imgs(x)"
      ],
      "metadata": {
        "id": "sLoXAL2O6roT",
        "outputId": "897bad79-bf69-43ea-d67e-0cb5f269307a",
        "colab": {
          "base_uri": "https://localhost:8080/",
          "height": 317,
          "referenced_widgets": [
            "649ef0c017bd45fc85ac52691f95e7c0",
            "35d7e162466245f4b2193472192a259f",
            "7446bd1a38c44148b6ece6dcb6c0e2d8",
            "fb1b39556d6a436986f377b6c74cc4da",
            "7e066f3761f447f9b9c144826d26a7c7",
            "a28c527a0aa54de5b509904f1cc3cdeb",
            "1f65883d1625428ebee14fee7868e2f9",
            "1f2b446e98f34b1db9f869f7c3eec54c",
            "e90d52e3c93c4b7b9a014573fd9868ca",
            "c272e52c61074c3981fdbd49cef27815",
            "36f5f805a936430e93d017979c85867f"
          ]
        }
      },
      "execution_count": 74,
      "outputs": [
        {
          "output_type": "display_data",
          "data": {
            "text/plain": [
              "  0%|          | 0/1000 [00:00<?, ?it/s]"
            ],
            "application/vnd.jupyter.widget-view+json": {
              "version_major": 2,
              "version_minor": 0,
              "model_id": "649ef0c017bd45fc85ac52691f95e7c0"
            }
          },
          "metadata": {}
        },
        {
          "output_type": "stream",
          "name": "stderr",
          "text": [
            "Clipping input data to the valid range for imshow with RGB data ([0..1] for floats or [0..255] for integers).\n"
          ]
        },
        {
          "output_type": "display_data",
          "data": {
            "text/plain": [
              "<Figure size 432x288 with 1 Axes>"
            ],
            "image/png": "[encoded data removed]"
          },
          "metadata": {
            "needs_background": "light"
          }
        }
      ]
    },
    {
      "cell_type": "code",
      "source": [
        "t = 2 * (x - x.min())/(x.max() - x.min()) - 1\n",
        "show_imgs(t)"
      ],
      "metadata": {
        "id": "Y7lGhN2z8J7r",
        "outputId": "a9b42acf-e963-4c51-9995-84c7bc89de79",
        "colab": {
          "base_uri": "https://localhost:8080/",
          "height": 268
        }
      },
      "execution_count": 75,
      "outputs": [
        {
          "output_type": "display_data",
          "data": {
            "text/plain": [
              "<Figure size 432x288 with 1 Axes>"
            ],
            "image/png": "[encoded data removed]"
          },
          "metadata": {
            "needs_background": "light"
          }
        }
      ]
    },
    {
      "cell_type": "markdown",
      "source": [
        "# Bonus. Conditional generation\n",
        "\n",
        "На паре мы обсуждали возможность делать условную генерацию с помощью диффузных моделей (см. презентацию, слайд 35). Бонусное задание - реализовать генерацию с условием на класс. Для этого нужно:\n",
        "\n",
        "*   Обучить безусловную генерацию из первого задания\n",
        "*   Обучить классификатор обусловленный на время\n",
        "*   Собрать все вместе\n",
        "\n"
      ],
      "metadata": {
        "id": "6Ho0s0CQZcQO"
      }
    },
    {
      "cell_type": "code",
      "source": [
        "class Classificator(nn.Module):\n",
        "    def __init__(self, n_classes=10):\n",
        "        super().__init__()\n",
        "        self.conv_block = nn.Sequential(\n",
        "            nn.Conv2d(1, 32, 3, 1, 1),\n",
        "            nn.ReLU(),\n",
        "            nn.Conv2d(32, 64, 3, 2, 1),\n",
        "            nn.ReLU(), \n",
        "            nn.Conv2d(64, 128, 3, 2, 1), \n",
        "            nn.ReLU(), \n",
        "            nn.Conv2d(128, 128, 3, 2, 1), \n",
        "            nn.ReLU()\n",
        "        )\n",
        "\n",
        "        self.linear_block = nn.Linear(2 * 2 * 128 + 1, n_classes)\n",
        "\n",
        "    def forward(self, x, t):\n",
        "        bs = x.shape[0]\n",
        "\n",
        "        if t.shape[0] != bs:\n",
        "            t = t.repeat(bs)\n",
        "\n",
        "        out = self.conv_block(x)\n",
        "        out = torch.flatten(out, start_dim=1)\n",
        "    \n",
        "        return self.linear_block(torch.cat((out, t.unsqueeze(dim=1)), dim=1))"
      ],
      "metadata": {
        "id": "lMN-YGEG0Tna"
      },
      "execution_count": 28,
      "outputs": []
    },
    {
      "cell_type": "code",
      "source": [
        "class CContDDPM(ContDDPM):\n",
        "    def __init__(self):\n",
        "        super().__init__()\n",
        "        self.classificator = Classificator()\n",
        "    \n",
        "    def score(self, x_t, t, labels):\n",
        "        log_p = super().score(x_t, t)\n",
        "\n",
        "        with torch.enable_grad():\n",
        "            if not x_t.requires_grad:\n",
        "                x_t.requires_grad = True\n",
        "        \n",
        "            predicted_labels = self.classificator(x_t, t)[:, labels]\n",
        "            return log_p + autograd.grad(predicted_labels.sum(), x_t)[0]\n",
        "\n",
        "    def fit_classificator(self, train_dataloader, epochs=10, lr=1e-3):\n",
        "        classifier_optim = torch.optim.Adam(self.classificator.parameters(), lr=lr)\n",
        "\n",
        "        for _ in trange(epochs, desc=\"Classificator training\"):\n",
        "            losses = []\n",
        "            for batch, labels in train_dataloader:\n",
        "                bs = batch.shape[0]\n",
        "\n",
        "                batch = batch.to(device)\n",
        "                labels = labels.to(device)\n",
        "                t = self.sample_t(bs)\n",
        "\n",
        "                with torch.no_grad():\n",
        "                    batch, _ = self.sample_x_t(batch, t)\n",
        "\n",
        "                loss = F.cross_entropy(self.classificator(batch, t), labels)\n",
        "\n",
        "                classifier_optim.zero_grad()\n",
        "                loss.backward()\n",
        "                classifier_optim.step()\n",
        "\n",
        "                losses += [loss.item()]\n",
        "\n",
        "            print(f\"train: {np.mean(losses)}\")\n",
        "\n",
        "    def sample_sde(self, bs, labels):\n",
        "        \"\"\"\n",
        "        bs: int\n",
        "\n",
        "        Returns\n",
        "        - x_0: tensor  [bs, 1, 16, 16] generated data\n",
        "        \"\"\" \n",
        "        x_t = torch.randn((bs, 1, 16, 16), device=self.device)\n",
        "        f = lambda x, t: self.f(x, t) - self.g_2(t) * self.score(x, t, labels)\n",
        "        g = lambda t: self.g_2(t).sqrt()\n",
        "        return solve_sde(x_t, f, g)"
      ],
      "metadata": {
        "id": "DP9Zog9EggQl"
      },
      "execution_count": 76,
      "outputs": []
    },
    {
      "cell_type": "code",
      "source": [
        "cddpm = CContDDPM()\n",
        "cddpm.to(device)\n",
        "\n",
        "cddpm.fit_classificator(train_loader, epochs=20)"
      ],
      "metadata": {
        "colab": {
          "base_uri": "https://localhost:8080/",
          "height": 389,
          "referenced_widgets": [
            "c1575f36ff254145b8bfa7f7ee2d89bc",
            "e737871a19824b59903b92f6c51644e6",
            "378859263aa943a28c630b28298d2ec4",
            "1acd9af4f81748ba8fb36386bf5726cf",
            "c0ac39677cbb409bbeacbf464d290396",
            "70908fab490f439a8ff372b2a63c5bb3",
            "7bff208c6e434d3ebb52ea81b9d286ea",
            "e8cfaafc75f74159a7609b8ee3d8f6b6",
            "03d56e7f3fdd40f581f136e9f7b01725",
            "a915eb451f8744efbb479b772106baa7",
            "11392f21cdab4245ae3a93c27a9a2d14"
          ]
        },
        "id": "ZvojQigUCWBZ",
        "outputId": "088bcdfa-d0ad-4af4-b39e-84b8380f0593"
      },
      "execution_count": 77,
      "outputs": [
        {
          "output_type": "display_data",
          "data": {
            "text/plain": [
              "Classificator training:   0%|          | 0/20 [00:00<?, ?it/s]"
            ],
            "application/vnd.jupyter.widget-view+json": {
              "version_major": 2,
              "version_minor": 0,
              "model_id": "c1575f36ff254145b8bfa7f7ee2d89bc"
            }
          },
          "metadata": {}
        },
        {
          "output_type": "stream",
          "name": "stdout",
          "text": [
            "train: 1.1876169471149771\n",
            "train: 1.011686366210636\n",
            "train: 0.975998813015783\n",
            "train: 0.9573654596112732\n",
            "train: 0.9314861279776973\n",
            "train: 0.9067700893705727\n",
            "train: 0.8954547098559192\n",
            "train: 0.8630626857535452\n",
            "train: 0.8481594575011832\n",
            "train: 0.8374112779513384\n",
            "train: 0.8187395206883422\n",
            "train: 0.8150286711434014\n",
            "train: 0.8055015036947707\n",
            "train: 0.79780573098578\n",
            "train: 0.7941118573021685\n",
            "train: 0.7922325318949854\n",
            "train: 0.7871617085149145\n",
            "train: 0.777550777563682\n",
            "train: 0.7767690212553383\n",
            "train: 0.7698443422460148\n"
          ]
        }
      ]
    },
    {
      "cell_type": "code",
      "source": [
        "optim = torch.optim.Adam(cddpm.eps_th.parameters(), lr=2e-4)\n",
        "\n",
        "train(cddpm, train_loader, val_loader, optim, epochs=15)"
      ],
      "metadata": {
        "colab": {
          "base_uri": "https://localhost:8080/",
          "height": 304,
          "referenced_widgets": [
            "7756ca8f78754a2f9c7074126870ce24",
            "c15745043b3848cfab31ca041ef07a59",
            "dd5f9f7877c54819bf56568b35a1e92b",
            "c63b54cd0684457f8291f70ec0d78c6d",
            "fca061f69bf244659d77a149eef66082",
            "f6af9ec4e0264d9e84922552ec2d1a32",
            "1bdd35f9ab1a4799a7c6e92dbb73a490",
            "cd82fce5fca846a39a043fd77eff1749",
            "c10b97ada03949a09a96744ae2180b25",
            "d6541a5a5ee146119d74cd68a6578484",
            "db2541ae6aa644acb6e7998a19059bd5"
          ]
        },
        "id": "cOirvLVdCXTT",
        "outputId": "abdaf7a1-89e0-4954-95d7-6971983df9f7"
      },
      "execution_count": 78,
      "outputs": [
        {
          "output_type": "display_data",
          "data": {
            "text/plain": [
              "  0%|          | 0/15 [00:00<?, ?it/s]"
            ],
            "application/vnd.jupyter.widget-view+json": {
              "version_major": 2,
              "version_minor": 0,
              "model_id": "7756ca8f78754a2f9c7074126870ce24"
            }
          },
          "metadata": {}
        },
        {
          "output_type": "stream",
          "name": "stdout",
          "text": [
            "train: 11.711686437965458    val: 4.066028735576531\n",
            "train: 3.5600817524469814    val: 3.213374736981514\n",
            "train: 3.0594035254584417    val: 2.92747491139632\n",
            "train: 2.8063419547855344    val: 2.7231843930024366\n",
            "train: 2.6317338306679683    val: 2.564598477803744\n",
            "train: 2.537759464265954    val: 2.4979597421792836\n",
            "train: 2.46243122449288    val: 2.4739364966368065\n",
            "train: 2.4016833007335663    val: 2.3238400541819058\n",
            "train: 2.3524087774447904    val: 2.3267698899293556\n",
            "train: 2.307624958264522    val: 2.2836651435265174\n",
            "train: 2.2278068093662586    val: 2.2170117772542515\n",
            "train: 2.1994619308373866    val: 2.2097011575332055\n",
            "train: 2.158602655952812    val: 2.1398145128519106\n",
            "train: 2.1182477527703996    val: 2.155396602092645\n",
            "train: 2.092359056330135    val: 2.129190661968329\n"
          ]
        }
      ]
    },
    {
      "cell_type": "code",
      "source": [
        "bs = 25\n",
        "labels = torch.arange(10, device=device).repeat(ceil(bs / 10))[: bs]\n",
        "labels.sort()\n",
        "x = cddpm.sample_sde(bs, labels)\n",
        "show_imgs(x)"
      ],
      "metadata": {
        "colab": {
          "base_uri": "https://localhost:8080/",
          "height": 317,
          "referenced_widgets": [
            "311a65d0c1844398a2d5860cb780bc21",
            "16dc4499afec4be3bcb48fe695cdbc93",
            "0387789f36e24f188bf74cd9e11b6e0f",
            "3d284fb70f3d4faaa955181a55ee90ae",
            "f954f3f45ed24bc8a05aaecd6a904908",
            "a5b032dc421640e4871a90d4afd99582",
            "46eea017380846c9848cb3b0b45eb451",
            "4248d851af424cf98985de3af715c00d",
            "01aa91bd40b444759821ef74bccde422",
            "4dea133901a747378661e40726331e4b",
            "df23c05a2f4045f3af0fb355c9357081"
          ]
        },
        "id": "ptlHu8qUGowD",
        "outputId": "c21ce2ac-cd11-4174-8f02-491f4c10a6fd"
      },
      "execution_count": 79,
      "outputs": [
        {
          "output_type": "display_data",
          "data": {
            "text/plain": [
              "  0%|          | 0/1000 [00:00<?, ?it/s]"
            ],
            "application/vnd.jupyter.widget-view+json": {
              "version_major": 2,
              "version_minor": 0,
              "model_id": "311a65d0c1844398a2d5860cb780bc21"
            }
          },
          "metadata": {}
        },
        {
          "output_type": "stream",
          "name": "stderr",
          "text": [
            "Clipping input data to the valid range for imshow with RGB data ([0..1] for floats or [0..255] for integers).\n"
          ]
        },
        {
          "output_type": "display_data",
          "data": {
            "text/plain": [
              "<Figure size 432x288 with 1 Axes>"
            ],
            "image/png": "[encoded data removed]"
          },
          "metadata": {
            "needs_background": "light"
          }
        }
      ]
    },
    {
      "cell_type": "code",
      "source": [
        "t = 2 * (x - x.min())/(x.max() - x.min()) - 1\n",
        "show_imgs(t)"
      ],
      "metadata": {
        "colab": {
          "base_uri": "https://localhost:8080/",
          "height": 268
        },
        "id": "XHnE1u-RGo1A",
        "outputId": "1d3e2835-db4c-4d40-d233-0c39b57fa72f"
      },
      "execution_count": 80,
      "outputs": [
        {
          "output_type": "display_data",
          "data": {
            "text/plain": [
              "<Figure size 432x288 with 1 Axes>"
            ],
            "image/png": "[encoded data removed]"
          },
          "metadata": {
            "needs_background": "light"
          }
        }
      ]
    },
    {
      "cell_type": "code",
      "source": [
        ""
      ],
      "metadata": {
        "id": "njBRf-ecGM8v"
      },
      "execution_count": null,
      "outputs": []
    }
  ],
  "metadata": {
    "kernelspec": {
      "display_name": "Python 3",
      "language": "python",
      "name": "python3"
    },
    "language_info": {
      "codemirror_mode": {
        "name": "ipython",
        "version": 3
      },
      "file_extension": ".py",
      "mimetype": "text/x-python",
      "name": "python",
      "nbconvert_exporter": "python",
      "pygments_lexer": "ipython3",
      "version": "3.6.6"
    },
    "colab": {
      "name": "Копия блокнота \"Homework15_diffusion.ipynb\"",
      "provenance": [],
      "collapsed_sections": [],
      "include_colab_link": true
    },
    "accelerator": "GPU",
    "widgets": {
      "application/vnd.jupyter.widget-state+json": {
        "1aaf229ab7264b9fa6c52df621a50a3b": {
          "model_module": "@jupyter-widgets/controls",
          "model_name": "HBoxModel",
          "model_module_version": "1.5.0",
          "state": {
            "_dom_classes": [],
            "_model_module": "@jupyter-widgets/controls",
            "_model_module_version": "1.5.0",
            "_model_name": "HBoxModel",
            "_view_count": null,
            "_view_module": "@jupyter-widgets/controls",
            "_view_module_version": "1.5.0",
            "_view_name": "HBoxView",
            "box_style": "",
            "children": [
              "IPY_MODEL_3351dc2a9c2f499a8f6c7e6c845416fe",
              "IPY_MODEL_9729c9aa423b497284119119336d3c8f",
              "IPY_MODEL_002713ab80a440509c96ab08053b513f"
            ],
            "layout": "IPY_MODEL_cbbc75070dbc4f0da2e49111e8084c46"
          }
        },
        "3351dc2a9c2f499a8f6c7e6c845416fe": {
          "model_module": "@jupyter-widgets/controls",
          "model_name": "HTMLModel",
          "model_module_version": "1.5.0",
          "state": {
            "_dom_classes": [],
            "_model_module": "@jupyter-widgets/controls",
            "_model_module_version": "1.5.0",
            "_model_name": "HTMLModel",
            "_view_count": null,
            "_view_module": "@jupyter-widgets/controls",
            "_view_module_version": "1.5.0",
            "_view_name": "HTMLView",
            "description": "",
            "description_tooltip": null,
            "layout": "IPY_MODEL_0d15c5c2f2c54f568bb06a0e2a4cbef6",
            "placeholder": "​",
            "style": "IPY_MODEL_21d77e14f4b24576b634089e5f447216",
            "value": "100%"
          }
        },
        "9729c9aa423b497284119119336d3c8f": {
          "model_module": "@jupyter-widgets/controls",
          "model_name": "FloatProgressModel",
          "model_module_version": "1.5.0",
          "state": {
            "_dom_classes": [],
            "_model_module": "@jupyter-widgets/controls",
            "_model_module_version": "1.5.0",
            "_model_name": "FloatProgressModel",
            "_view_count": null,
            "_view_module": "@jupyter-widgets/controls",
            "_view_module_version": "1.5.0",
            "_view_name": "ProgressView",
            "bar_style": "success",
            "description": "",
            "description_tooltip": null,
            "layout": "IPY_MODEL_d7360075c37948829eb0e0a266370645",
            "max": 15,
            "min": 0,
            "orientation": "horizontal",
            "style": "IPY_MODEL_92d7b0dce97b4da68a614c6bc705e1c8",
            "value": 15
          }
        },
        "002713ab80a440509c96ab08053b513f": {
          "model_module": "@jupyter-widgets/controls",
          "model_name": "HTMLModel",
          "model_module_version": "1.5.0",
          "state": {
            "_dom_classes": [],
            "_model_module": "@jupyter-widgets/controls",
            "_model_module_version": "1.5.0",
            "_model_name": "HTMLModel",
            "_view_count": null,
            "_view_module": "@jupyter-widgets/controls",
            "_view_module_version": "1.5.0",
            "_view_name": "HTMLView",
            "description": "",
            "description_tooltip": null,
            "layout": "IPY_MODEL_05d43c7c98dd464dbc24b8e6e24dd120",
            "placeholder": "​",
            "style": "IPY_MODEL_7ce1d97f035948829bac3c29a5fce068",
            "value": " 15/15 [08:51&lt;00:00, 34.50s/it]"
          }
        },
        "cbbc75070dbc4f0da2e49111e8084c46": {
          "model_module": "@jupyter-widgets/base",
          "model_name": "LayoutModel",
          "model_module_version": "1.2.0",
          "state": {
            "_model_module": "@jupyter-widgets/base",
            "_model_module_version": "1.2.0",
            "_model_name": "LayoutModel",
            "_view_count": null,
            "_view_module": "@jupyter-widgets/base",
            "_view_module_version": "1.2.0",
            "_view_name": "LayoutView",
            "align_content": null,
            "align_items": null,
            "align_self": null,
            "border": null,
            "bottom": null,
            "display": null,
            "flex": null,
            "flex_flow": null,
            "grid_area": null,
            "grid_auto_columns": null,
            "grid_auto_flow": null,
            "grid_auto_rows": null,
            "grid_column": null,
            "grid_gap": null,
            "grid_row": null,
            "grid_template_areas": null,
            "grid_template_columns": null,
            "grid_template_rows": null,
            "height": null,
            "justify_content": null,
            "justify_items": null,
            "left": null,
            "margin": null,
            "max_height": null,
            "max_width": null,
            "min_height": null,
            "min_width": null,
            "object_fit": null,
            "object_position": null,
            "order": null,
            "overflow": null,
            "overflow_x": null,
            "overflow_y": null,
            "padding": null,
            "right": null,
            "top": null,
            "visibility": null,
            "width": null
          }
        },
        "0d15c5c2f2c54f568bb06a0e2a4cbef6": {
          "model_module": "@jupyter-widgets/base",
          "model_name": "LayoutModel",
          "model_module_version": "1.2.0",
          "state": {
            "_model_module": "@jupyter-widgets/base",
            "_model_module_version": "1.2.0",
            "_model_name": "LayoutModel",
            "_view_count": null,
            "_view_module": "@jupyter-widgets/base",
            "_view_module_version": "1.2.0",
            "_view_name": "LayoutView",
            "align_content": null,
            "align_items": null,
            "align_self": null,
            "border": null,
            "bottom": null,
            "display": null,
            "flex": null,
            "flex_flow": null,
            "grid_area": null,
            "grid_auto_columns": null,
            "grid_auto_flow": null,
            "grid_auto_rows": null,
            "grid_column": null,
            "grid_gap": null,
            "grid_row": null,
            "grid_template_areas": null,
            "grid_template_columns": null,
            "grid_template_rows": null,
            "height": null,
            "justify_content": null,
            "justify_items": null,
            "left": null,
            "margin": null,
            "max_height": null,
            "max_width": null,
            "min_height": null,
            "min_width": null,
            "object_fit": null,
            "object_position": null,
            "order": null,
            "overflow": null,
            "overflow_x": null,
            "overflow_y": null,
            "padding": null,
            "right": null,
            "top": null,
            "visibility": null,
            "width": null
          }
        },
        "21d77e14f4b24576b634089e5f447216": {
          "model_module": "@jupyter-widgets/controls",
          "model_name": "DescriptionStyleModel",
          "model_module_version": "1.5.0",
          "state": {
            "_model_module": "@jupyter-widgets/controls",
            "_model_module_version": "1.5.0",
            "_model_name": "DescriptionStyleModel",
            "_view_count": null,
            "_view_module": "@jupyter-widgets/base",
            "_view_module_version": "1.2.0",
            "_view_name": "StyleView",
            "description_width": ""
          }
        },
        "d7360075c37948829eb0e0a266370645": {
          "model_module": "@jupyter-widgets/base",
          "model_name": "LayoutModel",
          "model_module_version": "1.2.0",
          "state": {
            "_model_module": "@jupyter-widgets/base",
            "_model_module_version": "1.2.0",
            "_model_name": "LayoutModel",
            "_view_count": null,
            "_view_module": "@jupyter-widgets/base",
            "_view_module_version": "1.2.0",
            "_view_name": "LayoutView",
            "align_content": null,
            "align_items": null,
            "align_self": null,
            "border": null,
            "bottom": null,
            "display": null,
            "flex": null,
            "flex_flow": null,
            "grid_area": null,
            "grid_auto_columns": null,
            "grid_auto_flow": null,
            "grid_auto_rows": null,
            "grid_column": null,
            "grid_gap": null,
            "grid_row": null,
            "grid_template_areas": null,
            "grid_template_columns": null,
            "grid_template_rows": null,
            "height": null,
            "justify_content": null,
            "justify_items": null,
            "left": null,
            "margin": null,
            "max_height": null,
            "max_width": null,
            "min_height": null,
            "min_width": null,
            "object_fit": null,
            "object_position": null,
            "order": null,
            "overflow": null,
            "overflow_x": null,
            "overflow_y": null,
            "padding": null,
            "right": null,
            "top": null,
            "visibility": null,
            "width": null
          }
        },
        "92d7b0dce97b4da68a614c6bc705e1c8": {
          "model_module": "@jupyter-widgets/controls",
          "model_name": "ProgressStyleModel",
          "model_module_version": "1.5.0",
          "state": {
            "_model_module": "@jupyter-widgets/controls",
            "_model_module_version": "1.5.0",
            "_model_name": "ProgressStyleModel",
            "_view_count": null,
            "_view_module": "@jupyter-widgets/base",
            "_view_module_version": "1.2.0",
            "_view_name": "StyleView",
            "bar_color": null,
            "description_width": ""
          }
        },
        "05d43c7c98dd464dbc24b8e6e24dd120": {
          "model_module": "@jupyter-widgets/base",
          "model_name": "LayoutModel",
          "model_module_version": "1.2.0",
          "state": {
            "_model_module": "@jupyter-widgets/base",
            "_model_module_version": "1.2.0",
            "_model_name": "LayoutModel",
            "_view_count": null,
            "_view_module": "@jupyter-widgets/base",
            "_view_module_version": "1.2.0",
            "_view_name": "LayoutView",
            "align_content": null,
            "align_items": null,
            "align_self": null,
            "border": null,
            "bottom": null,
            "display": null,
            "flex": null,
            "flex_flow": null,
            "grid_area": null,
            "grid_auto_columns": null,
            "grid_auto_flow": null,
            "grid_auto_rows": null,
            "grid_column": null,
            "grid_gap": null,
            "grid_row": null,
            "grid_template_areas": null,
            "grid_template_columns": null,
            "grid_template_rows": null,
            "height": null,
            "justify_content": null,
            "justify_items": null,
            "left": null,
            "margin": null,
            "max_height": null,
            "max_width": null,
            "min_height": null,
            "min_width": null,
            "object_fit": null,
            "object_position": null,
            "order": null,
            "overflow": null,
            "overflow_x": null,
            "overflow_y": null,
            "padding": null,
            "right": null,
            "top": null,
            "visibility": null,
            "width": null
          }
        },
        "7ce1d97f035948829bac3c29a5fce068": {
          "model_module": "@jupyter-widgets/controls",
          "model_name": "DescriptionStyleModel",
          "model_module_version": "1.5.0",
          "state": {
            "_model_module": "@jupyter-widgets/controls",
            "_model_module_version": "1.5.0",
            "_model_name": "DescriptionStyleModel",
            "_view_count": null,
            "_view_module": "@jupyter-widgets/base",
            "_view_module_version": "1.2.0",
            "_view_name": "StyleView",
            "description_width": ""
          }
        },
        "649ef0c017bd45fc85ac52691f95e7c0": {
          "model_module": "@jupyter-widgets/controls",
          "model_name": "HBoxModel",
          "model_module_version": "1.5.0",
          "state": {
            "_dom_classes": [],
            "_model_module": "@jupyter-widgets/controls",
            "_model_module_version": "1.5.0",
            "_model_name": "HBoxModel",
            "_view_count": null,
            "_view_module": "@jupyter-widgets/controls",
            "_view_module_version": "1.5.0",
            "_view_name": "HBoxView",
            "box_style": "",
            "children": [
              "IPY_MODEL_35d7e162466245f4b2193472192a259f",
              "IPY_MODEL_7446bd1a38c44148b6ece6dcb6c0e2d8",
              "IPY_MODEL_fb1b39556d6a436986f377b6c74cc4da"
            ],
            "layout": "IPY_MODEL_7e066f3761f447f9b9c144826d26a7c7"
          }
        },
        "35d7e162466245f4b2193472192a259f": {
          "model_module": "@jupyter-widgets/controls",
          "model_name": "HTMLModel",
          "model_module_version": "1.5.0",
          "state": {
            "_dom_classes": [],
            "_model_module": "@jupyter-widgets/controls",
            "_model_module_version": "1.5.0",
            "_model_name": "HTMLModel",
            "_view_count": null,
            "_view_module": "@jupyter-widgets/controls",
            "_view_module_version": "1.5.0",
            "_view_name": "HTMLView",
            "description": "",
            "description_tooltip": null,
            "layout": "IPY_MODEL_a28c527a0aa54de5b509904f1cc3cdeb",
            "placeholder": "​",
            "style": "IPY_MODEL_1f65883d1625428ebee14fee7868e2f9",
            "value": "100%"
          }
        },
        "7446bd1a38c44148b6ece6dcb6c0e2d8": {
          "model_module": "@jupyter-widgets/controls",
          "model_name": "FloatProgressModel",
          "model_module_version": "1.5.0",
          "state": {
            "_dom_classes": [],
            "_model_module": "@jupyter-widgets/controls",
            "_model_module_version": "1.5.0",
            "_model_name": "FloatProgressModel",
            "_view_count": null,
            "_view_module": "@jupyter-widgets/controls",
            "_view_module_version": "1.5.0",
            "_view_name": "ProgressView",
            "bar_style": "success",
            "description": "",
            "description_tooltip": null,
            "layout": "IPY_MODEL_1f2b446e98f34b1db9f869f7c3eec54c",
            "max": 1000,
            "min": 0,
            "orientation": "horizontal",
            "style": "IPY_MODEL_e90d52e3c93c4b7b9a014573fd9868ca",
            "value": 1000
          }
        },
        "fb1b39556d6a436986f377b6c74cc4da": {
          "model_module": "@jupyter-widgets/controls",
          "model_name": "HTMLModel",
          "model_module_version": "1.5.0",
          "state": {
            "_dom_classes": [],
            "_model_module": "@jupyter-widgets/controls",
            "_model_module_version": "1.5.0",
            "_model_name": "HTMLModel",
            "_view_count": null,
            "_view_module": "@jupyter-widgets/controls",
            "_view_module_version": "1.5.0",
            "_view_name": "HTMLView",
            "description": "",
            "description_tooltip": null,
            "layout": "IPY_MODEL_c272e52c61074c3981fdbd49cef27815",
            "placeholder": "​",
            "style": "IPY_MODEL_36f5f805a936430e93d017979c85867f",
            "value": " 1000/1000 [00:19&lt;00:00, 52.02it/s]"
          }
        },
        "7e066f3761f447f9b9c144826d26a7c7": {
          "model_module": "@jupyter-widgets/base",
          "model_name": "LayoutModel",
          "model_module_version": "1.2.0",
          "state": {
            "_model_module": "@jupyter-widgets/base",
            "_model_module_version": "1.2.0",
            "_model_name": "LayoutModel",
            "_view_count": null,
            "_view_module": "@jupyter-widgets/base",
            "_view_module_version": "1.2.0",
            "_view_name": "LayoutView",
            "align_content": null,
            "align_items": null,
            "align_self": null,
            "border": null,
            "bottom": null,
            "display": null,
            "flex": null,
            "flex_flow": null,
            "grid_area": null,
            "grid_auto_columns": null,
            "grid_auto_flow": null,
            "grid_auto_rows": null,
            "grid_column": null,
            "grid_gap": null,
            "grid_row": null,
            "grid_template_areas": null,
            "grid_template_columns": null,
            "grid_template_rows": null,
            "height": null,
            "justify_content": null,
            "justify_items": null,
            "left": null,
            "margin": null,
            "max_height": null,
            "max_width": null,
            "min_height": null,
            "min_width": null,
            "object_fit": null,
            "object_position": null,
            "order": null,
            "overflow": null,
            "overflow_x": null,
            "overflow_y": null,
            "padding": null,
            "right": null,
            "top": null,
            "visibility": null,
            "width": null
          }
        },
        "a28c527a0aa54de5b509904f1cc3cdeb": {
          "model_module": "@jupyter-widgets/base",
          "model_name": "LayoutModel",
          "model_module_version": "1.2.0",
          "state": {
            "_model_module": "@jupyter-widgets/base",
            "_model_module_version": "1.2.0",
            "_model_name": "LayoutModel",
            "_view_count": null,
            "_view_module": "@jupyter-widgets/base",
            "_view_module_version": "1.2.0",
            "_view_name": "LayoutView",
            "align_content": null,
            "align_items": null,
            "align_self": null,
            "border": null,
            "bottom": null,
            "display": null,
            "flex": null,
            "flex_flow": null,
            "grid_area": null,
            "grid_auto_columns": null,
            "grid_auto_flow": null,
            "grid_auto_rows": null,
            "grid_column": null,
            "grid_gap": null,
            "grid_row": null,
            "grid_template_areas": null,
            "grid_template_columns": null,
            "grid_template_rows": null,
            "height": null,
            "justify_content": null,
            "justify_items": null,
            "left": null,
            "margin": null,
            "max_height": null,
            "max_width": null,
            "min_height": null,
            "min_width": null,
            "object_fit": null,
            "object_position": null,
            "order": null,
            "overflow": null,
            "overflow_x": null,
            "overflow_y": null,
            "padding": null,
            "right": null,
            "top": null,
            "visibility": null,
            "width": null
          }
        },
        "1f65883d1625428ebee14fee7868e2f9": {
          "model_module": "@jupyter-widgets/controls",
          "model_name": "DescriptionStyleModel",
          "model_module_version": "1.5.0",
          "state": {
            "_model_module": "@jupyter-widgets/controls",
            "_model_module_version": "1.5.0",
            "_model_name": "DescriptionStyleModel",
            "_view_count": null,
            "_view_module": "@jupyter-widgets/base",
            "_view_module_version": "1.2.0",
            "_view_name": "StyleView",
            "description_width": ""
          }
        },
        "1f2b446e98f34b1db9f869f7c3eec54c": {
          "model_module": "@jupyter-widgets/base",
          "model_name": "LayoutModel",
          "model_module_version": "1.2.0",
          "state": {
            "_model_module": "@jupyter-widgets/base",
            "_model_module_version": "1.2.0",
            "_model_name": "LayoutModel",
            "_view_count": null,
            "_view_module": "@jupyter-widgets/base",
            "_view_module_version": "1.2.0",
            "_view_name": "LayoutView",
            "align_content": null,
            "align_items": null,
            "align_self": null,
            "border": null,
            "bottom": null,
            "display": null,
            "flex": null,
            "flex_flow": null,
            "grid_area": null,
            "grid_auto_columns": null,
            "grid_auto_flow": null,
            "grid_auto_rows": null,
            "grid_column": null,
            "grid_gap": null,
            "grid_row": null,
            "grid_template_areas": null,
            "grid_template_columns": null,
            "grid_template_rows": null,
            "height": null,
            "justify_content": null,
            "justify_items": null,
            "left": null,
            "margin": null,
            "max_height": null,
            "max_width": null,
            "min_height": null,
            "min_width": null,
            "object_fit": null,
            "object_position": null,
            "order": null,
            "overflow": null,
            "overflow_x": null,
            "overflow_y": null,
            "padding": null,
            "right": null,
            "top": null,
            "visibility": null,
            "width": null
          }
        },
        "e90d52e3c93c4b7b9a014573fd9868ca": {
          "model_module": "@jupyter-widgets/controls",
          "model_name": "ProgressStyleModel",
          "model_module_version": "1.5.0",
          "state": {
            "_model_module": "@jupyter-widgets/controls",
            "_model_module_version": "1.5.0",
            "_model_name": "ProgressStyleModel",
            "_view_count": null,
            "_view_module": "@jupyter-widgets/base",
            "_view_module_version": "1.2.0",
            "_view_name": "StyleView",
            "bar_color": null,
            "description_width": ""
          }
        },
        "c272e52c61074c3981fdbd49cef27815": {
          "model_module": "@jupyter-widgets/base",
          "model_name": "LayoutModel",
          "model_module_version": "1.2.0",
          "state": {
            "_model_module": "@jupyter-widgets/base",
            "_model_module_version": "1.2.0",
            "_model_name": "LayoutModel",
            "_view_count": null,
            "_view_module": "@jupyter-widgets/base",
            "_view_module_version": "1.2.0",
            "_view_name": "LayoutView",
            "align_content": null,
            "align_items": null,
            "align_self": null,
            "border": null,
            "bottom": null,
            "display": null,
            "flex": null,
            "flex_flow": null,
            "grid_area": null,
            "grid_auto_columns": null,
            "grid_auto_flow": null,
            "grid_auto_rows": null,
            "grid_column": null,
            "grid_gap": null,
            "grid_row": null,
            "grid_template_areas": null,
            "grid_template_columns": null,
            "grid_template_rows": null,
            "height": null,
            "justify_content": null,
            "justify_items": null,
            "left": null,
            "margin": null,
            "max_height": null,
            "max_width": null,
            "min_height": null,
            "min_width": null,
            "object_fit": null,
            "object_position": null,
            "order": null,
            "overflow": null,
            "overflow_x": null,
            "overflow_y": null,
            "padding": null,
            "right": null,
            "top": null,
            "visibility": null,
            "width": null
          }
        },
        "36f5f805a936430e93d017979c85867f": {
          "model_module": "@jupyter-widgets/controls",
          "model_name": "DescriptionStyleModel",
          "model_module_version": "1.5.0",
          "state": {
            "_model_module": "@jupyter-widgets/controls",
            "_model_module_version": "1.5.0",
            "_model_name": "DescriptionStyleModel",
            "_view_count": null,
            "_view_module": "@jupyter-widgets/base",
            "_view_module_version": "1.2.0",
            "_view_name": "StyleView",
            "description_width": ""
          }
        },
        "c1575f36ff254145b8bfa7f7ee2d89bc": {
          "model_module": "@jupyter-widgets/controls",
          "model_name": "HBoxModel",
          "model_module_version": "1.5.0",
          "state": {
            "_dom_classes": [],
            "_model_module": "@jupyter-widgets/controls",
            "_model_module_version": "1.5.0",
            "_model_name": "HBoxModel",
            "_view_count": null,
            "_view_module": "@jupyter-widgets/controls",
            "_view_module_version": "1.5.0",
            "_view_name": "HBoxView",
            "box_style": "",
            "children": [
              "IPY_MODEL_e737871a19824b59903b92f6c51644e6",
              "IPY_MODEL_378859263aa943a28c630b28298d2ec4",
              "IPY_MODEL_1acd9af4f81748ba8fb36386bf5726cf"
            ],
            "layout": "IPY_MODEL_c0ac39677cbb409bbeacbf464d290396"
          }
        },
        "e737871a19824b59903b92f6c51644e6": {
          "model_module": "@jupyter-widgets/controls",
          "model_name": "HTMLModel",
          "model_module_version": "1.5.0",
          "state": {
            "_dom_classes": [],
            "_model_module": "@jupyter-widgets/controls",
            "_model_module_version": "1.5.0",
            "_model_name": "HTMLModel",
            "_view_count": null,
            "_view_module": "@jupyter-widgets/controls",
            "_view_module_version": "1.5.0",
            "_view_name": "HTMLView",
            "description": "",
            "description_tooltip": null,
            "layout": "IPY_MODEL_70908fab490f439a8ff372b2a63c5bb3",
            "placeholder": "​",
            "style": "IPY_MODEL_7bff208c6e434d3ebb52ea81b9d286ea",
            "value": "Classificator training: 100%"
          }
        },
        "378859263aa943a28c630b28298d2ec4": {
          "model_module": "@jupyter-widgets/controls",
          "model_name": "FloatProgressModel",
          "model_module_version": "1.5.0",
          "state": {
            "_dom_classes": [],
            "_model_module": "@jupyter-widgets/controls",
            "_model_module_version": "1.5.0",
            "_model_name": "FloatProgressModel",
            "_view_count": null,
            "_view_module": "@jupyter-widgets/controls",
            "_view_module_version": "1.5.0",
            "_view_name": "ProgressView",
            "bar_style": "success",
            "description": "",
            "description_tooltip": null,
            "layout": "IPY_MODEL_e8cfaafc75f74159a7609b8ee3d8f6b6",
            "max": 20,
            "min": 0,
            "orientation": "horizontal",
            "style": "IPY_MODEL_03d56e7f3fdd40f581f136e9f7b01725",
            "value": 20
          }
        },
        "1acd9af4f81748ba8fb36386bf5726cf": {
          "model_module": "@jupyter-widgets/controls",
          "model_name": "HTMLModel",
          "model_module_version": "1.5.0",
          "state": {
            "_dom_classes": [],
            "_model_module": "@jupyter-widgets/controls",
            "_model_module_version": "1.5.0",
            "_model_name": "HTMLModel",
            "_view_count": null,
            "_view_module": "@jupyter-widgets/controls",
            "_view_module_version": "1.5.0",
            "_view_name": "HTMLView",
            "description": "",
            "description_tooltip": null,
            "layout": "IPY_MODEL_a915eb451f8744efbb479b772106baa7",
            "placeholder": "​",
            "style": "IPY_MODEL_11392f21cdab4245ae3a93c27a9a2d14",
            "value": " 20/20 [03:48&lt;00:00, 11.34s/it]"
          }
        },
        "c0ac39677cbb409bbeacbf464d290396": {
          "model_module": "@jupyter-widgets/base",
          "model_name": "LayoutModel",
          "model_module_version": "1.2.0",
          "state": {
            "_model_module": "@jupyter-widgets/base",
            "_model_module_version": "1.2.0",
            "_model_name": "LayoutModel",
            "_view_count": null,
            "_view_module": "@jupyter-widgets/base",
            "_view_module_version": "1.2.0",
            "_view_name": "LayoutView",
            "align_content": null,
            "align_items": null,
            "align_self": null,
            "border": null,
            "bottom": null,
            "display": null,
            "flex": null,
            "flex_flow": null,
            "grid_area": null,
            "grid_auto_columns": null,
            "grid_auto_flow": null,
            "grid_auto_rows": null,
            "grid_column": null,
            "grid_gap": null,
            "grid_row": null,
            "grid_template_areas": null,
            "grid_template_columns": null,
            "grid_template_rows": null,
            "height": null,
            "justify_content": null,
            "justify_items": null,
            "left": null,
            "margin": null,
            "max_height": null,
            "max_width": null,
            "min_height": null,
            "min_width": null,
            "object_fit": null,
            "object_position": null,
            "order": null,
            "overflow": null,
            "overflow_x": null,
            "overflow_y": null,
            "padding": null,
            "right": null,
            "top": null,
            "visibility": null,
            "width": null
          }
        },
        "70908fab490f439a8ff372b2a63c5bb3": {
          "model_module": "@jupyter-widgets/base",
          "model_name": "LayoutModel",
          "model_module_version": "1.2.0",
          "state": {
            "_model_module": "@jupyter-widgets/base",
            "_model_module_version": "1.2.0",
            "_model_name": "LayoutModel",
            "_view_count": null,
            "_view_module": "@jupyter-widgets/base",
            "_view_module_version": "1.2.0",
            "_view_name": "LayoutView",
            "align_content": null,
            "align_items": null,
            "align_self": null,
            "border": null,
            "bottom": null,
            "display": null,
            "flex": null,
            "flex_flow": null,
            "grid_area": null,
            "grid_auto_columns": null,
            "grid_auto_flow": null,
            "grid_auto_rows": null,
            "grid_column": null,
            "grid_gap": null,
            "grid_row": null,
            "grid_template_areas": null,
            "grid_template_columns": null,
            "grid_template_rows": null,
            "height": null,
            "justify_content": null,
            "justify_items": null,
            "left": null,
            "margin": null,
            "max_height": null,
            "max_width": null,
            "min_height": null,
            "min_width": null,
            "object_fit": null,
            "object_position": null,
            "order": null,
            "overflow": null,
            "overflow_x": null,
            "overflow_y": null,
            "padding": null,
            "right": null,
            "top": null,
            "visibility": null,
            "width": null
          }
        },
        "7bff208c6e434d3ebb52ea81b9d286ea": {
          "model_module": "@jupyter-widgets/controls",
          "model_name": "DescriptionStyleModel",
          "model_module_version": "1.5.0",
          "state": {
            "_model_module": "@jupyter-widgets/controls",
            "_model_module_version": "1.5.0",
            "_model_name": "DescriptionStyleModel",
            "_view_count": null,
            "_view_module": "@jupyter-widgets/base",
            "_view_module_version": "1.2.0",
            "_view_name": "StyleView",
            "description_width": ""
          }
        },
        "e8cfaafc75f74159a7609b8ee3d8f6b6": {
          "model_module": "@jupyter-widgets/base",
          "model_name": "LayoutModel",
          "model_module_version": "1.2.0",
          "state": {
            "_model_module": "@jupyter-widgets/base",
            "_model_module_version": "1.2.0",
            "_model_name": "LayoutModel",
            "_view_count": null,
            "_view_module": "@jupyter-widgets/base",
            "_view_module_version": "1.2.0",
            "_view_name": "LayoutView",
            "align_content": null,
            "align_items": null,
            "align_self": null,
            "border": null,
            "bottom": null,
            "display": null,
            "flex": null,
            "flex_flow": null,
            "grid_area": null,
            "grid_auto_columns": null,
            "grid_auto_flow": null,
            "grid_auto_rows": null,
            "grid_column": null,
            "grid_gap": null,
            "grid_row": null,
            "grid_template_areas": null,
            "grid_template_columns": null,
            "grid_template_rows": null,
            "height": null,
            "justify_content": null,
            "justify_items": null,
            "left": null,
            "margin": null,
            "max_height": null,
            "max_width": null,
            "min_height": null,
            "min_width": null,
            "object_fit": null,
            "object_position": null,
            "order": null,
            "overflow": null,
            "overflow_x": null,
            "overflow_y": null,
            "padding": null,
            "right": null,
            "top": null,
            "visibility": null,
            "width": null
          }
        },
        "03d56e7f3fdd40f581f136e9f7b01725": {
          "model_module": "@jupyter-widgets/controls",
          "model_name": "ProgressStyleModel",
          "model_module_version": "1.5.0",
          "state": {
            "_model_module": "@jupyter-widgets/controls",
            "_model_module_version": "1.5.0",
            "_model_name": "ProgressStyleModel",
            "_view_count": null,
            "_view_module": "@jupyter-widgets/base",
            "_view_module_version": "1.2.0",
            "_view_name": "StyleView",
            "bar_color": null,
            "description_width": ""
          }
        },
        "a915eb451f8744efbb479b772106baa7": {
          "model_module": "@jupyter-widgets/base",
          "model_name": "LayoutModel",
          "model_module_version": "1.2.0",
          "state": {
            "_model_module": "@jupyter-widgets/base",
            "_model_module_version": "1.2.0",
            "_model_name": "LayoutModel",
            "_view_count": null,
            "_view_module": "@jupyter-widgets/base",
            "_view_module_version": "1.2.0",
            "_view_name": "LayoutView",
            "align_content": null,
            "align_items": null,
            "align_self": null,
            "border": null,
            "bottom": null,
            "display": null,
            "flex": null,
            "flex_flow": null,
            "grid_area": null,
            "grid_auto_columns": null,
            "grid_auto_flow": null,
            "grid_auto_rows": null,
            "grid_column": null,
            "grid_gap": null,
            "grid_row": null,
            "grid_template_areas": null,
            "grid_template_columns": null,
            "grid_template_rows": null,
            "height": null,
            "justify_content": null,
            "justify_items": null,
            "left": null,
            "margin": null,
            "max_height": null,
            "max_width": null,
            "min_height": null,
            "min_width": null,
            "object_fit": null,
            "object_position": null,
            "order": null,
            "overflow": null,
            "overflow_x": null,
            "overflow_y": null,
            "padding": null,
            "right": null,
            "top": null,
            "visibility": null,
            "width": null
          }
        },
        "11392f21cdab4245ae3a93c27a9a2d14": {
          "model_module": "@jupyter-widgets/controls",
          "model_name": "DescriptionStyleModel",
          "model_module_version": "1.5.0",
          "state": {
            "_model_module": "@jupyter-widgets/controls",
            "_model_module_version": "1.5.0",
            "_model_name": "DescriptionStyleModel",
            "_view_count": null,
            "_view_module": "@jupyter-widgets/base",
            "_view_module_version": "1.2.0",
            "_view_name": "StyleView",
            "description_width": ""
          }
        },
        "7756ca8f78754a2f9c7074126870ce24": {
          "model_module": "@jupyter-widgets/controls",
          "model_name": "HBoxModel",
          "model_module_version": "1.5.0",
          "state": {
            "_dom_classes": [],
            "_model_module": "@jupyter-widgets/controls",
            "_model_module_version": "1.5.0",
            "_model_name": "HBoxModel",
            "_view_count": null,
            "_view_module": "@jupyter-widgets/controls",
            "_view_module_version": "1.5.0",
            "_view_name": "HBoxView",
            "box_style": "",
            "children": [
              "IPY_MODEL_c15745043b3848cfab31ca041ef07a59",
              "IPY_MODEL_dd5f9f7877c54819bf56568b35a1e92b",
              "IPY_MODEL_c63b54cd0684457f8291f70ec0d78c6d"
            ],
            "layout": "IPY_MODEL_fca061f69bf244659d77a149eef66082"
          }
        },
        "c15745043b3848cfab31ca041ef07a59": {
          "model_module": "@jupyter-widgets/controls",
          "model_name": "HTMLModel",
          "model_module_version": "1.5.0",
          "state": {
            "_dom_classes": [],
            "_model_module": "@jupyter-widgets/controls",
            "_model_module_version": "1.5.0",
            "_model_name": "HTMLModel",
            "_view_count": null,
            "_view_module": "@jupyter-widgets/controls",
            "_view_module_version": "1.5.0",
            "_view_name": "HTMLView",
            "description": "",
            "description_tooltip": null,
            "layout": "IPY_MODEL_f6af9ec4e0264d9e84922552ec2d1a32",
            "placeholder": "​",
            "style": "IPY_MODEL_1bdd35f9ab1a4799a7c6e92dbb73a490",
            "value": "100%"
          }
        },
        "dd5f9f7877c54819bf56568b35a1e92b": {
          "model_module": "@jupyter-widgets/controls",
          "model_name": "FloatProgressModel",
          "model_module_version": "1.5.0",
          "state": {
            "_dom_classes": [],
            "_model_module": "@jupyter-widgets/controls",
            "_model_module_version": "1.5.0",
            "_model_name": "FloatProgressModel",
            "_view_count": null,
            "_view_module": "@jupyter-widgets/controls",
            "_view_module_version": "1.5.0",
            "_view_name": "ProgressView",
            "bar_style": "success",
            "description": "",
            "description_tooltip": null,
            "layout": "IPY_MODEL_cd82fce5fca846a39a043fd77eff1749",
            "max": 15,
            "min": 0,
            "orientation": "horizontal",
            "style": "IPY_MODEL_c10b97ada03949a09a96744ae2180b25",
            "value": 15
          }
        },
        "c63b54cd0684457f8291f70ec0d78c6d": {
          "model_module": "@jupyter-widgets/controls",
          "model_name": "HTMLModel",
          "model_module_version": "1.5.0",
          "state": {
            "_dom_classes": [],
            "_model_module": "@jupyter-widgets/controls",
            "_model_module_version": "1.5.0",
            "_model_name": "HTMLModel",
            "_view_count": null,
            "_view_module": "@jupyter-widgets/controls",
            "_view_module_version": "1.5.0",
            "_view_name": "HTMLView",
            "description": "",
            "description_tooltip": null,
            "layout": "IPY_MODEL_d6541a5a5ee146119d74cd68a6578484",
            "placeholder": "​",
            "style": "IPY_MODEL_db2541ae6aa644acb6e7998a19059bd5",
            "value": " 15/15 [08:21&lt;00:00, 33.35s/it]"
          }
        },
        "fca061f69bf244659d77a149eef66082": {
          "model_module": "@jupyter-widgets/base",
          "model_name": "LayoutModel",
          "model_module_version": "1.2.0",
          "state": {
            "_model_module": "@jupyter-widgets/base",
            "_model_module_version": "1.2.0",
            "_model_name": "LayoutModel",
            "_view_count": null,
            "_view_module": "@jupyter-widgets/base",
            "_view_module_version": "1.2.0",
            "_view_name": "LayoutView",
            "align_content": null,
            "align_items": null,
            "align_self": null,
            "border": null,
            "bottom": null,
            "display": null,
            "flex": null,
            "flex_flow": null,
            "grid_area": null,
            "grid_auto_columns": null,
            "grid_auto_flow": null,
            "grid_auto_rows": null,
            "grid_column": null,
            "grid_gap": null,
            "grid_row": null,
            "grid_template_areas": null,
            "grid_template_columns": null,
            "grid_template_rows": null,
            "height": null,
            "justify_content": null,
            "justify_items": null,
            "left": null,
            "margin": null,
            "max_height": null,
            "max_width": null,
            "min_height": null,
            "min_width": null,
            "object_fit": null,
            "object_position": null,
            "order": null,
            "overflow": null,
            "overflow_x": null,
            "overflow_y": null,
            "padding": null,
            "right": null,
            "top": null,
            "visibility": null,
            "width": null
          }
        },
        "f6af9ec4e0264d9e84922552ec2d1a32": {
          "model_module": "@jupyter-widgets/base",
          "model_name": "LayoutModel",
          "model_module_version": "1.2.0",
          "state": {
            "_model_module": "@jupyter-widgets/base",
            "_model_module_version": "1.2.0",
            "_model_name": "LayoutModel",
            "_view_count": null,
            "_view_module": "@jupyter-widgets/base",
            "_view_module_version": "1.2.0",
            "_view_name": "LayoutView",
            "align_content": null,
            "align_items": null,
            "align_self": null,
            "border": null,
            "bottom": null,
            "display": null,
            "flex": null,
            "flex_flow": null,
            "grid_area": null,
            "grid_auto_columns": null,
            "grid_auto_flow": null,
            "grid_auto_rows": null,
            "grid_column": null,
            "grid_gap": null,
            "grid_row": null,
            "grid_template_areas": null,
            "grid_template_columns": null,
            "grid_template_rows": null,
            "height": null,
            "justify_content": null,
            "justify_items": null,
            "left": null,
            "margin": null,
            "max_height": null,
            "max_width": null,
            "min_height": null,
            "min_width": null,
            "object_fit": null,
            "object_position": null,
            "order": null,
            "overflow": null,
            "overflow_x": null,
            "overflow_y": null,
            "padding": null,
            "right": null,
            "top": null,
            "visibility": null,
            "width": null
          }
        },
        "1bdd35f9ab1a4799a7c6e92dbb73a490": {
          "model_module": "@jupyter-widgets/controls",
          "model_name": "DescriptionStyleModel",
          "model_module_version": "1.5.0",
          "state": {
            "_model_module": "@jupyter-widgets/controls",
            "_model_module_version": "1.5.0",
            "_model_name": "DescriptionStyleModel",
            "_view_count": null,
            "_view_module": "@jupyter-widgets/base",
            "_view_module_version": "1.2.0",
            "_view_name": "StyleView",
            "description_width": ""
          }
        },
        "cd82fce5fca846a39a043fd77eff1749": {
          "model_module": "@jupyter-widgets/base",
          "model_name": "LayoutModel",
          "model_module_version": "1.2.0",
          "state": {
            "_model_module": "@jupyter-widgets/base",
            "_model_module_version": "1.2.0",
            "_model_name": "LayoutModel",
            "_view_count": null,
            "_view_module": "@jupyter-widgets/base",
            "_view_module_version": "1.2.0",
            "_view_name": "LayoutView",
            "align_content": null,
            "align_items": null,
            "align_self": null,
            "border": null,
            "bottom": null,
            "display": null,
            "flex": null,
            "flex_flow": null,
            "grid_area": null,
            "grid_auto_columns": null,
            "grid_auto_flow": null,
            "grid_auto_rows": null,
            "grid_column": null,
            "grid_gap": null,
            "grid_row": null,
            "grid_template_areas": null,
            "grid_template_columns": null,
            "grid_template_rows": null,
            "height": null,
            "justify_content": null,
            "justify_items": null,
            "left": null,
            "margin": null,
            "max_height": null,
            "max_width": null,
            "min_height": null,
            "min_width": null,
            "object_fit": null,
            "object_position": null,
            "order": null,
            "overflow": null,
            "overflow_x": null,
            "overflow_y": null,
            "padding": null,
            "right": null,
            "top": null,
            "visibility": null,
            "width": null
          }
        },
        "c10b97ada03949a09a96744ae2180b25": {
          "model_module": "@jupyter-widgets/controls",
          "model_name": "ProgressStyleModel",
          "model_module_version": "1.5.0",
          "state": {
            "_model_module": "@jupyter-widgets/controls",
            "_model_module_version": "1.5.0",
            "_model_name": "ProgressStyleModel",
            "_view_count": null,
            "_view_module": "@jupyter-widgets/base",
            "_view_module_version": "1.2.0",
            "_view_name": "StyleView",
            "bar_color": null,
            "description_width": ""
          }
        },
        "d6541a5a5ee146119d74cd68a6578484": {
          "model_module": "@jupyter-widgets/base",
          "model_name": "LayoutModel",
          "model_module_version": "1.2.0",
          "state": {
            "_model_module": "@jupyter-widgets/base",
            "_model_module_version": "1.2.0",
            "_model_name": "LayoutModel",
            "_view_count": null,
            "_view_module": "@jupyter-widgets/base",
            "_view_module_version": "1.2.0",
            "_view_name": "LayoutView",
            "align_content": null,
            "align_items": null,
            "align_self": null,
            "border": null,
            "bottom": null,
            "display": null,
            "flex": null,
            "flex_flow": null,
            "grid_area": null,
            "grid_auto_columns": null,
            "grid_auto_flow": null,
            "grid_auto_rows": null,
            "grid_column": null,
            "grid_gap": null,
            "grid_row": null,
            "grid_template_areas": null,
            "grid_template_columns": null,
            "grid_template_rows": null,
            "height": null,
            "justify_content": null,
            "justify_items": null,
            "left": null,
            "margin": null,
            "max_height": null,
            "max_width": null,
            "min_height": null,
            "min_width": null,
            "object_fit": null,
            "object_position": null,
            "order": null,
            "overflow": null,
            "overflow_x": null,
            "overflow_y": null,
            "padding": null,
            "right": null,
            "top": null,
            "visibility": null,
            "width": null
          }
        },
        "db2541ae6aa644acb6e7998a19059bd5": {
          "model_module": "@jupyter-widgets/controls",
          "model_name": "DescriptionStyleModel",
          "model_module_version": "1.5.0",
          "state": {
            "_model_module": "@jupyter-widgets/controls",
            "_model_module_version": "1.5.0",
            "_model_name": "DescriptionStyleModel",
            "_view_count": null,
            "_view_module": "@jupyter-widgets/base",
            "_view_module_version": "1.2.0",
            "_view_name": "StyleView",
            "description_width": ""
          }
        },
        "311a65d0c1844398a2d5860cb780bc21": {
          "model_module": "@jupyter-widgets/controls",
          "model_name": "HBoxModel",
          "model_module_version": "1.5.0",
          "state": {
            "_dom_classes": [],
            "_model_module": "@jupyter-widgets/controls",
            "_model_module_version": "1.5.0",
            "_model_name": "HBoxModel",
            "_view_count": null,
            "_view_module": "@jupyter-widgets/controls",
            "_view_module_version": "1.5.0",
            "_view_name": "HBoxView",
            "box_style": "",
            "children": [
              "IPY_MODEL_16dc4499afec4be3bcb48fe695cdbc93",
              "IPY_MODEL_0387789f36e24f188bf74cd9e11b6e0f",
              "IPY_MODEL_3d284fb70f3d4faaa955181a55ee90ae"
            ],
            "layout": "IPY_MODEL_f954f3f45ed24bc8a05aaecd6a904908"
          }
        },
        "16dc4499afec4be3bcb48fe695cdbc93": {
          "model_module": "@jupyter-widgets/controls",
          "model_name": "HTMLModel",
          "model_module_version": "1.5.0",
          "state": {
            "_dom_classes": [],
            "_model_module": "@jupyter-widgets/controls",
            "_model_module_version": "1.5.0",
            "_model_name": "HTMLModel",
            "_view_count": null,
            "_view_module": "@jupyter-widgets/controls",
            "_view_module_version": "1.5.0",
            "_view_name": "HTMLView",
            "description": "",
            "description_tooltip": null,
            "layout": "IPY_MODEL_a5b032dc421640e4871a90d4afd99582",
            "placeholder": "​",
            "style": "IPY_MODEL_46eea017380846c9848cb3b0b45eb451",
            "value": "100%"
          }
        },
        "0387789f36e24f188bf74cd9e11b6e0f": {
          "model_module": "@jupyter-widgets/controls",
          "model_name": "FloatProgressModel",
          "model_module_version": "1.5.0",
          "state": {
            "_dom_classes": [],
            "_model_module": "@jupyter-widgets/controls",
            "_model_module_version": "1.5.0",
            "_model_name": "FloatProgressModel",
            "_view_count": null,
            "_view_module": "@jupyter-widgets/controls",
            "_view_module_version": "1.5.0",
            "_view_name": "ProgressView",
            "bar_style": "success",
            "description": "",
            "description_tooltip": null,
            "layout": "IPY_MODEL_4248d851af424cf98985de3af715c00d",
            "max": 1000,
            "min": 0,
            "orientation": "horizontal",
            "style": "IPY_MODEL_01aa91bd40b444759821ef74bccde422",
            "value": 1000
          }
        },
        "3d284fb70f3d4faaa955181a55ee90ae": {
          "model_module": "@jupyter-widgets/controls",
          "model_name": "HTMLModel",
          "model_module_version": "1.5.0",
          "state": {
            "_dom_classes": [],
            "_model_module": "@jupyter-widgets/controls",
            "_model_module_version": "1.5.0",
            "_model_name": "HTMLModel",
            "_view_count": null,
            "_view_module": "@jupyter-widgets/controls",
            "_view_module_version": "1.5.0",
            "_view_name": "HTMLView",
            "description": "",
            "description_tooltip": null,
            "layout": "IPY_MODEL_4dea133901a747378661e40726331e4b",
            "placeholder": "​",
            "style": "IPY_MODEL_df23c05a2f4045f3af0fb355c9357081",
            "value": " 1000/1000 [00:22&lt;00:00, 45.62it/s]"
          }
        },
        "f954f3f45ed24bc8a05aaecd6a904908": {
          "model_module": "@jupyter-widgets/base",
          "model_name": "LayoutModel",
          "model_module_version": "1.2.0",
          "state": {
            "_model_module": "@jupyter-widgets/base",
            "_model_module_version": "1.2.0",
            "_model_name": "LayoutModel",
            "_view_count": null,
            "_view_module": "@jupyter-widgets/base",
            "_view_module_version": "1.2.0",
            "_view_name": "LayoutView",
            "align_content": null,
            "align_items": null,
            "align_self": null,
            "border": null,
            "bottom": null,
            "display": null,
            "flex": null,
            "flex_flow": null,
            "grid_area": null,
            "grid_auto_columns": null,
            "grid_auto_flow": null,
            "grid_auto_rows": null,
            "grid_column": null,
            "grid_gap": null,
            "grid_row": null,
            "grid_template_areas": null,
            "grid_template_columns": null,
            "grid_template_rows": null,
            "height": null,
            "justify_content": null,
            "justify_items": null,
            "left": null,
            "margin": null,
            "max_height": null,
            "max_width": null,
            "min_height": null,
            "min_width": null,
            "object_fit": null,
            "object_position": null,
            "order": null,
            "overflow": null,
            "overflow_x": null,
            "overflow_y": null,
            "padding": null,
            "right": null,
            "top": null,
            "visibility": null,
            "width": null
          }
        },
        "a5b032dc421640e4871a90d4afd99582": {
          "model_module": "@jupyter-widgets/base",
          "model_name": "LayoutModel",
          "model_module_version": "1.2.0",
          "state": {
            "_model_module": "@jupyter-widgets/base",
            "_model_module_version": "1.2.0",
            "_model_name": "LayoutModel",
            "_view_count": null,
            "_view_module": "@jupyter-widgets/base",
            "_view_module_version": "1.2.0",
            "_view_name": "LayoutView",
            "align_content": null,
            "align_items": null,
            "align_self": null,
            "border": null,
            "bottom": null,
            "display": null,
            "flex": null,
            "flex_flow": null,
            "grid_area": null,
            "grid_auto_columns": null,
            "grid_auto_flow": null,
            "grid_auto_rows": null,
            "grid_column": null,
            "grid_gap": null,
            "grid_row": null,
            "grid_template_areas": null,
            "grid_template_columns": null,
            "grid_template_rows": null,
            "height": null,
            "justify_content": null,
            "justify_items": null,
            "left": null,
            "margin": null,
            "max_height": null,
            "max_width": null,
            "min_height": null,
            "min_width": null,
            "object_fit": null,
            "object_position": null,
            "order": null,
            "overflow": null,
            "overflow_x": null,
            "overflow_y": null,
            "padding": null,
            "right": null,
            "top": null,
            "visibility": null,
            "width": null
          }
        },
        "46eea017380846c9848cb3b0b45eb451": {
          "model_module": "@jupyter-widgets/controls",
          "model_name": "DescriptionStyleModel",
          "model_module_version": "1.5.0",
          "state": {
            "_model_module": "@jupyter-widgets/controls",
            "_model_module_version": "1.5.0",
            "_model_name": "DescriptionStyleModel",
            "_view_count": null,
            "_view_module": "@jupyter-widgets/base",
            "_view_module_version": "1.2.0",
            "_view_name": "StyleView",
            "description_width": ""
          }
        },
        "4248d851af424cf98985de3af715c00d": {
          "model_module": "@jupyter-widgets/base",
          "model_name": "LayoutModel",
          "model_module_version": "1.2.0",
          "state": {
            "_model_module": "@jupyter-widgets/base",
            "_model_module_version": "1.2.0",
            "_model_name": "LayoutModel",
            "_view_count": null,
            "_view_module": "@jupyter-widgets/base",
            "_view_module_version": "1.2.0",
            "_view_name": "LayoutView",
            "align_content": null,
            "align_items": null,
            "align_self": null,
            "border": null,
            "bottom": null,
            "display": null,
            "flex": null,
            "flex_flow": null,
            "grid_area": null,
            "grid_auto_columns": null,
            "grid_auto_flow": null,
            "grid_auto_rows": null,
            "grid_column": null,
            "grid_gap": null,
            "grid_row": null,
            "grid_template_areas": null,
            "grid_template_columns": null,
            "grid_template_rows": null,
            "height": null,
            "justify_content": null,
            "justify_items": null,
            "left": null,
            "margin": null,
            "max_height": null,
            "max_width": null,
            "min_height": null,
            "min_width": null,
            "object_fit": null,
            "object_position": null,
            "order": null,
            "overflow": null,
            "overflow_x": null,
            "overflow_y": null,
            "padding": null,
            "right": null,
            "top": null,
            "visibility": null,
            "width": null
          }
        },
        "01aa91bd40b444759821ef74bccde422": {
          "model_module": "@jupyter-widgets/controls",
          "model_name": "ProgressStyleModel",
          "model_module_version": "1.5.0",
          "state": {
            "_model_module": "@jupyter-widgets/controls",
            "_model_module_version": "1.5.0",
            "_model_name": "ProgressStyleModel",
            "_view_count": null,
            "_view_module": "@jupyter-widgets/base",
            "_view_module_version": "1.2.0",
            "_view_name": "StyleView",
            "bar_color": null,
            "description_width": ""
          }
        },
        "4dea133901a747378661e40726331e4b": {
          "model_module": "@jupyter-widgets/base",
          "model_name": "LayoutModel",
          "model_module_version": "1.2.0",
          "state": {
            "_model_module": "@jupyter-widgets/base",
            "_model_module_version": "1.2.0",
            "_model_name": "LayoutModel",
            "_view_count": null,
            "_view_module": "@jupyter-widgets/base",
            "_view_module_version": "1.2.0",
            "_view_name": "LayoutView",
            "align_content": null,
            "align_items": null,
            "align_self": null,
            "border": null,
            "bottom": null,
            "display": null,
            "flex": null,
            "flex_flow": null,
            "grid_area": null,
            "grid_auto_columns": null,
            "grid_auto_flow": null,
            "grid_auto_rows": null,
            "grid_column": null,
            "grid_gap": null,
            "grid_row": null,
            "grid_template_areas": null,
            "grid_template_columns": null,
            "grid_template_rows": null,
            "height": null,
            "justify_content": null,
            "justify_items": null,
            "left": null,
            "margin": null,
            "max_height": null,
            "max_width": null,
            "min_height": null,
            "min_width": null,
            "object_fit": null,
            "object_position": null,
            "order": null,
            "overflow": null,
            "overflow_x": null,
            "overflow_y": null,
            "padding": null,
            "right": null,
            "top": null,
            "visibility": null,
            "width": null
          }
        },
        "df23c05a2f4045f3af0fb355c9357081": {
          "model_module": "@jupyter-widgets/controls",
          "model_name": "DescriptionStyleModel",
          "model_module_version": "1.5.0",
          "state": {
            "_model_module": "@jupyter-widgets/controls",
            "_model_module_version": "1.5.0",
            "_model_name": "DescriptionStyleModel",
            "_view_count": null,
            "_view_module": "@jupyter-widgets/base",
            "_view_module_version": "1.2.0",
            "_view_name": "StyleView",
            "description_width": ""
          }
        }
      }
    }
  },
  "nbformat": 4,
  "nbformat_minor": 0
}