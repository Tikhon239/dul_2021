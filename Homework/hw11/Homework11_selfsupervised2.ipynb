{
  "nbformat": 4,
  "nbformat_minor": 0,
  "metadata": {
    "colab": {
      "name": "Homework11_selfsupervised2.ipynb",
      "provenance": [],
      "collapsed_sections": [],
      "include_colab_link": true
    },
    "kernelspec": {
      "name": "python3",
      "display_name": "Python 3"
    },
    "language_info": {
      "name": "python"
    },
    "accelerator": "GPU",
    "widgets": {
      "application/vnd.jupyter.widget-state+json": {
        "a7f831fbf0a8499e8cfed3fd2122d2a1": {
          "model_module": "@jupyter-widgets/controls",
          "model_name": "HBoxModel",
          "model_module_version": "1.5.0",
          "state": {
            "_view_name": "HBoxView",
            "_dom_classes": [],
            "_model_name": "HBoxModel",
            "_view_module": "@jupyter-widgets/controls",
            "_model_module_version": "1.5.0",
            "_view_count": null,
            "_view_module_version": "1.5.0",
            "box_style": "",
            "layout": "IPY_MODEL_a70dd9fc1570433a89034dbcd8f4db91",
            "_model_module": "@jupyter-widgets/controls",
            "children": [
              "IPY_MODEL_9d029ac63a38462a9aeb27caa0f8ebc9",
              "IPY_MODEL_8eda1411db804ba3b68e2d4718ac3d42",
              "IPY_MODEL_94585937cfb44109bb299496025f6fe2"
            ]
          }
        },
        "a70dd9fc1570433a89034dbcd8f4db91": {
          "model_module": "@jupyter-widgets/base",
          "model_name": "LayoutModel",
          "model_module_version": "1.2.0",
          "state": {
            "_view_name": "LayoutView",
            "grid_template_rows": null,
            "right": null,
            "justify_content": null,
            "_view_module": "@jupyter-widgets/base",
            "overflow": null,
            "_model_module_version": "1.2.0",
            "_view_count": null,
            "flex_flow": null,
            "width": null,
            "min_width": null,
            "border": null,
            "align_items": null,
            "bottom": null,
            "_model_module": "@jupyter-widgets/base",
            "top": null,
            "grid_column": null,
            "overflow_y": null,
            "overflow_x": null,
            "grid_auto_flow": null,
            "grid_area": null,
            "grid_template_columns": null,
            "flex": null,
            "_model_name": "LayoutModel",
            "justify_items": null,
            "grid_row": null,
            "max_height": null,
            "align_content": null,
            "visibility": null,
            "align_self": null,
            "height": null,
            "min_height": null,
            "padding": null,
            "grid_auto_rows": null,
            "grid_gap": null,
            "max_width": null,
            "order": null,
            "_view_module_version": "1.2.0",
            "grid_template_areas": null,
            "object_position": null,
            "object_fit": null,
            "grid_auto_columns": null,
            "margin": null,
            "display": null,
            "left": null
          }
        },
        "9d029ac63a38462a9aeb27caa0f8ebc9": {
          "model_module": "@jupyter-widgets/controls",
          "model_name": "HTMLModel",
          "model_module_version": "1.5.0",
          "state": {
            "_view_name": "HTMLView",
            "style": "IPY_MODEL_04ad7ebbc02c457b9c0c74c357c19949",
            "_dom_classes": [],
            "description": "",
            "_model_name": "HTMLModel",
            "placeholder": "​",
            "_view_module": "@jupyter-widgets/controls",
            "_model_module_version": "1.5.0",
            "value": "Training: 100%",
            "_view_count": null,
            "_view_module_version": "1.5.0",
            "description_tooltip": null,
            "_model_module": "@jupyter-widgets/controls",
            "layout": "IPY_MODEL_d385b3df653342d0801fadcc9be32b44"
          }
        },
        "8eda1411db804ba3b68e2d4718ac3d42": {
          "model_module": "@jupyter-widgets/controls",
          "model_name": "FloatProgressModel",
          "model_module_version": "1.5.0",
          "state": {
            "_view_name": "ProgressView",
            "style": "IPY_MODEL_593c226428d14b718302e2557e9cc726",
            "_dom_classes": [],
            "description": "",
            "_model_name": "FloatProgressModel",
            "bar_style": "success",
            "max": 10,
            "_view_module": "@jupyter-widgets/controls",
            "_model_module_version": "1.5.0",
            "value": 10,
            "_view_count": null,
            "_view_module_version": "1.5.0",
            "orientation": "horizontal",
            "min": 0,
            "description_tooltip": null,
            "_model_module": "@jupyter-widgets/controls",
            "layout": "IPY_MODEL_09d545773ee84d2e8d6c98d9129afdfb"
          }
        },
        "94585937cfb44109bb299496025f6fe2": {
          "model_module": "@jupyter-widgets/controls",
          "model_name": "HTMLModel",
          "model_module_version": "1.5.0",
          "state": {
            "_view_name": "HTMLView",
            "style": "IPY_MODEL_bdf46e1b2b2e423b9c7f0c7684142afa",
            "_dom_classes": [],
            "description": "",
            "_model_name": "HTMLModel",
            "placeholder": "​",
            "_view_module": "@jupyter-widgets/controls",
            "_model_module_version": "1.5.0",
            "value": " 10/10 [21:25&lt;00:00, 128.92s/it]",
            "_view_count": null,
            "_view_module_version": "1.5.0",
            "description_tooltip": null,
            "_model_module": "@jupyter-widgets/controls",
            "layout": "IPY_MODEL_ebd7c4fc243f49f2a48b50f30f980742"
          }
        },
        "04ad7ebbc02c457b9c0c74c357c19949": {
          "model_module": "@jupyter-widgets/controls",
          "model_name": "DescriptionStyleModel",
          "model_module_version": "1.5.0",
          "state": {
            "_view_name": "StyleView",
            "_model_name": "DescriptionStyleModel",
            "description_width": "",
            "_view_module": "@jupyter-widgets/base",
            "_model_module_version": "1.5.0",
            "_view_count": null,
            "_view_module_version": "1.2.0",
            "_model_module": "@jupyter-widgets/controls"
          }
        },
        "d385b3df653342d0801fadcc9be32b44": {
          "model_module": "@jupyter-widgets/base",
          "model_name": "LayoutModel",
          "model_module_version": "1.2.0",
          "state": {
            "_view_name": "LayoutView",
            "grid_template_rows": null,
            "right": null,
            "justify_content": null,
            "_view_module": "@jupyter-widgets/base",
            "overflow": null,
            "_model_module_version": "1.2.0",
            "_view_count": null,
            "flex_flow": null,
            "width": null,
            "min_width": null,
            "border": null,
            "align_items": null,
            "bottom": null,
            "_model_module": "@jupyter-widgets/base",
            "top": null,
            "grid_column": null,
            "overflow_y": null,
            "overflow_x": null,
            "grid_auto_flow": null,
            "grid_area": null,
            "grid_template_columns": null,
            "flex": null,
            "_model_name": "LayoutModel",
            "justify_items": null,
            "grid_row": null,
            "max_height": null,
            "align_content": null,
            "visibility": null,
            "align_self": null,
            "height": null,
            "min_height": null,
            "padding": null,
            "grid_auto_rows": null,
            "grid_gap": null,
            "max_width": null,
            "order": null,
            "_view_module_version": "1.2.0",
            "grid_template_areas": null,
            "object_position": null,
            "object_fit": null,
            "grid_auto_columns": null,
            "margin": null,
            "display": null,
            "left": null
          }
        },
        "593c226428d14b718302e2557e9cc726": {
          "model_module": "@jupyter-widgets/controls",
          "model_name": "ProgressStyleModel",
          "model_module_version": "1.5.0",
          "state": {
            "_view_name": "StyleView",
            "_model_name": "ProgressStyleModel",
            "description_width": "",
            "_view_module": "@jupyter-widgets/base",
            "_model_module_version": "1.5.0",
            "_view_count": null,
            "_view_module_version": "1.2.0",
            "bar_color": null,
            "_model_module": "@jupyter-widgets/controls"
          }
        },
        "09d545773ee84d2e8d6c98d9129afdfb": {
          "model_module": "@jupyter-widgets/base",
          "model_name": "LayoutModel",
          "model_module_version": "1.2.0",
          "state": {
            "_view_name": "LayoutView",
            "grid_template_rows": null,
            "right": null,
            "justify_content": null,
            "_view_module": "@jupyter-widgets/base",
            "overflow": null,
            "_model_module_version": "1.2.0",
            "_view_count": null,
            "flex_flow": null,
            "width": null,
            "min_width": null,
            "border": null,
            "align_items": null,
            "bottom": null,
            "_model_module": "@jupyter-widgets/base",
            "top": null,
            "grid_column": null,
            "overflow_y": null,
            "overflow_x": null,
            "grid_auto_flow": null,
            "grid_area": null,
            "grid_template_columns": null,
            "flex": null,
            "_model_name": "LayoutModel",
            "justify_items": null,
            "grid_row": null,
            "max_height": null,
            "align_content": null,
            "visibility": null,
            "align_self": null,
            "height": null,
            "min_height": null,
            "padding": null,
            "grid_auto_rows": null,
            "grid_gap": null,
            "max_width": null,
            "order": null,
            "_view_module_version": "1.2.0",
            "grid_template_areas": null,
            "object_position": null,
            "object_fit": null,
            "grid_auto_columns": null,
            "margin": null,
            "display": null,
            "left": null
          }
        },
        "bdf46e1b2b2e423b9c7f0c7684142afa": {
          "model_module": "@jupyter-widgets/controls",
          "model_name": "DescriptionStyleModel",
          "model_module_version": "1.5.0",
          "state": {
            "_view_name": "StyleView",
            "_model_name": "DescriptionStyleModel",
            "description_width": "",
            "_view_module": "@jupyter-widgets/base",
            "_model_module_version": "1.5.0",
            "_view_count": null,
            "_view_module_version": "1.2.0",
            "_model_module": "@jupyter-widgets/controls"
          }
        },
        "ebd7c4fc243f49f2a48b50f30f980742": {
          "model_module": "@jupyter-widgets/base",
          "model_name": "LayoutModel",
          "model_module_version": "1.2.0",
          "state": {
            "_view_name": "LayoutView",
            "grid_template_rows": null,
            "right": null,
            "justify_content": null,
            "_view_module": "@jupyter-widgets/base",
            "overflow": null,
            "_model_module_version": "1.2.0",
            "_view_count": null,
            "flex_flow": null,
            "width": null,
            "min_width": null,
            "border": null,
            "align_items": null,
            "bottom": null,
            "_model_module": "@jupyter-widgets/base",
            "top": null,
            "grid_column": null,
            "overflow_y": null,
            "overflow_x": null,
            "grid_auto_flow": null,
            "grid_area": null,
            "grid_template_columns": null,
            "flex": null,
            "_model_name": "LayoutModel",
            "justify_items": null,
            "grid_row": null,
            "max_height": null,
            "align_content": null,
            "visibility": null,
            "align_self": null,
            "height": null,
            "min_height": null,
            "padding": null,
            "grid_auto_rows": null,
            "grid_gap": null,
            "max_width": null,
            "order": null,
            "_view_module_version": "1.2.0",
            "grid_template_areas": null,
            "object_position": null,
            "object_fit": null,
            "grid_auto_columns": null,
            "margin": null,
            "display": null,
            "left": null
          }
        },
        "d138063a17324c9596dff76d86789073": {
          "model_module": "@jupyter-widgets/controls",
          "model_name": "HBoxModel",
          "model_module_version": "1.5.0",
          "state": {
            "_view_name": "HBoxView",
            "_dom_classes": [],
            "_model_name": "HBoxModel",
            "_view_module": "@jupyter-widgets/controls",
            "_model_module_version": "1.5.0",
            "_view_count": null,
            "_view_module_version": "1.5.0",
            "box_style": "",
            "layout": "IPY_MODEL_005a03ebe42d45eb910adbb8b66732a7",
            "_model_module": "@jupyter-widgets/controls",
            "children": [
              "IPY_MODEL_f75f34cc82934467a0040c5e3ab0a754",
              "IPY_MODEL_1b22b07c62124d9981646b581901f157",
              "IPY_MODEL_0a3293dc78c44eda8da58b7f6112d358"
            ]
          }
        },
        "005a03ebe42d45eb910adbb8b66732a7": {
          "model_module": "@jupyter-widgets/base",
          "model_name": "LayoutModel",
          "model_module_version": "1.2.0",
          "state": {
            "_view_name": "LayoutView",
            "grid_template_rows": null,
            "right": null,
            "justify_content": null,
            "_view_module": "@jupyter-widgets/base",
            "overflow": null,
            "_model_module_version": "1.2.0",
            "_view_count": null,
            "flex_flow": null,
            "width": null,
            "min_width": null,
            "border": null,
            "align_items": null,
            "bottom": null,
            "_model_module": "@jupyter-widgets/base",
            "top": null,
            "grid_column": null,
            "overflow_y": null,
            "overflow_x": null,
            "grid_auto_flow": null,
            "grid_area": null,
            "grid_template_columns": null,
            "flex": null,
            "_model_name": "LayoutModel",
            "justify_items": null,
            "grid_row": null,
            "max_height": null,
            "align_content": null,
            "visibility": null,
            "align_self": null,
            "height": null,
            "min_height": null,
            "padding": null,
            "grid_auto_rows": null,
            "grid_gap": null,
            "max_width": null,
            "order": null,
            "_view_module_version": "1.2.0",
            "grid_template_areas": null,
            "object_position": null,
            "object_fit": null,
            "grid_auto_columns": null,
            "margin": null,
            "display": null,
            "left": null
          }
        },
        "f75f34cc82934467a0040c5e3ab0a754": {
          "model_module": "@jupyter-widgets/controls",
          "model_name": "HTMLModel",
          "model_module_version": "1.5.0",
          "state": {
            "_view_name": "HTMLView",
            "style": "IPY_MODEL_6f7608afebf04703ac24138138ed8b87",
            "_dom_classes": [],
            "description": "",
            "_model_name": "HTMLModel",
            "placeholder": "​",
            "_view_module": "@jupyter-widgets/controls",
            "_model_module_version": "1.5.0",
            "value": "Training: 100%",
            "_view_count": null,
            "_view_module_version": "1.5.0",
            "description_tooltip": null,
            "_model_module": "@jupyter-widgets/controls",
            "layout": "IPY_MODEL_41bb464764ae4cf1bd300f47d0938cae"
          }
        },
        "1b22b07c62124d9981646b581901f157": {
          "model_module": "@jupyter-widgets/controls",
          "model_name": "FloatProgressModel",
          "model_module_version": "1.5.0",
          "state": {
            "_view_name": "ProgressView",
            "style": "IPY_MODEL_6b20406135c74ce9ad497a1064f4364c",
            "_dom_classes": [],
            "description": "",
            "_model_name": "FloatProgressModel",
            "bar_style": "success",
            "max": 10,
            "_view_module": "@jupyter-widgets/controls",
            "_model_module_version": "1.5.0",
            "value": 10,
            "_view_count": null,
            "_view_module_version": "1.5.0",
            "orientation": "horizontal",
            "min": 0,
            "description_tooltip": null,
            "_model_module": "@jupyter-widgets/controls",
            "layout": "IPY_MODEL_9cd9e6802e3e461d99d9d88db3e42588"
          }
        },
        "0a3293dc78c44eda8da58b7f6112d358": {
          "model_module": "@jupyter-widgets/controls",
          "model_name": "HTMLModel",
          "model_module_version": "1.5.0",
          "state": {
            "_view_name": "HTMLView",
            "style": "IPY_MODEL_bf6ec49755ed4c2c9f9447ef899ef554",
            "_dom_classes": [],
            "description": "",
            "_model_name": "HTMLModel",
            "placeholder": "​",
            "_view_module": "@jupyter-widgets/controls",
            "_model_module_version": "1.5.0",
            "value": " 10/10 [35:26&lt;00:00, 211.88s/it]",
            "_view_count": null,
            "_view_module_version": "1.5.0",
            "description_tooltip": null,
            "_model_module": "@jupyter-widgets/controls",
            "layout": "IPY_MODEL_103b5248aeb9453d8b75d81dbfc637df"
          }
        },
        "6f7608afebf04703ac24138138ed8b87": {
          "model_module": "@jupyter-widgets/controls",
          "model_name": "DescriptionStyleModel",
          "model_module_version": "1.5.0",
          "state": {
            "_view_name": "StyleView",
            "_model_name": "DescriptionStyleModel",
            "description_width": "",
            "_view_module": "@jupyter-widgets/base",
            "_model_module_version": "1.5.0",
            "_view_count": null,
            "_view_module_version": "1.2.0",
            "_model_module": "@jupyter-widgets/controls"
          }
        },
        "41bb464764ae4cf1bd300f47d0938cae": {
          "model_module": "@jupyter-widgets/base",
          "model_name": "LayoutModel",
          "model_module_version": "1.2.0",
          "state": {
            "_view_name": "LayoutView",
            "grid_template_rows": null,
            "right": null,
            "justify_content": null,
            "_view_module": "@jupyter-widgets/base",
            "overflow": null,
            "_model_module_version": "1.2.0",
            "_view_count": null,
            "flex_flow": null,
            "width": null,
            "min_width": null,
            "border": null,
            "align_items": null,
            "bottom": null,
            "_model_module": "@jupyter-widgets/base",
            "top": null,
            "grid_column": null,
            "overflow_y": null,
            "overflow_x": null,
            "grid_auto_flow": null,
            "grid_area": null,
            "grid_template_columns": null,
            "flex": null,
            "_model_name": "LayoutModel",
            "justify_items": null,
            "grid_row": null,
            "max_height": null,
            "align_content": null,
            "visibility": null,
            "align_self": null,
            "height": null,
            "min_height": null,
            "padding": null,
            "grid_auto_rows": null,
            "grid_gap": null,
            "max_width": null,
            "order": null,
            "_view_module_version": "1.2.0",
            "grid_template_areas": null,
            "object_position": null,
            "object_fit": null,
            "grid_auto_columns": null,
            "margin": null,
            "display": null,
            "left": null
          }
        },
        "6b20406135c74ce9ad497a1064f4364c": {
          "model_module": "@jupyter-widgets/controls",
          "model_name": "ProgressStyleModel",
          "model_module_version": "1.5.0",
          "state": {
            "_view_name": "StyleView",
            "_model_name": "ProgressStyleModel",
            "description_width": "",
            "_view_module": "@jupyter-widgets/base",
            "_model_module_version": "1.5.0",
            "_view_count": null,
            "_view_module_version": "1.2.0",
            "bar_color": null,
            "_model_module": "@jupyter-widgets/controls"
          }
        },
        "9cd9e6802e3e461d99d9d88db3e42588": {
          "model_module": "@jupyter-widgets/base",
          "model_name": "LayoutModel",
          "model_module_version": "1.2.0",
          "state": {
            "_view_name": "LayoutView",
            "grid_template_rows": null,
            "right": null,
            "justify_content": null,
            "_view_module": "@jupyter-widgets/base",
            "overflow": null,
            "_model_module_version": "1.2.0",
            "_view_count": null,
            "flex_flow": null,
            "width": null,
            "min_width": null,
            "border": null,
            "align_items": null,
            "bottom": null,
            "_model_module": "@jupyter-widgets/base",
            "top": null,
            "grid_column": null,
            "overflow_y": null,
            "overflow_x": null,
            "grid_auto_flow": null,
            "grid_area": null,
            "grid_template_columns": null,
            "flex": null,
            "_model_name": "LayoutModel",
            "justify_items": null,
            "grid_row": null,
            "max_height": null,
            "align_content": null,
            "visibility": null,
            "align_self": null,
            "height": null,
            "min_height": null,
            "padding": null,
            "grid_auto_rows": null,
            "grid_gap": null,
            "max_width": null,
            "order": null,
            "_view_module_version": "1.2.0",
            "grid_template_areas": null,
            "object_position": null,
            "object_fit": null,
            "grid_auto_columns": null,
            "margin": null,
            "display": null,
            "left": null
          }
        },
        "bf6ec49755ed4c2c9f9447ef899ef554": {
          "model_module": "@jupyter-widgets/controls",
          "model_name": "DescriptionStyleModel",
          "model_module_version": "1.5.0",
          "state": {
            "_view_name": "StyleView",
            "_model_name": "DescriptionStyleModel",
            "description_width": "",
            "_view_module": "@jupyter-widgets/base",
            "_model_module_version": "1.5.0",
            "_view_count": null,
            "_view_module_version": "1.2.0",
            "_model_module": "@jupyter-widgets/controls"
          }
        },
        "103b5248aeb9453d8b75d81dbfc637df": {
          "model_module": "@jupyter-widgets/base",
          "model_name": "LayoutModel",
          "model_module_version": "1.2.0",
          "state": {
            "_view_name": "LayoutView",
            "grid_template_rows": null,
            "right": null,
            "justify_content": null,
            "_view_module": "@jupyter-widgets/base",
            "overflow": null,
            "_model_module_version": "1.2.0",
            "_view_count": null,
            "flex_flow": null,
            "width": null,
            "min_width": null,
            "border": null,
            "align_items": null,
            "bottom": null,
            "_model_module": "@jupyter-widgets/base",
            "top": null,
            "grid_column": null,
            "overflow_y": null,
            "overflow_x": null,
            "grid_auto_flow": null,
            "grid_area": null,
            "grid_template_columns": null,
            "flex": null,
            "_model_name": "LayoutModel",
            "justify_items": null,
            "grid_row": null,
            "max_height": null,
            "align_content": null,
            "visibility": null,
            "align_self": null,
            "height": null,
            "min_height": null,
            "padding": null,
            "grid_auto_rows": null,
            "grid_gap": null,
            "max_width": null,
            "order": null,
            "_view_module_version": "1.2.0",
            "grid_template_areas": null,
            "object_position": null,
            "object_fit": null,
            "grid_auto_columns": null,
            "margin": null,
            "display": null,
            "left": null
          }
        }
      }
    }
  },
  "cells": [
    {
      "cell_type": "markdown",
      "metadata": {
        "id": "view-in-github",
        "colab_type": "text"
      },
      "source": [
        "<a href=\"https://colab.research.google.com/github/Tikhon239/dul_2021/blob/hw11/Homework/hw11/Homework11_selfsupervised2.ipynb\" target=\"_parent\"><img src=\"https://colab.research.google.com/assets/colab-badge.svg\" alt=\"Open In Colab\"/></a>"
      ]
    },
    {
      "cell_type": "code",
      "source": [
        "!if [ -d dul_2021 ]; then rm -Rf dul_2021; fi\n",
        "!git clone https://github.com/GrigoryBartosh/dul_2021\n",
        "!pip install ./dul_2021"
      ],
      "metadata": {
        "colab": {
          "base_uri": "https://localhost:8080/"
        },
        "id": "4dRz5SIFKfZD",
        "outputId": "59351968-f3c1-40b0-fa45-a5095cbd0ca7"
      },
      "execution_count": 1,
      "outputs": [
        {
          "output_type": "stream",
          "name": "stdout",
          "text": [
            "Cloning into 'dul_2021'...\n",
            "remote: Enumerating objects: 361, done.\u001b[K\n",
            "remote: Counting objects: 100% (198/198), done.\u001b[K\n",
            "remote: Compressing objects: 100% (127/127), done.\u001b[K\n",
            "remote: Total 361 (delta 112), reused 91 (delta 65), pack-reused 163\u001b[K\n",
            "Receiving objects: 100% (361/361), 55.77 MiB | 25.20 MiB/s, done.\n",
            "Resolving deltas: 100% (169/169), done.\n",
            "Processing ./dul_2021\n",
            "\u001b[33m  DEPRECATION: A future pip version will change local packages to be built in-place without first copying to a temporary directory. We recommend you use --use-feature=in-tree-build to test your packages with this new behavior before it becomes the default.\n",
            "   pip 21.3 will remove support for this functionality. You can find discussion regarding this at https://github.com/pypa/pip/issues/7555.\u001b[0m\n",
            "Building wheels for collected packages: dul-2021\n",
            "  Building wheel for dul-2021 (setup.py) ... \u001b[?25l\u001b[?25hdone\n",
            "  Created wheel for dul-2021: filename=dul_2021-0.1.0-py3-none-any.whl size=26856 sha256=a9c02dcebd958fe41db46e57caef730708c671168c412d48bae2894ca7b96729\n",
            "  Stored in directory: /tmp/pip-ephem-wheel-cache-qk14or8_/wheels/55/59/29/0fb1c635652157734f4d741f32fc11979149684e83e919de06\n",
            "Successfully built dul-2021\n",
            "Installing collected packages: dul-2021\n",
            "Successfully installed dul-2021-0.1.0\n"
          ]
        }
      ]
    },
    {
      "cell_type": "code",
      "source": [
        "from dul_2021.utils.hw11_utils import *"
      ],
      "metadata": {
        "id": "KjY-iIy5MSZb"
      },
      "execution_count": 1,
      "outputs": []
    },
    {
      "cell_type": "code",
      "source": [
        "import os\n",
        "import numpy as np\n",
        "from copy import deepcopy\n",
        "from tqdm.notebook import trange\n",
        "\n",
        "import torch\n",
        "import torch.nn as nn\n",
        "import torch.nn.functional as F\n",
        "from torch.utils.data import Dataset, DataLoader\n",
        "import torch.optim as opt\n",
        "\n",
        "import torchvision\n",
        "from torchvision.datasets import STL10, CIFAR10\n",
        "from torchvision import transforms\n",
        "\n",
        "from sklearn.metrics import accuracy_score\n",
        "from scipy.stats import mannwhitneyu"
      ],
      "metadata": {
        "id": "-P_WiOQp9BVu"
      },
      "execution_count": 2,
      "outputs": []
    },
    {
      "cell_type": "code",
      "source": [
        "device = torch.device(\"cuda:0\") if torch.cuda.is_available() else torch.device(\"cpu\")"
      ],
      "metadata": {
        "id": "Y-QK5hgd82wS"
      },
      "execution_count": 3,
      "outputs": []
    },
    {
      "cell_type": "markdown",
      "source": [
        "# Question 1. BYOL\n",
        "\n",
        "Here we will implement [BYOL](https://arxiv.org/abs/2006.07733).\n",
        "\n",
        "* You can combine view, representation, and projection into one network. You can use same architechure as in practice. \n",
        "\n",
        "* Use BatchNorm\n",
        "\n",
        "* As predictor use few linear layers\n",
        "\n",
        "* Dataset comes untransformed, so you need to apply transformations during training by yourself. Use same augmentations as in SimCLR\n",
        "\n",
        "**Hyperparameters**\n",
        "\n",
        "* τ = 0.99 (target update coefficient)\n",
        "* lr = 1e-4\n",
        "* num_epochs = 20\n",
        "* latent dim = 128\n",
        "\n",
        "\n",
        "\n",
        "**You will provide the following deliverables**\n",
        "\n",
        "\n",
        "1. Over the course of training, record loss ber batch.\n",
        "2. A function that encodes a batch of images with your trained model. The function recieves a batch torch tensors on cpu and should return transformed 2d tensor (batch size x laten dim). It will be used to test representation on classification task."
      ],
      "metadata": {
        "id": "t7J5FgOHW6Z-"
      }
    },
    {
      "cell_type": "code",
      "source": [
        "class Net(nn.Module):\n",
        "    def __init__(\n",
        "        self,\n",
        "        input_dim: int = 3,\n",
        "        latent_dim: int = 128,\n",
        "        hidden_dim: int = 128,\n",
        "        conv_to_fc: int = 7 * 7 * 4\n",
        "    ):\n",
        "        super(Net, self).__init__()\n",
        "\n",
        "        self.conv1 = nn.Conv2d(input_dim, 16, 5, padding=2)\n",
        "        self.conv2 = nn.Conv2d(16, 16, 3, padding=1, stride=2)\n",
        "        self.conv3 = nn.Conv2d(16, 32, 5, padding=2)\n",
        "        self.conv4 = nn.Conv2d(32, 32, 3, padding=1, stride=2)\n",
        "        self.conv5 = nn.Conv2d(32, 32, 1)\n",
        "        self.conv6 = nn.Conv2d(32, 4, 1)\n",
        "        self.bn1 = nn.BatchNorm2d(16)\n",
        "        self.bn2 = nn.BatchNorm2d(16)\n",
        "        self.bn3 = nn.BatchNorm2d(32)\n",
        "        self.bn4 = nn.BatchNorm2d(32)\n",
        "        self.bn5 = nn.BatchNorm2d(32)\n",
        "        self.bn6 = nn.BatchNorm2d(4)\n",
        "\n",
        "        self.conv_to_fc = conv_to_fc\n",
        "        self.fc1 = nn.Linear(self.conv_to_fc, hidden_dim)\n",
        "        self.fc2 = nn.Linear(hidden_dim, int(hidden_dim // 2))\n",
        "\n",
        "        self.features = nn.Linear(int(hidden_dim // 2), latent_dim)\n",
        "\n",
        "    def forward(self, x):\n",
        "        x = F.relu(self.bn1(self.conv1(x)))\n",
        "        x = F.relu(self.bn2(self.conv2(x)))\n",
        "        x = F.relu(self.bn3(self.conv3(x)))\n",
        "        x = F.relu(self.bn4(self.conv4(x)))\n",
        "        x = F.relu(self.bn5(self.conv5(x)))\n",
        "        x = F.relu(self.bn6(self.conv6(x)))\n",
        "\n",
        "        x = x.view(-1, self.conv_to_fc)\n",
        "        x = F.relu(self.fc1(x))\n",
        "        x = F.relu(self.fc2(x))\n",
        "\n",
        "        features = self.features(x)\n",
        "\n",
        "        return features"
      ],
      "metadata": {
        "id": "KXNlwcIywGaF"
      },
      "execution_count": 4,
      "outputs": []
    },
    {
      "cell_type": "code",
      "source": [
        "class Predictor(nn.Module):\n",
        "    def __init__(self, latent_dim: int = 128, hidden_dim: int = 128):\n",
        "        super(Predictor, self).__init__()\n",
        "\n",
        "        self.model = nn.Sequential(\n",
        "            nn.Linear(latent_dim, hidden_dim),\n",
        "            nn.ReLU(),\n",
        "            nn.Linear(hidden_dim, hidden_dim),\n",
        "            nn.ReLU(),\n",
        "            nn.Linear(hidden_dim, latent_dim)\n",
        "        )\n",
        "\n",
        "    def forward(self, batch):\n",
        "        return self.model(batch)"
      ],
      "metadata": {
        "id": "k0uOPAgOwIFE"
      },
      "execution_count": 5,
      "outputs": []
    },
    {
      "cell_type": "code",
      "source": [
        "class BYOL(nn.Module):\n",
        "    def __init__(self, input_dim: int = 1, latent_dim: int = 128):\n",
        "        super(BYOL, self).__init__()\n",
        "\n",
        "        self.student = Net(input_dim=input_dim, latent_dim=latent_dim)\n",
        "        self.predictor = Predictor(latent_dim=latent_dim)\n",
        "        self.teacher = deepcopy(self.student)\n",
        "        self.teacher.requires_grad_(False)\n",
        "\n",
        "    def forward(self, batch):\n",
        "        return self.student(batch)\n",
        "\n",
        "    @torch.no_grad()\n",
        "    def teacher_soft_update(self, tau=0.99):\n",
        "        for sp, tp in zip(self.student.parameters(), self.teacher.parameters()):\n",
        "            tp.data.copy_(tau * tp.data + (1 - tau) * sp.data)\n",
        "\n",
        "    def similarity(self, batch_left, batch_right):\n",
        "        z_student = self.student(batch_left)\n",
        "        z_predictor = F.normalize(self.predictor(z_student), dim=1)\n",
        "\n",
        "        with torch.no_grad():\n",
        "            z_teacher = F.normalize(self.teacher(batch_right), dim=1)\n",
        "\n",
        "        #return F.mse_loss(z_predictor, z_teacher, reduction=\"none\").sum(dim=1)\n",
        "        return 2 - 2 * (z_predictor * z_teacher).sum(dim=1)\n",
        "\n",
        "\n",
        "    def calculate_loss(self, batch):\n",
        "        student_batch, teacher_batch = torch.chunk(batch, 2, dim=1)\n",
        "\n",
        "        first_loss = self.similarity(student_batch, teacher_batch)\n",
        "        second_loss = self.similarity(teacher_batch, student_batch)\n",
        "        loss = first_loss + second_loss\n",
        "\n",
        "        return loss.mean()\n",
        "    \n",
        "    def fit(\n",
        "        self,\n",
        "        train_dataloader: DataLoader,\n",
        "        epochs: int = 10,\n",
        "        lr: float = 1e-3,\n",
        "        tau: float = 0.99\n",
        "    ):\n",
        "\n",
        "        optim = opt.Adam(\n",
        "            list(self.student.parameters()) + list(self.predictor.parameters()),\n",
        "            lr=lr\n",
        "        )\n",
        "\n",
        "        losses = []\n",
        "\n",
        "        for _ in trange(epochs, desc=\"Training\"):\n",
        "            for batch in train_dataloader:\n",
        "                batch = batch.to(device)\n",
        "                loss = self.calculate_loss(batch)\n",
        "\n",
        "                optim.zero_grad()\n",
        "                loss.backward()\n",
        "                optim.step()\n",
        "\n",
        "                self.teacher_soft_update(tau)\n",
        "\n",
        "                losses.append(loss.item())\n",
        "\n",
        "        return np.array(losses)\n",
        "\n",
        "    @torch.no_grad()\n",
        "    def encode(self, batch):\n",
        "        self.eval()\n",
        "        batch = batch.to(device)\n",
        "        result = self(batch)\n",
        "        self.train()\n",
        "        return result        "
      ],
      "metadata": {
        "id": "20RTxIcI8CN3"
      },
      "execution_count": 6,
      "outputs": []
    },
    {
      "cell_type": "code",
      "source": [
        "class BYOLDataset(Dataset):\n",
        "    def __init__(self, image_dataset: Dataset):\n",
        "        super().__init__()\n",
        "        self.image_dataset = image_dataset\n",
        "        self.transforms = transforms.Compose(\n",
        "            [\n",
        "            transforms.RandomHorizontalFlip(),\n",
        "             transforms.RandomResizedCrop(28),\n",
        "             transforms.GaussianBlur(9),\n",
        "             transforms.Normalize(0.5, 0.5),\n",
        "            ]\n",
        "        )\n",
        "\n",
        "    def __len__(self):\n",
        "        return len(self.image_dataset)\n",
        "\n",
        "    def __getitem__(self, index):\n",
        "        cur_image = self.image_dataset[index][0]\n",
        "        return torch.cat([self.transforms(cur_image) for i in range(2)])"
      ],
      "metadata": {
        "id": "viFAayOe-Ckh"
      },
      "execution_count": 7,
      "outputs": []
    },
    {
      "cell_type": "code",
      "source": [
        "def q1(train_data):\n",
        "    \"\"\"\n",
        "    train_data: An (n_train, 1, 28, 28) torchvision dataset of MNIST images with values from -1 to 1\n",
        "\n",
        "    Returns\n",
        "    - a (# of training iterations, ) numpy array  losses on each iteration\n",
        "    - a function that transforms batch of images into their latent representation\n",
        "    \"\"\"\n",
        "    batch_size = 256\n",
        "    epochs = 10\n",
        "    lr = 1e-4\n",
        "    tau = 0.99\n",
        "\n",
        "    latent_dim = 128\n",
        "\n",
        "    train_dataloader = DataLoader(\n",
        "        BYOLDataset(train_data), batch_size=batch_size, shuffle=True\n",
        "    )\n",
        "\n",
        "    model = BYOL().to(device)\n",
        "    \n",
        "    losses = model.fit(train_dataloader, epochs=epochs, lr=lr, tau=tau)\n",
        "    \n",
        "    return losses, model.encode"
      ],
      "metadata": {
        "id": "Og9Fv7sV6nrO"
      },
      "execution_count": 8,
      "outputs": []
    },
    {
      "cell_type": "code",
      "source": [
        "# change flag to False if you want only to test your losses w/o accuracy (it takes around 4-5 minutes)\n",
        "q1_results(q1, True)"
      ],
      "metadata": {
        "colab": {
          "base_uri": "https://localhost:8080/",
          "height": 344,
          "referenced_widgets": [
            "a7f831fbf0a8499e8cfed3fd2122d2a1",
            "a70dd9fc1570433a89034dbcd8f4db91",
            "9d029ac63a38462a9aeb27caa0f8ebc9",
            "8eda1411db804ba3b68e2d4718ac3d42",
            "94585937cfb44109bb299496025f6fe2",
            "04ad7ebbc02c457b9c0c74c357c19949",
            "d385b3df653342d0801fadcc9be32b44",
            "593c226428d14b718302e2557e9cc726",
            "09d545773ee84d2e8d6c98d9129afdfb",
            "bdf46e1b2b2e423b9c7f0c7684142afa",
            "ebd7c4fc243f49f2a48b50f30f980742"
          ]
        },
        "id": "Ke28YRQRcj2v",
        "outputId": "6075dca5-2f98-4aa2-e823-7a18a46321da"
      },
      "execution_count": 70,
      "outputs": [
        {
          "output_type": "display_data",
          "data": {
            "application/vnd.jupyter.widget-view+json": {
              "model_id": "a7f831fbf0a8499e8cfed3fd2122d2a1",
              "version_minor": 0,
              "version_major": 2
            },
            "text/plain": [
              "Training:   0%|          | 0/10 [00:00<?, ?it/s]"
            ]
          },
          "metadata": {}
        },
        {
          "output_type": "stream",
          "name": "stdout",
          "text": [
            "mean classification accuracy=0.3162\n"
          ]
        },
        {
          "output_type": "display_data",
          "data": {
            "image/png": "[encoded data removed]",
            "text/plain": [
              "<Figure size 432x288 with 1 Axes>"
            ]
          },
          "metadata": {
            "needs_background": "light"
          }
        }
      ]
    },
    {
      "cell_type": "markdown",
      "source": [
        "# Question 2. Barlow Twins\n",
        "\n",
        "Here we will implement [barlow twins](https://arxiv.org/abs/2103.03230).\n",
        "\n",
        "* You can use same architechure as in practice. \n",
        "\n",
        "* Dataset comes untransformed, so you need to apply transformations during training by yourself. Use same augmentations as in SimCLR\n",
        "\n",
        "**Hyperparameters**\n",
        "\n",
        "* λ = 0.01 \n",
        "* lr = 5e-4\n",
        "* num_epochs = 20\n",
        "* latent dim = 128\n",
        "\n",
        "\n",
        "\n",
        "**You will provide the following deliverables**\n",
        "\n",
        "\n",
        "1. Over the course of training, record loss ber batch.\n",
        "2. A function that encodes a batch of images with your trained model. The function recieves a batch torch tensors on cpu and should return transformed 2d tensor (batch size x laten dim). It will be used to test representation on classification task."
      ],
      "metadata": {
        "id": "hlbaIthyMGab"
      }
    },
    {
      "cell_type": "code",
      "source": [
        "class BTWINS(nn.Module):\n",
        "    def __init__(\n",
        "        self,\n",
        "        input_dim: int = 3,\n",
        "        latent_dim: int = 128,\n",
        "        lambd: float = 1e-2\n",
        "    ):\n",
        "        super(BTWINS, self).__init__()\n",
        "\n",
        "        self.lambd = lambd\n",
        "        self.model = Net(input_dim=3, latent_dim=latent_dim, conv_to_fc=8 * 8 * 4)\n",
        "\n",
        "    def forward(self, x):\n",
        "        return self.model(x)\n",
        "\n",
        "    @staticmethod\n",
        "    def off_diagonal(x):\n",
        "        n = x.shape[0]\n",
        "        return x.flatten()[:-1].view(n - 1, n + 1)[:, 1:].flatten()\n",
        "\n",
        "    def calculate_loss(self, batch):\n",
        "        y_a, y_b = torch.chunk(batch, 2, dim=1)\n",
        "\n",
        "        z_a, z_b = self(y_a), self(y_b)\n",
        "\n",
        "        z_a_norm = (z_a - z_a.mean(0)) / z_a.std(0)\n",
        "        z_b_norm = (z_b - z_b.mean(0)) / z_b.std(0)\n",
        "\n",
        "        c = z_a_norm.T @ z_b_norm\n",
        "\n",
        "        c.div_(batch.shape[0])\n",
        "\n",
        "        on_diag = torch.diagonal(c).add_(-1).pow_(2).sum()\n",
        "        off_diag = self.off_diagonal(c).pow_(2).sum()\n",
        "        loss = on_diag + self.lambd * off_diag\n",
        "\n",
        "        return loss\n",
        "\n",
        "    def fit(self, train_dataloader, epochs=10, lr=1e-5):\n",
        "        optim = opt.Adam(self.parameters(), lr=lr)\n",
        "\n",
        "        losses = []\n",
        "\n",
        "        for _ in trange(epochs, desc=\"Training\"):\n",
        "            for batch in train_dataloader:\n",
        "                batch = batch.to(device)\n",
        "\n",
        "                loss = self.calculate_loss(batch)\n",
        "\n",
        "                optim.zero_grad()\n",
        "                loss.backward()\n",
        "                optim.step()\n",
        "\n",
        "                losses.append(loss.item())\n",
        "\n",
        "        return np.array(losses)\n",
        "\n",
        "    @torch.no_grad()\n",
        "    def encode(self, batch):\n",
        "        self.eval()\n",
        "        batch = batch.to(device)\n",
        "        result = self(batch)\n",
        "        self.train()\n",
        "        return result        "
      ],
      "metadata": {
        "id": "8gaztDvFYaoD"
      },
      "execution_count": 9,
      "outputs": []
    },
    {
      "cell_type": "code",
      "source": [
        "class BTWINSDataset(Dataset):\n",
        "    def __init__(self, image_dataset: Dataset):\n",
        "        super().__init__()\n",
        "        self.image_dataset = image_dataset\n",
        "        self.transforms = transforms.Compose(\n",
        "            [\n",
        "             transforms.RandomHorizontalFlip(),\n",
        "             transforms.RandomResizedCrop(32),\n",
        "             transforms.GaussianBlur(9),\n",
        "             transforms.RandomApply([transforms.ColorJitter(0.5, 0.5, 0.5, 0.1)], p=0.8),\n",
        "             transforms.RandomGrayscale(0.2),\n",
        "             transforms.Normalize(0.5, 0.5),\n",
        "            ]\n",
        "        )\n",
        "\n",
        "    def __len__(self):\n",
        "        return len(self.image_dataset)\n",
        "\n",
        "    def __getitem__(self, index):\n",
        "        cur_image = self.image_dataset[index][0]\n",
        "        return torch.cat([self.transforms(cur_image) for i in range(2)])"
      ],
      "metadata": {
        "id": "wR3W3G3kj_LS"
      },
      "execution_count": 10,
      "outputs": []
    },
    {
      "cell_type": "code",
      "source": [
        "def q2(train_data, test_data):\n",
        "    \"\"\"\n",
        "    train_data: An (n_train, 1, 32, 32) torchvision dataset of CIFAR10 images with values from -1 to 1\n",
        "\n",
        "    Returns\n",
        "    - a (# of training iterations, ) numpy array  losses on each iteration\n",
        "    - a function that transforms batch of images into their latent representation\n",
        "    \"\"\"\n",
        "\n",
        "    batch_size = 256\n",
        "    epochs = 10\n",
        "    lr = 1e-5\n",
        "\n",
        "    lambd = 0.01\n",
        "    latent_dim = 128\n",
        "    \n",
        "    train_dataloader = DataLoader(\n",
        "        BTWINSDataset(train_data), batch_size=batch_size, shuffle=True\n",
        "    )\n",
        "\n",
        "    model = BTWINS(input_dim=3, latent_dim=latent_dim, lambd=lambd).to(device)\n",
        "    \n",
        "    losses = model.fit(train_dataloader, epochs=epochs, lr=lr)\n",
        "    \n",
        "    return losses, model.encode"
      ],
      "metadata": {
        "id": "pd6RrZfP75HR"
      },
      "execution_count": 11,
      "outputs": []
    },
    {
      "cell_type": "code",
      "source": [
        "# change flag to False if you want only to test your losses w/o accuracy (it takes around 4-5 minutes)\n",
        "q2_results(q2, True)"
      ],
      "metadata": {
        "id": "EA1Z_s1a8_sB",
        "colab": {
          "base_uri": "https://localhost:8080/",
          "height": 378,
          "referenced_widgets": [
            "d138063a17324c9596dff76d86789073",
            "005a03ebe42d45eb910adbb8b66732a7",
            "f75f34cc82934467a0040c5e3ab0a754",
            "1b22b07c62124d9981646b581901f157",
            "0a3293dc78c44eda8da58b7f6112d358",
            "6f7608afebf04703ac24138138ed8b87",
            "41bb464764ae4cf1bd300f47d0938cae",
            "6b20406135c74ce9ad497a1064f4364c",
            "9cd9e6802e3e461d99d9d88db3e42588",
            "bf6ec49755ed4c2c9f9447ef899ef554",
            "103b5248aeb9453d8b75d81dbfc637df"
          ]
        },
        "outputId": "6b7da3fd-9338-494a-8790-98f1004b41d5"
      },
      "execution_count": 12,
      "outputs": [
        {
          "output_type": "stream",
          "name": "stdout",
          "text": [
            "Files already downloaded and verified\n",
            "Files already downloaded and verified\n"
          ]
        },
        {
          "output_type": "display_data",
          "data": {
            "application/vnd.jupyter.widget-view+json": {
              "model_id": "d138063a17324c9596dff76d86789073",
              "version_minor": 0,
              "version_major": 2
            },
            "text/plain": [
              "Training:   0%|          | 0/10 [00:00<?, ?it/s]"
            ]
          },
          "metadata": {}
        },
        {
          "output_type": "stream",
          "name": "stdout",
          "text": [
            "mean classification accuracy=0.3253\n"
          ]
        },
        {
          "output_type": "display_data",
          "data": {
            "image/png": "[encoded data removed]",
            "text/plain": [
              "<Figure size 432x288 with 1 Axes>"
            ]
          },
          "metadata": {
            "needs_background": "light"
          }
        }
      ]
    },
    {
      "cell_type": "markdown",
      "source": [
        "# Bonus. SwAV\n",
        "\n",
        "Here we will implement [SwAV](https://arxiv.org/abs/2006.09882v5)\n",
        "\n",
        "**You will provide the following deliverables**\n",
        "\n",
        "\n",
        "1. Over the course of training, record loss ber batch.\n",
        "2. A function that encodes a batch of images with your trained model. The function recieves a batch torch tensors on cpu and should return transformed 2d tensor (batch size x laten dim). It will be used to test representation on classification task."
      ],
      "metadata": {
        "id": "D8UN9nr9aYGx"
      }
    },
    {
      "cell_type": "code",
      "source": [
        "def b(train_data):\n",
        "    \"\"\"\n",
        "    train_data: An (n_train, 1, 32, 32) torchvision dataset of CIFAR10 images with values from -1 to 1\n",
        "\n",
        "    Returns\n",
        "    - a (# of training iterations, ) numpy array  losses on each iteration\n",
        "    - a function that transforms batch of images into their latent representation\n",
        "    \"\"\""
      ],
      "metadata": {
        "id": "1Yin_8Ebaa8P"
      },
      "execution_count": null,
      "outputs": []
    },
    {
      "cell_type": "code",
      "source": [
        "q2_results(b, True)"
      ],
      "metadata": {
        "id": "S0jgIgLN8tzd"
      },
      "execution_count": null,
      "outputs": []
    }
  ]
}