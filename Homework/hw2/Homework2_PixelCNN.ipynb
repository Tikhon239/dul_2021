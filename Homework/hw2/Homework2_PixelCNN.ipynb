{
  "nbformat": 4,
  "nbformat_minor": 0,
  "metadata": {
    "colab": {
      "name": "Homework2_PixelCNN.ipynb",
      "provenance": [],
      "collapsed_sections": [
        "8U3JwQV1izoA",
        "LMZLcaHwLNNL",
        "orP7ESaE5xI8",
        "dwV0spI2Ly0P",
        "PfQAN_a051BS"
      ],
      "include_colab_link": true
    },
    "kernelspec": {
      "name": "python3",
      "display_name": "Python 3"
    },
    "accelerator": "GPU",
    "widgets": {
      "application/vnd.jupyter.widget-state+json": {
        "925e86e556a147549a732f3ed984d6c9": {
          "model_module": "@jupyter-widgets/controls",
          "model_name": "HBoxModel",
          "model_module_version": "1.5.0",
          "state": {
            "_view_name": "HBoxView",
            "_dom_classes": [],
            "_model_name": "HBoxModel",
            "_view_module": "@jupyter-widgets/controls",
            "_model_module_version": "1.5.0",
            "_view_count": null,
            "_view_module_version": "1.5.0",
            "box_style": "",
            "layout": "IPY_MODEL_7d6e02fc056f45e382e989113ddb4c14",
            "_model_module": "@jupyter-widgets/controls",
            "children": [
              "IPY_MODEL_3fa576e65d714fbcb2e4f8de2d747c6a",
              "IPY_MODEL_7af7cebda3d443d3becd719e582690d0",
              "IPY_MODEL_d49aaa1c386348799a38828de4a86ef0"
            ]
          }
        },
        "7d6e02fc056f45e382e989113ddb4c14": {
          "model_module": "@jupyter-widgets/base",
          "model_name": "LayoutModel",
          "model_module_version": "1.2.0",
          "state": {
            "_view_name": "LayoutView",
            "grid_template_rows": null,
            "right": null,
            "justify_content": null,
            "_view_module": "@jupyter-widgets/base",
            "overflow": null,
            "_model_module_version": "1.2.0",
            "_view_count": null,
            "flex_flow": null,
            "width": null,
            "min_width": null,
            "border": null,
            "align_items": null,
            "bottom": null,
            "_model_module": "@jupyter-widgets/base",
            "top": null,
            "grid_column": null,
            "overflow_y": null,
            "overflow_x": null,
            "grid_auto_flow": null,
            "grid_area": null,
            "grid_template_columns": null,
            "flex": null,
            "_model_name": "LayoutModel",
            "justify_items": null,
            "grid_row": null,
            "max_height": null,
            "align_content": null,
            "visibility": null,
            "align_self": null,
            "height": null,
            "min_height": null,
            "padding": null,
            "grid_auto_rows": null,
            "grid_gap": null,
            "max_width": null,
            "order": null,
            "_view_module_version": "1.2.0",
            "grid_template_areas": null,
            "object_position": null,
            "object_fit": null,
            "grid_auto_columns": null,
            "margin": null,
            "display": null,
            "left": null
          }
        },
        "3fa576e65d714fbcb2e4f8de2d747c6a": {
          "model_module": "@jupyter-widgets/controls",
          "model_name": "HTMLModel",
          "model_module_version": "1.5.0",
          "state": {
            "_view_name": "HTMLView",
            "style": "IPY_MODEL_b3008b355b634ed1ad9777d40fdaa5d8",
            "_dom_classes": [],
            "description": "",
            "_model_name": "HTMLModel",
            "placeholder": "​",
            "_view_module": "@jupyter-widgets/controls",
            "_model_module_version": "1.5.0",
            "value": "Training:   0%",
            "_view_count": null,
            "_view_module_version": "1.5.0",
            "description_tooltip": null,
            "_model_module": "@jupyter-widgets/controls",
            "layout": "IPY_MODEL_347e4e3185a24726b8febe6715ff79c7"
          }
        },
        "7af7cebda3d443d3becd719e582690d0": {
          "model_module": "@jupyter-widgets/controls",
          "model_name": "FloatProgressModel",
          "model_module_version": "1.5.0",
          "state": {
            "_view_name": "ProgressView",
            "style": "IPY_MODEL_8551866b11a64ad48c87f310aa9f6ed9",
            "_dom_classes": [],
            "description": "",
            "_model_name": "FloatProgressModel",
            "bar_style": "",
            "max": 20,
            "_view_module": "@jupyter-widgets/controls",
            "_model_module_version": "1.5.0",
            "value": 0,
            "_view_count": null,
            "_view_module_version": "1.5.0",
            "orientation": "horizontal",
            "min": 0,
            "description_tooltip": null,
            "_model_module": "@jupyter-widgets/controls",
            "layout": "IPY_MODEL_ec5ef7a7f59244fca153243dbdcdc4cf"
          }
        },
        "d49aaa1c386348799a38828de4a86ef0": {
          "model_module": "@jupyter-widgets/controls",
          "model_name": "HTMLModel",
          "model_module_version": "1.5.0",
          "state": {
            "_view_name": "HTMLView",
            "style": "IPY_MODEL_c46fb0c37f2040128d4f4288d16d622e",
            "_dom_classes": [],
            "description": "",
            "_model_name": "HTMLModel",
            "placeholder": "​",
            "_view_module": "@jupyter-widgets/controls",
            "_model_module_version": "1.5.0",
            "value": " 0/20 [00:00&lt;?, ?it/s]",
            "_view_count": null,
            "_view_module_version": "1.5.0",
            "description_tooltip": null,
            "_model_module": "@jupyter-widgets/controls",
            "layout": "IPY_MODEL_6f13835f7cf24712870302c52857f731"
          }
        },
        "b3008b355b634ed1ad9777d40fdaa5d8": {
          "model_module": "@jupyter-widgets/controls",
          "model_name": "DescriptionStyleModel",
          "model_module_version": "1.5.0",
          "state": {
            "_view_name": "StyleView",
            "_model_name": "DescriptionStyleModel",
            "description_width": "",
            "_view_module": "@jupyter-widgets/base",
            "_model_module_version": "1.5.0",
            "_view_count": null,
            "_view_module_version": "1.2.0",
            "_model_module": "@jupyter-widgets/controls"
          }
        },
        "347e4e3185a24726b8febe6715ff79c7": {
          "model_module": "@jupyter-widgets/base",
          "model_name": "LayoutModel",
          "model_module_version": "1.2.0",
          "state": {
            "_view_name": "LayoutView",
            "grid_template_rows": null,
            "right": null,
            "justify_content": null,
            "_view_module": "@jupyter-widgets/base",
            "overflow": null,
            "_model_module_version": "1.2.0",
            "_view_count": null,
            "flex_flow": null,
            "width": null,
            "min_width": null,
            "border": null,
            "align_items": null,
            "bottom": null,
            "_model_module": "@jupyter-widgets/base",
            "top": null,
            "grid_column": null,
            "overflow_y": null,
            "overflow_x": null,
            "grid_auto_flow": null,
            "grid_area": null,
            "grid_template_columns": null,
            "flex": null,
            "_model_name": "LayoutModel",
            "justify_items": null,
            "grid_row": null,
            "max_height": null,
            "align_content": null,
            "visibility": null,
            "align_self": null,
            "height": null,
            "min_height": null,
            "padding": null,
            "grid_auto_rows": null,
            "grid_gap": null,
            "max_width": null,
            "order": null,
            "_view_module_version": "1.2.0",
            "grid_template_areas": null,
            "object_position": null,
            "object_fit": null,
            "grid_auto_columns": null,
            "margin": null,
            "display": null,
            "left": null
          }
        },
        "8551866b11a64ad48c87f310aa9f6ed9": {
          "model_module": "@jupyter-widgets/controls",
          "model_name": "ProgressStyleModel",
          "model_module_version": "1.5.0",
          "state": {
            "_view_name": "StyleView",
            "_model_name": "ProgressStyleModel",
            "description_width": "",
            "_view_module": "@jupyter-widgets/base",
            "_model_module_version": "1.5.0",
            "_view_count": null,
            "_view_module_version": "1.2.0",
            "bar_color": null,
            "_model_module": "@jupyter-widgets/controls"
          }
        },
        "ec5ef7a7f59244fca153243dbdcdc4cf": {
          "model_module": "@jupyter-widgets/base",
          "model_name": "LayoutModel",
          "model_module_version": "1.2.0",
          "state": {
            "_view_name": "LayoutView",
            "grid_template_rows": null,
            "right": null,
            "justify_content": null,
            "_view_module": "@jupyter-widgets/base",
            "overflow": null,
            "_model_module_version": "1.2.0",
            "_view_count": null,
            "flex_flow": null,
            "width": null,
            "min_width": null,
            "border": null,
            "align_items": null,
            "bottom": null,
            "_model_module": "@jupyter-widgets/base",
            "top": null,
            "grid_column": null,
            "overflow_y": null,
            "overflow_x": null,
            "grid_auto_flow": null,
            "grid_area": null,
            "grid_template_columns": null,
            "flex": null,
            "_model_name": "LayoutModel",
            "justify_items": null,
            "grid_row": null,
            "max_height": null,
            "align_content": null,
            "visibility": null,
            "align_self": null,
            "height": null,
            "min_height": null,
            "padding": null,
            "grid_auto_rows": null,
            "grid_gap": null,
            "max_width": null,
            "order": null,
            "_view_module_version": "1.2.0",
            "grid_template_areas": null,
            "object_position": null,
            "object_fit": null,
            "grid_auto_columns": null,
            "margin": null,
            "display": null,
            "left": null
          }
        },
        "c46fb0c37f2040128d4f4288d16d622e": {
          "model_module": "@jupyter-widgets/controls",
          "model_name": "DescriptionStyleModel",
          "model_module_version": "1.5.0",
          "state": {
            "_view_name": "StyleView",
            "_model_name": "DescriptionStyleModel",
            "description_width": "",
            "_view_module": "@jupyter-widgets/base",
            "_model_module_version": "1.5.0",
            "_view_count": null,
            "_view_module_version": "1.2.0",
            "_model_module": "@jupyter-widgets/controls"
          }
        },
        "6f13835f7cf24712870302c52857f731": {
          "model_module": "@jupyter-widgets/base",
          "model_name": "LayoutModel",
          "model_module_version": "1.2.0",
          "state": {
            "_view_name": "LayoutView",
            "grid_template_rows": null,
            "right": null,
            "justify_content": null,
            "_view_module": "@jupyter-widgets/base",
            "overflow": null,
            "_model_module_version": "1.2.0",
            "_view_count": null,
            "flex_flow": null,
            "width": null,
            "min_width": null,
            "border": null,
            "align_items": null,
            "bottom": null,
            "_model_module": "@jupyter-widgets/base",
            "top": null,
            "grid_column": null,
            "overflow_y": null,
            "overflow_x": null,
            "grid_auto_flow": null,
            "grid_area": null,
            "grid_template_columns": null,
            "flex": null,
            "_model_name": "LayoutModel",
            "justify_items": null,
            "grid_row": null,
            "max_height": null,
            "align_content": null,
            "visibility": null,
            "align_self": null,
            "height": null,
            "min_height": null,
            "padding": null,
            "grid_auto_rows": null,
            "grid_gap": null,
            "max_width": null,
            "order": null,
            "_view_module_version": "1.2.0",
            "grid_template_areas": null,
            "object_position": null,
            "object_fit": null,
            "grid_auto_columns": null,
            "margin": null,
            "display": null,
            "left": null
          }
        }
      }
    }
  },
  "cells": [
    {
      "cell_type": "markdown",
      "metadata": {
        "id": "view-in-github",
        "colab_type": "text"
      },
      "source": [
        "<a href=\"https://colab.research.google.com/github/Tikhon239/dul_2021/blob/main/Homework/hw2/Homework2_PixelCNN.ipynb\" target=\"_parent\"><img src=\"https://colab.research.google.com/assets/colab-badge.svg\" alt=\"Open In Colab\"/></a>"
      ]
    },
    {
      "cell_type": "code",
      "metadata": {
        "id": "wUVy2glDtoaR",
        "colab": {
          "base_uri": "https://localhost:8080/"
        },
        "outputId": "5c777332-76e9-49e3-c76b-499aeb0a8214"
      },
      "source": [
        "!if [ -d dul_2021 ]; then rm -Rf dul_2021; fi\n",
        "!git clone --single-branch --branch main https://github.com/GrigoryBartosh/dul_2021\n",
        "!unzip -qq dul_2021/Homework/hw1/data/hw1_data.zip -d dul_2021/Homework/hw1/data/\n",
        "!mv -v dul_2021/Homework/hw1/data/hw1_data/* dul_2021/Homework/hw1/data/\n",
        "!rmdir dul_2021/Homework/hw1/data/hw1_data/\n",
        "!pip install ./dul_2021"
      ],
      "execution_count": 1,
      "outputs": [
        {
          "output_type": "stream",
          "name": "stdout",
          "text": [
            "Cloning into 'dul_2021'...\n",
            "remote: Enumerating objects: 123, done.\u001b[K\n",
            "remote: Counting objects: 100% (123/123), done.\u001b[K\n",
            "remote: Compressing objects: 100% (87/87), done.\u001b[K\n",
            "remote: Total 123 (delta 48), reused 71 (delta 22), pack-reused 0\u001b[K\n",
            "Receiving objects: 100% (123/123), 26.19 MiB | 30.86 MiB/s, done.\n",
            "Resolving deltas: 100% (48/48), done.\n",
            "renamed 'dul_2021/Homework/hw1/data/hw1_data/geoffrey-hinton.jpg' -> 'dul_2021/Homework/hw1/data/geoffrey-hinton.jpg'\n",
            "renamed 'dul_2021/Homework/hw1/data/hw1_data/mnist_colored.pkl' -> 'dul_2021/Homework/hw1/data/mnist_colored.pkl'\n",
            "renamed 'dul_2021/Homework/hw1/data/hw1_data/mnist.pkl' -> 'dul_2021/Homework/hw1/data/mnist.pkl'\n",
            "renamed 'dul_2021/Homework/hw1/data/hw1_data/shapes_colored.pkl' -> 'dul_2021/Homework/hw1/data/shapes_colored.pkl'\n",
            "renamed 'dul_2021/Homework/hw1/data/hw1_data/shapes.pkl' -> 'dul_2021/Homework/hw1/data/shapes.pkl'\n",
            "renamed 'dul_2021/Homework/hw1/data/hw1_data/smiley.jpg' -> 'dul_2021/Homework/hw1/data/smiley.jpg'\n",
            "Processing ./dul_2021\n",
            "\u001b[33m  DEPRECATION: A future pip version will change local packages to be built in-place without first copying to a temporary directory. We recommend you use --use-feature=in-tree-build to test your packages with this new behavior before it becomes the default.\n",
            "   pip 21.3 will remove support for this functionality. You can find discussion regarding this at https://github.com/pypa/pip/issues/7555.\u001b[0m\n",
            "Building wheels for collected packages: dul-2021\n",
            "  Building wheel for dul-2021 (setup.py) ... \u001b[?25l\u001b[?25hdone\n",
            "  Created wheel for dul-2021: filename=dul_2021-0.1.0-py3-none-any.whl size=11040 sha256=f1dc72e87b5db3a633f58bfa068e9cb3de391dca87700f6b4241d4b7cd87ada9\n",
            "  Stored in directory: /tmp/pip-ephem-wheel-cache-bi1rvaqd/wheels/55/59/29/0fb1c635652157734f4d741f32fc11979149684e83e919de06\n",
            "Successfully built dul-2021\n",
            "Installing collected packages: dul-2021\n",
            "  Attempting uninstall: dul-2021\n",
            "    Found existing installation: dul-2021 0.1.0\n",
            "    Uninstalling dul-2021-0.1.0:\n",
            "      Successfully uninstalled dul-2021-0.1.0\n",
            "Successfully installed dul-2021-0.1.0\n"
          ]
        }
      ]
    },
    {
      "cell_type": "code",
      "metadata": {
        "id": "74jSka8JJG6n",
        "outputId": "aa0256e5-0a7f-4a05-c615-9a7864311d98",
        "colab": {
          "base_uri": "https://localhost:8080/"
        }
      },
      "source": [
        "!nvidia-smi"
      ],
      "execution_count": 2,
      "outputs": [
        {
          "output_type": "stream",
          "name": "stdout",
          "text": [
            "Tue Nov  9 15:02:57 2021       \n",
            "+-----------------------------------------------------------------------------+\n",
            "| NVIDIA-SMI 495.44       Driver Version: 460.32.03    CUDA Version: 11.2     |\n",
            "|-------------------------------+----------------------+----------------------+\n",
            "| GPU  Name        Persistence-M| Bus-Id        Disp.A | Volatile Uncorr. ECC |\n",
            "| Fan  Temp  Perf  Pwr:Usage/Cap|         Memory-Usage | GPU-Util  Compute M. |\n",
            "|                               |                      |               MIG M. |\n",
            "|===============================+======================+======================|\n",
            "|   0  Tesla K80           Off  | 00000000:00:04.0 Off |                    0 |\n",
            "| N/A   70C    P8    33W / 149W |      0MiB / 11441MiB |      0%      Default |\n",
            "|                               |                      |                  N/A |\n",
            "+-------------------------------+----------------------+----------------------+\n",
            "                                                                               \n",
            "+-----------------------------------------------------------------------------+\n",
            "| Processes:                                                                  |\n",
            "|  GPU   GI   CI        PID   Type   Process name                  GPU Memory |\n",
            "|        ID   ID                                                   Usage      |\n",
            "|=============================================================================|\n",
            "|  No running processes found                                                 |\n",
            "+-----------------------------------------------------------------------------+\n"
          ]
        }
      ]
    },
    {
      "cell_type": "code",
      "metadata": {
        "id": "ZHWosWrbpO5Y"
      },
      "source": [
        "from dul_2021.utils.hw2_utils import *"
      ],
      "execution_count": 3,
      "outputs": []
    },
    {
      "cell_type": "code",
      "metadata": {
        "id": "TxLiz-M9VYHZ"
      },
      "source": [
        "from typing import Tuple, List\n",
        "from tqdm.notebook import tqdm\n",
        "\n",
        "import numpy as np\n",
        "import torch\n",
        "import torch.nn as nn\n",
        "import torch.optim as opt\n",
        "import torch.utils.data\n",
        "import torch.nn.functional as F\n",
        "from torch.utils.data import DataLoader"
      ],
      "execution_count": 4,
      "outputs": []
    },
    {
      "cell_type": "code",
      "metadata": {
        "id": "cF9Tk7jBlj_7",
        "outputId": "ad155307-2210-423c-90b7-df63607b0ce1",
        "colab": {
          "base_uri": "https://localhost:8080/"
        }
      },
      "source": [
        "device = torch.device(\"cuda\" if torch.cuda.is_available() else \"cpu\")\n",
        "device"
      ],
      "execution_count": 6,
      "outputs": [
        {
          "output_type": "execute_result",
          "data": {
            "text/plain": [
              "device(type='cuda')"
            ]
          },
          "metadata": {},
          "execution_count": 6
        }
      ]
    },
    {
      "cell_type": "code",
      "metadata": {
        "id": "fuTnUofylkpU"
      },
      "source": [
        "class MaskedConv(nn.Conv2d):\n",
        "    def __init__(self, color_depended: bool, *args, **kwargs):\n",
        "        super().__init__(*args, **kwargs)\n",
        "        self.register_buffer('mask', torch.zeros_like(self.weight))\n",
        "        self.set_mask(color_depended)\n",
        "    \n",
        "    def forward(self, x):\n",
        "        self.weight.data *= self.mask\n",
        "        return super().forward(x)\n",
        "\n",
        "    def set_mask(self, color_depended: bool):\n",
        "        raise NotImplementedError()"
      ],
      "execution_count": 7,
      "outputs": []
    },
    {
      "cell_type": "code",
      "metadata": {
        "id": "FOZnD4K_lnGU"
      },
      "source": [
        "class ConvA(MaskedConv):\n",
        "    def set_mask(self, color_depended: bool):\n",
        "        h, w = self.kernel_size\n",
        "        self.mask[:, :, : h // 2] = 1\n",
        "        self.mask[:, :, h // 2, : w // 2] = 1\n",
        "        if color_depended:\n",
        "            in_channels, out_channels = self.in_channels // 3, self.out_channels // 3\n",
        "            self.mask[out_channels : 2 * out_channels, : in_channels, h // 2, w // 2] = 1\n",
        "            self.mask[2 * out_channels :, : 2 * in_channels, h // 2, w // 2] = 1\n",
        "    \n",
        "class ConvB(MaskedConv):\n",
        "    def set_mask(self, color_depended: bool):\n",
        "        h, w = self.kernel_size\n",
        "        self.mask[:, :, : h // 2] = 1\n",
        "        self.mask[:, :, h // 2, : w // 2 + 1] = 1\n",
        "        if color_depended:\n",
        "            in_channels, out_channels = self.in_channels // 3, self.out_channels // 3\n",
        "            self.mask[: out_channels, : in_channels, h // 2, w // 2] = 1\n",
        "            self.mask[out_channels : 2 * out_channels, : 2 * in_channels, h // 2, w // 2] = 1\n",
        "            self.mask[2 * out_channels :, :, h // 2, w // 2] = 1"
      ],
      "execution_count": 8,
      "outputs": []
    },
    {
      "cell_type": "code",
      "metadata": {
        "id": "dDT0xI4QcN_x"
      },
      "source": [
        "class ResidualBlock(nn.Module):\n",
        "    def __init__(self, color_depended: bool, in_channels: int):\n",
        "      super().__init__()\n",
        "\n",
        "      self.model = nn.Sequential(\n",
        "          nn.ReLU(),\n",
        "          ConvB(color_depended, in_channels=in_channels, out_channels=in_channels // 2, kernel_size=1),\n",
        "          nn.ReLU(),\n",
        "          ConvB(color_depended, in_channels=in_channels // 2, out_channels=in_channels // 2, kernel_size=7, padding=3),\n",
        "          nn.ReLU(),\n",
        "          ConvB(color_depended, in_channels=in_channels // 2, out_channels=in_channels, kernel_size=1)\n",
        "      )\n",
        "\n",
        "    def forward(self, x):\n",
        "\n",
        "        return self.model(x) + x"
      ],
      "execution_count": 15,
      "outputs": []
    },
    {
      "cell_type": "code",
      "metadata": {
        "id": "b4972JpHl2m_"
      },
      "source": [
        "class PixelCNN(nn.Module):\n",
        "    def __init__(self,\n",
        "                 input_shape: Tuple[int, int, int],\n",
        "                 n_colors: int,\n",
        "                 color_depended: bool,\n",
        "                 n_filters: int = 120,\n",
        "                 n_layers: int = 8):\n",
        "        super().__init__()\n",
        "        self.h, self.w, self.c = input_shape\n",
        "        self.n_colors = n_colors\n",
        "\n",
        "        layers = [ConvA(color_depended, input_shape[2], n_filters, kernel_size=7, padding=3)]\n",
        "        for _ in range(n_layers):\n",
        "            layers.append(ResidualBlock(color_depended, n_filters))\n",
        "        layers.extend([\n",
        "                       #nn.ReLU(), ???\n",
        "                       ConvB(color_depended, in_channels=n_filters, out_channels=n_filters, kernel_size=1),\n",
        "                       nn.ReLU(),\n",
        "                       ConvB(color_depended, in_channels=n_filters, out_channels=n_colors * self.c, kernel_size=1)\n",
        "        ])\n",
        "        \n",
        "        self.model = nn.Sequential(*layers)\n",
        "\n",
        "    def forward(self, x):\n",
        "        batch_size = x.shape[0]\n",
        "        out = self.model(x).reshape(batch_size, self.c, self.n_colors, self.h, self.w)\n",
        "        return out.permute(0, 2, 1, 3, 4)\n",
        "\n",
        "    def predict_proba(self, x):\n",
        "        with torch.no_grad():\n",
        "            return F.softmax(self(x), dim=1)\n",
        "\n",
        "    def __calculate_loss(self, batch, target):\n",
        "        batch = batch.to(device)\n",
        "        if target is None:\n",
        "            target = batch\n",
        "        else:\n",
        "            target = target.to(device)\n",
        "        return F.cross_entropy(self(batch), target.long())\n",
        "    \n",
        "    def __test(self, test_dataloader: DataLoader) -> float:\n",
        "        test_losses = []\n",
        "        with torch.no_grad():\n",
        "            for batch, target in test_dataloader:\n",
        "                test_losses.append(self.__calculate_loss(batch, target).cpu().numpy())\n",
        "\n",
        "        return np.mean(test_losses)\n",
        "\n",
        "    def fit(self,\n",
        "            train_dataloader: DataLoader,\n",
        "            test_dataloader: DataLoader,\n",
        "            epochs: int = 20,\n",
        "            lr: float = 1e-3) -> Tuple[List[float], List[float]]:\n",
        "\n",
        "        train_losses = []\n",
        "        test_losses = []\n",
        "\n",
        "        optim = torch.optim.Adam(self.parameters(), lr=lr)\n",
        "\n",
        "        test_losses.append(self.__test(test_dataloader))\n",
        "\n",
        "        for epoch in tqdm(range(epochs), desc=\"Training\"):\n",
        "            epoch_train_losses = []\n",
        "            for batch, target in train_dataloader:\n",
        "                loss = self.__calculate_loss(batch, target)\n",
        "\n",
        "                optim.zero_grad()\n",
        "                loss.backward()\n",
        "                torch.nn.utils.clip_grad_norm_(self.parameters(), 1)\n",
        "                optim.step()\n",
        "\n",
        "                epoch_train_losses.append(loss.detach().cpu().numpy())\n",
        "\n",
        "            train_losses.append(np.mean(epoch_train_losses))\n",
        "            test_losses.append(self.__test(test_dataloader))\n",
        "          \n",
        "        return train_losses, test_losses\n",
        "\n",
        "    def sample(self, n: int = 100) -> np.ndarray:\n",
        "        with torch.no_grad():\n",
        "            samples = torch.zeros(n, self.c, self.h, self.w, device=device)\n",
        "            for y in tqdm(range(self.h), desc=\"Sampling\"):\n",
        "                for x in range(self.w):\n",
        "                    for c in range(self.c):\n",
        "                        probs = self.predict_proba(samples)[:, :, c, y, x]\n",
        "                        samples[:, c, y, x] = torch.multinomial(probs, 1).flatten()\n",
        "            return samples.cpu().detach().numpy().transpose(0, 2, 3, 1)"
      ],
      "execution_count": 31,
      "outputs": []
    },
    {
      "cell_type": "markdown",
      "metadata": {
        "id": "dP8lmmk7Xrct"
      },
      "source": [
        "# Question 1 PixelCNNs"
      ]
    },
    {
      "cell_type": "markdown",
      "metadata": {
        "id": "8J7qlqlODNgL"
      },
      "source": [
        "## Part (a) PixelCNN on Colored Shapes and MNIST: Independent Color Channels\n",
        "\n",
        "For the next two parts, we'll work with color images (shapes and MNIST). Run the cell below to visualize the dataset."
      ]
    },
    {
      "cell_type": "code",
      "metadata": {
        "id": "80f_7uZWkDSv",
        "colab": {
          "base_uri": "https://localhost:8080/",
          "height": 508
        },
        "outputId": "0efeb533-1c80-41e7-fab2-98d916fbb170"
      },
      "source": [
        "visualize_q1a_data(1)\n",
        "visualize_q1a_data(2)\n",
        "# you can get access to the data with q1ab_get_data"
      ],
      "execution_count": 32,
      "outputs": [
        {
          "output_type": "display_data",
          "data": {
            "image/png": "[encoded data removed]",
            "text/plain": [
              "<Figure size 432x288 with 1 Axes>"
            ]
          },
          "metadata": {
            "needs_background": "light"
          }
        },
        {
          "output_type": "display_data",
          "data": {
            "image/png": "[encoded data removed]",
            "text/plain": [
              "<Figure size 432x288 with 1 Axes>"
            ]
          },
          "metadata": {
            "needs_background": "light"
          }
        }
      ]
    },
    {
      "cell_type": "markdown",
      "metadata": {
        "id": "3Y6NggR6gmU9"
      },
      "source": [
        "Now, implement a PixelCNN to support RGB color channels (or augment your existing implementation). **First, implement a PixelCNN that assumes color channels as independent.** More formally, we model the following parameterized distribution:\n",
        "\n",
        "$$p_\\theta(x) = \\prod_{i=1}^{HW}\\prod_{c=1}^C p_\\theta(x_i^c | x_{<i})$$\n",
        "\n",
        "Here are some tips that you may find useful for designing and training these models:\n",
        "* You will need a 4-way softmax for every prediction, as opposed to a 256-way softmax in the PixelCNN paper, since the dataset is quantized to two bits per color channel\n",
        "* You can set number of filters for each convolutions to 120. You can use the ReLU nonlinearity throughout.\n",
        "* Use a stack of 8 residual block architecture from [Figure 5](https://arxiv.org/abs/1601.06759) but with 7 x 7 masked convolutions in the middle instead of 3 x 3 masked convolutions\n",
        "* Consider using [layer normalization](https://arxiv.org/abs/1607.06450) to improve performance. However, be careful to maintain the autoregressive property.\n",
        "* With a learning rate of $10^{-3}$ and a batch size of 128, it should take a few minutes to run on the shapes dataset, and about 50-60 minutes on MNIST.\n",
        "\n",
        "**You will provide these deliverables**\n",
        "\n",
        "\n",
        "1.   Over the course of training, record the average negative log-likelihood (nats / dim) of the training data (per minibatch) and test data (for your entire test set). Code is provided that automatically plots the training curves. \n",
        "2.   Report the final test set performance of your final model\n",
        "3. 100 samples from the final trained model\n",
        "\n"
      ]
    },
    {
      "cell_type": "markdown",
      "metadata": {
        "id": "GwJQG9i1iQOa"
      },
      "source": [
        "### Solution\n",
        "Fill out the function below and return the necessary arguments. Feel free to create more cells if need be."
      ]
    },
    {
      "cell_type": "code",
      "metadata": {
        "id": "1OHlS06m2t9D"
      },
      "source": [
        "def collate_fn(x):\n",
        "    return torch.FloatTensor(x).permute(0, 3, 1, 2), None"
      ],
      "execution_count": 33,
      "outputs": []
    },
    {
      "cell_type": "code",
      "metadata": {
        "id": "NE99xTPJDLM7"
      },
      "source": [
        "def q1_a(train_data, test_data, image_shape, dset_id):\n",
        "    \"\"\"\n",
        "    train_data: A (n_train, H, W, C) uint8 numpy array of color images with values in {0, 1, 2, 3}\n",
        "    test_data: A (n_test, H, W, C) uint8 numpy array of color images with values in {0, 1, 2, 3}\n",
        "    image_shape: (H, W, C), height, width, and # of channels of the image\n",
        "    dset_id: An identifying number of which dataset is given (1 or 2). Most likely\n",
        "            used to set different hyperparameters for different datasets\n",
        "\n",
        "    Returns\n",
        "    - a (# of training iterations,) numpy array of train_losses evaluated every minibatch\n",
        "    - a (# of epochs + 1,) numpy array of test_losses evaluated once at initialization and after each epoch\n",
        "    - a numpy array of size (100, H, W, C) of samples with values in {0, 1, 2, 3}\n",
        "    \"\"\"\n",
        "    \n",
        "    \"\"\" YOUR CODE HERE \"\"\"\n",
        "    \n",
        "    epochs = 20\n",
        "    batch_size = 128\n",
        "    lr = 1e-3\n",
        "    \n",
        "    model = PixelCNN(image_shape, 4, False).to(device)\n",
        "\n",
        "    train_dataloader = DataLoader(train_data, batch_size=batch_size, shuffle=True, collate_fn=collate_fn)\n",
        "    test_dataloader = DataLoader(test_data, batch_size=batch_size, shuffle=False, collate_fn=collate_fn)\n",
        " \n",
        "    train_losses, test_losses = model.fit(train_dataloader, test_dataloader, epochs, lr)\n",
        "\n",
        "    return train_losses, test_losses, model.sample(100)"
      ],
      "execution_count": 34,
      "outputs": []
    },
    {
      "cell_type": "markdown",
      "metadata": {
        "id": "mGp2OsLKiToN"
      },
      "source": [
        "### Results\n",
        "\n",
        "Once you've implemented `q1_a`, execute the cells below to visualize and save your results\n",
        "\n"
      ]
    },
    {
      "cell_type": "code",
      "metadata": {
        "id": "kW-k-59qJaKN",
        "colab": {
          "base_uri": "https://localhost:8080/",
          "height": 49,
          "referenced_widgets": [
            "925e86e556a147549a732f3ed984d6c9",
            "7d6e02fc056f45e382e989113ddb4c14",
            "3fa576e65d714fbcb2e4f8de2d747c6a",
            "7af7cebda3d443d3becd719e582690d0",
            "d49aaa1c386348799a38828de4a86ef0",
            "b3008b355b634ed1ad9777d40fdaa5d8",
            "347e4e3185a24726b8febe6715ff79c7",
            "8551866b11a64ad48c87f310aa9f6ed9",
            "ec5ef7a7f59244fca153243dbdcdc4cf",
            "c46fb0c37f2040128d4f4288d16d622e",
            "6f13835f7cf24712870302c52857f731"
          ]
        },
        "outputId": "c291cd9e-b232-4db0-f6e2-918c39e97597"
      },
      "source": [
        "q1ab_save_results(1, 'a', q1_a)"
      ],
      "execution_count": null,
      "outputs": [
        {
          "output_type": "display_data",
          "data": {
            "application/vnd.jupyter.widget-view+json": {
              "model_id": "925e86e556a147549a732f3ed984d6c9",
              "version_minor": 0,
              "version_major": 2
            },
            "text/plain": [
              "Training:   0%|          | 0/20 [00:00<?, ?it/s]"
            ]
          },
          "metadata": {}
        }
      ]
    },
    {
      "cell_type": "code",
      "metadata": {
        "id": "It_iPXaZjlk0"
      },
      "source": [
        "q1ab_save_results(2, 'a', q1_b)"
      ],
      "execution_count": null,
      "outputs": []
    },
    {
      "cell_type": "markdown",
      "metadata": {
        "id": "HlX23th4JbRy"
      },
      "source": [
        "## Part (b) PixelCNN on Colored Shapes and MNIST: Autoregressive Color Channels\n",
        "\n",
        "Now, implement a PixelCNN that models **dependent** color channels. Formally, we model the parameterized distribution\n",
        "\n",
        "$$p_\\theta(x) = \\prod_{i=1}^{HW}\\prod_{c=1}^C p_\\theta(x_i^c | x_i^{<c}, x_{<i})$$\n",
        "\n",
        "To do so, change your masking scheme for the center pixel. Split the filters into 3 groups, only allowing each group to see the groups before (or including the current group, for type B masks) to maintain the autoregressive property.\n",
        "\n",
        "Training times and hyperparameter settings should be the same as part (b).\n",
        "\n",
        "**You will provide these deliverables**\n",
        "\n",
        "\n",
        "1.   Over the course of training, record the average negative log-likelihood (nats / dim) of the training data (per minibatch) and test data (for your entire test set). Code is provided that automatically plots the training curves. \n",
        "2.   Report the final test set performance of your final model\n",
        "3. 100 samples from the final trained model\n",
        "\n"
      ]
    },
    {
      "cell_type": "markdown",
      "metadata": {
        "id": "_4VvvEJQK3Bb"
      },
      "source": [
        "### Solution\n",
        "Fill out the function below and return the necessary arguments. Feel free to create more cells if need be."
      ]
    },
    {
      "cell_type": "code",
      "metadata": {
        "id": "kqzuSDBUK3dL"
      },
      "source": [
        "def q1_b(train_data, test_data, image_shape, dset_id):\n",
        "    \"\"\"\n",
        "    train_data: A (n_train, H, W, C) uint8 numpy array of color images with values in {0, 1, 2, 3}\n",
        "    test_data: A (n_test, H, W, C) uint8 numpy array of color images with values in {0, 1, 2, 3}\n",
        "    image_shape: (H, W, C), height, width, and # of channels of the image\n",
        "    dset_id: An identifying number of which dataset is given (1 or 2). Most likely\n",
        "            used to set different hyperparameters for different datasets\n",
        "\n",
        "    Returns\n",
        "    - a (# of training iterations,) numpy array of train_losses evaluated every minibatch\n",
        "    - a (# of epochs + 1,) numpy array of test_losses evaluated once at initialization and after each epoch\n",
        "    - a numpy array of size (100, H, W, C) of samples with values in {0, 1, 2, 3}\n",
        "    \"\"\"\n",
        "    \n",
        "    \"\"\" YOUR CODE HERE \"\"\"\n",
        "\n",
        "    epochs = 1\n",
        "    batch_size = 128\n",
        "    lr = 1e-3\n",
        "    \n",
        "    model = PixelCNN(image_shape, 4, True).to(device)\n",
        "\n",
        "    train_dataloader = DataLoader(train_data, batch_size=batch_size, shuffle=True, collate_fn=collate_fn)\n",
        "    test_dataloader = DataLoader(test_data, batch_size=batch_size, shuffle=False, collate_fn=collate_fn)\n",
        " \n",
        "    train_losses, test_losses = model.fit(train_dataloader, test_dataloader, epochs, lr)\n",
        "\n",
        "    return train_losses, test_losses, model.sample(100)"
      ],
      "execution_count": 15,
      "outputs": []
    },
    {
      "cell_type": "markdown",
      "metadata": {
        "id": "UTB-VUBnK321"
      },
      "source": [
        "### Results\n",
        "\n",
        "Once you've implemented `q1_b`, execute the cells below to visualize and save your results\n",
        "\n"
      ]
    },
    {
      "cell_type": "code",
      "metadata": {
        "id": "TXxpdINJK4NU"
      },
      "source": [
        "q1ab_save_results(1, 'b', q1_b)"
      ],
      "execution_count": null,
      "outputs": []
    },
    {
      "cell_type": "code",
      "metadata": {
        "id": "Q-Yh9D0G4PxQ"
      },
      "source": [
        "q1ab_save_results(2, 'b', q1_b)"
      ],
      "execution_count": null,
      "outputs": []
    },
    {
      "cell_type": "markdown",
      "metadata": {
        "id": "_IhTtaEXF633"
      },
      "source": [
        "## Part (c) Conditional PixelCNNs\n",
        "\n",
        "In this part, implement and train a **class-conditional** PixelCNN on binary MNIST. Condition on a class label by adding a conditional bias in each convolutional layer. More precisely, in the $\\ell$th convolutional layer, compute: \n",
        "$$W_\\ell * x + b_\\ell + V_\\ell y$$\n",
        "where $W_\\ell * x + b_\\ell$ is a masked convolution (as in previous parts), $V$ is a 2D weight matrix, and $y$ is a one-hot encoding of the class label (where the conditional bias is broadcasted spacially and added channel-wise).\n",
        "\n",
        "You can use a PixelCNN architecture similar to part (a). Training on the shapes dataset should be quick, and MNIST should take around 10-15 minutes\n",
        "\n",
        "\n",
        "**You will provide these deliverables**\n",
        "\n",
        "\n",
        "1.   Over the course of training, record the average negative log-likelihood (nats / dim) of the training data (per minibatch) and test data (for your entire test set). Code is provided that automatically plots the training curves. \n",
        "2.   Report the final test set performance of your final model\n",
        "3. 100 samples from the final trained model"
      ]
    },
    {
      "cell_type": "markdown",
      "metadata": {
        "id": "8U3JwQV1izoA"
      },
      "source": [
        "### Solution\n",
        "Fill out the function below and return the necessary arguments. Feel free to create more cells if need be."
      ]
    },
    {
      "cell_type": "code",
      "metadata": {
        "id": "kE55eJjtkXL5"
      },
      "source": [
        "# you can get access to data with q1c_get_data(dset_type)"
      ],
      "execution_count": null,
      "outputs": []
    },
    {
      "cell_type": "code",
      "metadata": {
        "id": "En2kM8jhF8ri"
      },
      "source": [
        "def q1_c(train_data, train_labels, test_data, test_labels, image_shape, n_classes, dset_id):\n",
        "  \"\"\"\n",
        "  train_data: A (n_train, H, W, 1) numpy array of binary images with values in {0, 1}\n",
        "  train_labels: A (n_train,) numpy array of class labels\n",
        "  test_data: A (n_test, H, W, 1) numpy array of binary images with values in {0, 1}\n",
        "  test_labels: A (n_test,) numpy array of class labels\n",
        "  image_shape: (H, W), height and width\n",
        "  n_classes: number of classes (4 or 10)\n",
        "  dset_id: An identifying number of which dataset is given (1 or 2). Most likely\n",
        "           used to set different hyperparameters for different datasets\n",
        "\n",
        "  Returns\n",
        "  - a (# of training iterations,) numpy array of train_losses evaluated every minibatch\n",
        "  - a (# of epochs + 1,) numpy array of test_losses evaluated once at initialization and after each epoch\n",
        "  - a numpy array of size (100, H, C, 1) of samples with values in {0, 1}\n",
        "    where an even number of images of each class are sampled with 100 total\n",
        "  \"\"\"\n",
        "  \n",
        "  \"\"\" YOUR CODE HERE \"\"\""
      ],
      "execution_count": null,
      "outputs": []
    },
    {
      "cell_type": "markdown",
      "metadata": {
        "id": "LNSDCpfeiY0-"
      },
      "source": [
        "### Results\n",
        "\n",
        "Once you've implemented `q1_c`, execute the cells below to visualize and save your results\n",
        "\n"
      ]
    },
    {
      "cell_type": "code",
      "metadata": {
        "id": "PhonsHCcGC3l",
        "colab": {
          "base_uri": "https://localhost:8080/",
          "height": 577
        },
        "outputId": "a292b409-a20b-4056-c0c0-8d414d6230e6"
      },
      "source": [
        "q1c_save_results(1, q1_c)"
      ],
      "execution_count": null,
      "outputs": [
        {
          "output_type": "stream",
          "text": [
            "Final Test Loss: 0.0368\n"
          ],
          "name": "stdout"
        },
        {
          "output_type": "display_data",
          "data": {
            "text/plain": [
              "<Figure size 432x288 with 1 Axes>"
            ],
            "image/png": "[encoded data removed]"
          },
          "metadata": {
            "tags": [],
            "needs_background": "light"
          }
        },
        {
          "output_type": "display_data",
          "data": {
            "text/plain": [
              "<Figure size 432x288 with 1 Axes>"
            ],
            "image/png": "[encoded data removed]"
          },
          "metadata": {
            "tags": [],
            "needs_background": "light"
          }
        }
      ]
    },
    {
      "cell_type": "code",
      "metadata": {
        "id": "ZtN6ykwn4MQI"
      },
      "source": [
        "q1c_save_results(2, q1_c)"
      ],
      "execution_count": null,
      "outputs": []
    },
    {
      "cell_type": "markdown",
      "metadata": {
        "id": "LMZLcaHwLNNL"
      },
      "source": [
        "# Bonus 1: Bonus Questions (Optional)"
      ]
    },
    {
      "cell_type": "markdown",
      "metadata": {
        "id": "uZ-DhcsGLTRB"
      },
      "source": [
        "## Part (a) Gated PixelCNN\n",
        "Implement a [Gated PixelCNN](https://arxiv.org/abs/1606.05328) to fix the blind-spot issue, and report training curves, final test loss, and samples."
      ]
    },
    {
      "cell_type": "markdown",
      "metadata": {
        "id": "orP7ESaE5xI8"
      },
      "source": [
        "### Solution\n",
        "Fill out the function below and return the necessary arguments. Feel free to create more cells if need be."
      ]
    },
    {
      "cell_type": "code",
      "metadata": {
        "id": "eWRyvJAskzVt"
      },
      "source": [
        "#b1ab_get_data()"
      ],
      "execution_count": null,
      "outputs": []
    },
    {
      "cell_type": "code",
      "metadata": {
        "id": "IlX6Aa6jLOGN"
      },
      "source": [
        "def b1_a(train_data, test_data, image_shape):\n",
        "  \"\"\"\n",
        "  train_data: A (n_train, H, W, C) uint8 numpy array of color images with values in {0, 1, 2, 3}\n",
        "  test_data: A (n_test, H, W, C) uint8 numpy array of color images with values in {0, 1, 2, 3}\n",
        "  image_shape: (H, W, C), height, width, and # of channels of the image\n",
        "\n",
        "  Returns\n",
        "  - a (# of training iterations,) numpy array of train_losses evaluated every minibatch\n",
        "  - a (# of epochs + 1,) numpy array of test_losses evaluated once at initialization and after each epoch\n",
        "  - a numpy array of size (100, H, W, C) of generated samples with values in {0, 1, 2, 3}\n",
        "  \"\"\"\n",
        "  \"\"\" YOUR CODE HERE \"\"\""
      ],
      "execution_count": null,
      "outputs": []
    },
    {
      "cell_type": "markdown",
      "metadata": {
        "id": "AMdpZFJv55k9"
      },
      "source": [
        "### Results\n",
        "\n",
        "Once you've implemented `b1_a`, execute the cells below to visualize and save your results\n",
        "\n"
      ]
    },
    {
      "cell_type": "code",
      "metadata": {
        "id": "zUjIxe2-8v-Q"
      },
      "source": [
        "b1a_save_results(b1_a)"
      ],
      "execution_count": null,
      "outputs": []
    },
    {
      "cell_type": "markdown",
      "metadata": {
        "id": "dwV0spI2Ly0P"
      },
      "source": [
        "## Part (b) Grayscale PixelcNN\n",
        "Train a [Grayscale PixelCNN](https://arxiv.org/abs/1612.08185) on Colored MNIST. You do not need to use their architecture - stacking standard masked convolutions or residual blocks is fine. First, generate a binary image, and then the 2-bit color image."
      ]
    },
    {
      "cell_type": "markdown",
      "metadata": {
        "id": "3DAJGnNv50C2"
      },
      "source": [
        "### Solution\n",
        "Fill out the function below and return the necessary arguments. Feel free to create more cells if need be."
      ]
    },
    {
      "cell_type": "code",
      "metadata": {
        "id": "3Kix-StXL08n"
      },
      "source": [
        "def b1_b(train_data, test_data, image_shape):\n",
        "  \"\"\"\n",
        "  train_data: A (n_train, H, W, C) uint8 numpy array of color images with values in {0, 1, 2, 3}\n",
        "  test_data: A (n_test, H, W, C) uint8 numpy array of color images with values in {0, 1, 2, 3}\n",
        "  image_shape: (H, W, C), height, width, and # of channels of the image\n",
        "\n",
        "  Returns\n",
        "  - a (# of training iterations,) numpy array of train_losses evaluated every minibatch\n",
        "  - a (# of epochs + 1,) numpy array of test_losses evaluated once at initialization and after each epoch\n",
        "  - a numpy array of size (50, H, W, 1) of generated binary images in {0, 1}\n",
        "  - a numpy array of size (50, H, W, C) of conditonally generated color images in {0, 1, 2, 3}\n",
        "  \"\"\"\n",
        "  # You will need to generate the binary image dataset from train_data and test_data\n",
        "  \n",
        "  \"\"\" YOUR CODE HERE \"\"\""
      ],
      "execution_count": null,
      "outputs": []
    },
    {
      "cell_type": "markdown",
      "metadata": {
        "id": "LPOmIqtM585K"
      },
      "source": [
        "### Results\n",
        "\n",
        "Once you've implemented `b1_b`, execute the cells below to visualize and save your results\n",
        "\n"
      ]
    },
    {
      "cell_type": "code",
      "metadata": {
        "id": "iwjE85Ux83kv"
      },
      "source": [
        "q1b_save_results(q1_b)"
      ],
      "execution_count": null,
      "outputs": []
    },
    {
      "cell_type": "markdown",
      "metadata": {
        "id": "7J9F2kFBL-p3"
      },
      "source": [
        "## Part (c) Parallel Multiscale PixelCNN\n",
        "One large disadvantage of autoregressive models is their slow sampling speed, since they require one network evaluation per feature. However, there are existing methods which introduce different independence assumptions to allow for parallelism when sampling. Implement a [Parallel PixelCNN](https://arxiv.org/abs/1703.03664) on 56 x 56 MNIST images, with a base size of 7 x 7 and upscaling by a factor of 2. Sampling should be very quick (< 1s). Architectures may vary, but using small PixelCNN implementation similar to previous parts and small ResNets should suffice"
      ]
    },
    {
      "cell_type": "markdown",
      "metadata": {
        "id": "PfQAN_a051BS"
      },
      "source": [
        "### Solution\n",
        "Fill out the function below and return the necessary arguments. Feel free to create more cells if need be."
      ]
    },
    {
      "cell_type": "code",
      "metadata": {
        "id": "JqeWAMrXk3cz"
      },
      "source": [
        "#b1c_get_data()"
      ],
      "execution_count": null,
      "outputs": []
    },
    {
      "cell_type": "code",
      "metadata": {
        "id": "Qa0Sm3GIMA5R"
      },
      "source": [
        "def b1_c(train_data, test_data):\n",
        "  \"\"\"\n",
        "  train_data: A (60000, 56, 56, 1) numpy array of grayscale images with values in {0, 1}\n",
        "  test_data: A (10000, 56, 56, 1) numpy array of grayscale images with values in {0, 1}\n",
        "  image_shape: (H, W), height and width\n",
        "\n",
        "  Returns\n",
        "  - a (# of training iterations,) numpy array of train_losses evaluated every minibatch\n",
        "  - a (# of epochs + 1,) numpy array of test_losses evaluated once at initialization and after each epoch\n",
        "  - a numpy array of size (100, 56, 56, 1) of generated samples with values in {0, 1}\n",
        "  \"\"\"\n",
        " \n",
        "  \"\"\" YOUR CODE HERE \"\"\""
      ],
      "execution_count": null,
      "outputs": []
    },
    {
      "cell_type": "markdown",
      "metadata": {
        "id": "2kFqvnZN517N"
      },
      "source": [
        "### Results\n",
        "\n",
        "Once you've implemented `b1_c`, execute the cells below to visualize and save your results\n",
        "\n"
      ]
    },
    {
      "cell_type": "code",
      "metadata": {
        "id": "V73EuNZY5_Ld"
      },
      "source": [
        "b1c_save_results(b1_c)"
      ],
      "execution_count": null,
      "outputs": []
    }
  ]
}