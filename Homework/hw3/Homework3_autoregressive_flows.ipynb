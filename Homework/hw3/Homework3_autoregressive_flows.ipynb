{
  "nbformat": 4,
  "nbformat_minor": 0,
  "metadata": {
    "colab": {
      "name": "Homework3_autoregressive_flows.ipynb",
      "provenance": [],
      "collapsed_sections": [],
      "include_colab_link": true
    },
    "kernelspec": {
      "name": "python3",
      "display_name": "Python 3"
    },
    "accelerator": "TPU"
  },
  "cells": [
    {
      "cell_type": "markdown",
      "metadata": {
        "id": "view-in-github",
        "colab_type": "text"
      },
      "source": [
        "<a href=\"https://colab.research.google.com/github/Tikhon239/dul_2021/blob/hw3/Homework/hw3/Homework3_autoregressive_flows.ipynb\" target=\"_parent\"><img src=\"https://colab.research.google.com/assets/colab-badge.svg\" alt=\"Open In Colab\"/></a>"
      ]
    },
    {
      "cell_type": "code",
      "metadata": {
        "id": "wUVy2glDtoaR",
        "colab": {
          "base_uri": "https://localhost:8080/"
        },
        "outputId": "19fa9605-6e44-414d-e969-3bbbcfa6bede"
      },
      "source": [
        "!if [ -d dul_2021 ]; then rm -Rf dul_2021; fi\n",
        "!git clone --single-branch https://github.com/GrigoryBartosh/dul_2021\n",
        "!pip install ./dul_2021"
      ],
      "execution_count": 1,
      "outputs": [
        {
          "output_type": "stream",
          "name": "stdout",
          "text": [
            "Cloning into 'dul_2021'...\n",
            "remote: Enumerating objects: 149, done.\u001b[K\n",
            "remote: Counting objects: 100% (149/149), done.\u001b[K\n",
            "remote: Compressing objects: 100% (90/90), done.\u001b[K\n",
            "remote: Total 149 (delta 60), reused 119 (delta 42), pack-reused 0\u001b[K\n",
            "Receiving objects: 100% (149/149), 27.59 MiB | 30.81 MiB/s, done.\n",
            "Resolving deltas: 100% (60/60), done.\n",
            "Processing ./dul_2021\n",
            "\u001b[33m  DEPRECATION: A future pip version will change local packages to be built in-place without first copying to a temporary directory. We recommend you use --use-feature=in-tree-build to test your packages with this new behavior before it becomes the default.\n",
            "   pip 21.3 will remove support for this functionality. You can find discussion regarding this at https://github.com/pypa/pip/issues/7555.\u001b[0m\n",
            "Building wheels for collected packages: dul-2021\n",
            "  Building wheel for dul-2021 (setup.py) ... \u001b[?25l\u001b[?25hdone\n",
            "  Created wheel for dul-2021: filename=dul_2021-0.1.0-py3-none-any.whl size=11649 sha256=790d01320416d5f93b3a125a09db544748d64cf0ef2bc2b8b65c7960a049a010\n",
            "  Stored in directory: /tmp/pip-ephem-wheel-cache-0lp1f9da/wheels/55/59/29/0fb1c635652157734f4d741f32fc11979149684e83e919de06\n",
            "Successfully built dul-2021\n",
            "Installing collected packages: dul-2021\n",
            "Successfully installed dul-2021-0.1.0\n"
          ]
        }
      ]
    },
    {
      "cell_type": "code",
      "metadata": {
        "id": "ZHWosWrbpO5Y"
      },
      "source": [
        "from dul_2021.utils.hw3_utils import *"
      ],
      "execution_count": 2,
      "outputs": []
    },
    {
      "cell_type": "code",
      "metadata": {
        "id": "jyUx7a2tLZRY"
      },
      "source": [
        "from typing import Tuple, List, Optional\n",
        "from tqdm.auto import trange\n",
        "\n",
        "import numpy as np\n",
        "import torch\n",
        "import torch.nn as nn\n",
        "import torch.optim as opt\n",
        "import torch.utils.data\n",
        "import torch.nn.functional as F\n",
        "from torch.utils.data import Dataset, DataLoader\n",
        "from torch.distributions.uniform import Uniform\n",
        "from torch.distributions.normal import Normal"
      ],
      "execution_count": 3,
      "outputs": []
    },
    {
      "cell_type": "code",
      "metadata": {
        "id": "z1RsaZVaLzHr"
      },
      "source": [
        "device = torch.device(\"cuda\" if torch.cuda.is_available() else \"cpu\")"
      ],
      "execution_count": 5,
      "outputs": []
    },
    {
      "cell_type": "markdown",
      "metadata": {
        "id": "bk6l6G30tEIg"
      },
      "source": [
        "\n",
        "# Question 1: Autoregressive Flows for Images\n",
        "\n",
        "Adapt your PixelCNN implementation from Homework 2 and use it as an autoregressive flow model on the black-and-white shapes dataset. Using the base architecture from Homework 2 1(a), output a mixture of logistics or gaussians (instead of logits), whose CDF we will use as our flow for each dimension of x. \n",
        "\n",
        "Remember: you must dequantize the data and scale it between 0 and 1 for the autoregressive flow to have stable training. \n",
        "\n",
        "**You will provide these deliverables**\n",
        "\n",
        "1.   Over the course of training, record the average negative log-likelihood (nats / dim) of the training data (per minibatch) and test data (for your entire test set). Code is provided that automatically plots the training curves. **Make sure to account for any rescaling you do in your nats/dim.**\n",
        "2.   Report the final test set performance of your final model\n",
        "3. 100 samples from your autoregressive flow. Our plotting code will show your samples, with and without clipping and flooring (to remove the quantization). \n"
      ]
    },
    {
      "cell_type": "code",
      "metadata": {
        "id": "-IrVp24MLU4s"
      },
      "source": [
        "class MaskedConv(nn.Conv2d):\n",
        "    def __init__(self, *args, **kwargs):\n",
        "        super().__init__(*args, **kwargs)\n",
        "        self.register_buffer('mask', torch.zeros_like(self.weight))\n",
        "        self.set_mask()\n",
        "    \n",
        "    def forward(self, x, labels=None):\n",
        "        self.weight.data *= self.mask\n",
        "        return super().forward(x)\n",
        "\n",
        "    def set_mask(self, color_depended: bool):\n",
        "        raise NotImplementedError()"
      ],
      "execution_count": 5,
      "outputs": []
    },
    {
      "cell_type": "code",
      "metadata": {
        "id": "eYqvWFfJL3KX"
      },
      "source": [
        "class ConvA(MaskedConv):\n",
        "    def set_mask(self):\n",
        "        h, w = self.kernel_size\n",
        "        self.mask[:, :, : h // 2] = 1\n",
        "        self.mask[:, :, h // 2, : w // 2] = 1\n",
        "    \n",
        "class ConvB(MaskedConv):\n",
        "    def set_mask(self):\n",
        "        h, w = self.kernel_size\n",
        "        self.mask[:, :, : h // 2] = 1\n",
        "        self.mask[:, :, h // 2, : w // 2 + 1] = 1"
      ],
      "execution_count": 6,
      "outputs": []
    },
    {
      "cell_type": "code",
      "metadata": {
        "id": "K0E_Jfv7MCbd"
      },
      "source": [
        "class ResidualBlock(nn.Module):\n",
        "    def __init__(self, in_channels: int):\n",
        "      super().__init__()\n",
        "\n",
        "      self.model = nn.Sequential(\n",
        "          ConvB(in_channels=in_channels, out_channels=in_channels // 2, kernel_size=1),\n",
        "          nn.ReLU(),\n",
        "          ConvB(in_channels=in_channels // 2, out_channels=in_channels // 2, kernel_size=7, padding=3),\n",
        "          nn.ReLU(),\n",
        "          ConvB(in_channels=in_channels // 2, out_channels=in_channels, kernel_size=1)\n",
        "      )\n",
        "\n",
        "    def forward(self, x):\n",
        "        return self.model(x) + x"
      ],
      "execution_count": 7,
      "outputs": []
    },
    {
      "cell_type": "code",
      "metadata": {
        "id": "uqXvS0jDNNDB"
      },
      "source": [
        "class FlowPixelCNN(nn.Module):\n",
        "    def __init__(self,\n",
        "                 input_shape: Tuple[int, int, int],\n",
        "                 n_components: int = 5,\n",
        "                 base_dist = Uniform(torch.Tensor([0]).to(device), torch.Tensor([1]).to(device)),\n",
        "                 n_filters: int = 120,\n",
        "                 n_layers: int = 8):\n",
        "        super().__init__()\n",
        "        self.h, self.w, self.c = input_shape\n",
        "        self.n_components = n_components\n",
        "        self.base_dist = base_dist\n",
        "\n",
        "        layers = [ConvA(self.c, n_filters, kernel_size=7, padding=3)]\n",
        "        for _ in range(n_layers):\n",
        "            layers.append(ResidualBlock(n_filters))\n",
        "        layers.extend([\n",
        "                       nn.ReLU(),\n",
        "                       ConvB(in_channels=n_filters, out_channels=n_filters, kernel_size=1),\n",
        "                       nn.ReLU(),\n",
        "                       ConvB(in_channels=n_filters, out_channels=self.c * 3 * self.n_components, kernel_size=1)\n",
        "        ])\n",
        "        \n",
        "        self.model = nn.Sequential(*layers)\n",
        "\n",
        "    def forward(self, batch):\n",
        "        batch_size = batch.shape[0]\n",
        "        return self.model(batch).reshape(batch_size, self.c, 3 * self.n_components, self.h, self.w)\n",
        "\n",
        "    def _flow(self, batch):\n",
        "        log_w, mu, log_s = torch.chunk(self(batch), 3, dim=2)\n",
        "        w = F.softmax(log_w, dim=2)\n",
        "        dist = Normal(mu, log_s.exp()) \n",
        "        batch_r = batch.unsqueeze(2).repeat(1, 1, self.n_components, 1, 1)\n",
        "        z = (dist.cdf(batch_r) * w).sum(dim=2)\n",
        "        log_det = (dist.log_prob(batch_r).exp() * w).sum(dim=2).log()\n",
        "        return z, log_det\n",
        "\n",
        "    def _log_prob(self, batch):\n",
        "        z, log_det = self._flow(batch)\n",
        "        z = torch.clip(z, 0, 1)\n",
        "        return (self.base_dist.log_prob(z) + log_det).sum(dim=(2,3))\n",
        "\n",
        "    def _calculate_loss(self, batch):\n",
        "        return -self._log_prob(batch).mean()  \n",
        "  \n",
        "    def _test(self, test_dataloader: DataLoader) -> float:\n",
        "        self.eval()\n",
        "        test_losses = []\n",
        "        with torch.no_grad():\n",
        "            for batch in test_dataloader:\n",
        "                batch = batch.to(device)\n",
        "                test_losses.append(self._calculate_loss(batch).cpu().numpy())\n",
        "        return np.mean(test_losses)\n",
        "\n",
        "    def fit(self,\n",
        "            train_dataloader: DataLoader,\n",
        "            test_dataloader: DataLoader,\n",
        "            epochs: int = 20,\n",
        "            lr: float = 1e-3) -> Tuple[List[float], List[float]]:\n",
        "\n",
        "        train_losses = []\n",
        "        test_losses = []\n",
        "\n",
        "        optim = torch.optim.Adam(self.parameters(), lr=lr)\n",
        "\n",
        "        test_losses.append(self._test(test_dataloader))\n",
        "\n",
        "        for epoch in trange(epochs, desc=\"Training\"):\n",
        "            self.train()\n",
        "            epoch_train_losses = []\n",
        "            for batch in train_dataloader:\n",
        "                batch = batch.to(device)\n",
        "                batch = (batch + torch.rand(batch.shape, device=device)) / 2.0\n",
        "\n",
        "                loss = self._calculate_loss(batch)\n",
        "\n",
        "                optim.zero_grad()\n",
        "                loss.backward()\n",
        "                torch.nn.utils.clip_grad_norm_(self.parameters(), 1)\n",
        "                optim.step()\n",
        "\n",
        "                epoch_train_losses.append(loss.detach().cpu().numpy())\n",
        "\n",
        "            train_losses.append(np.mean(epoch_train_losses))\n",
        "            test_losses.append(self._test(test_dataloader))\n",
        "          \n",
        "        return train_losses, test_losses\n",
        "\n",
        "    def sample(self, n: int = 100) -> np.ndarray:\n",
        "        with torch.no_grad():\n",
        "            samples = torch.zeros((n, self.c, self.h, self.w), device=device)\n",
        "            # for y in trange(self.h, desc=\"Sampling\"):\n",
        "            #     for x in range(self.w):\n",
        "            #         for c in range(self.c):\n",
        "            #             samples[:, c, y, x] = self._log_prob(samples)[:, c, y, x].exp()\n",
        "        return samples.permute(0, 2, 3, 1).cpu().numpy()    "
      ],
      "execution_count": 50,
      "outputs": []
    },
    {
      "cell_type": "code",
      "metadata": {
        "id": "C9cWwL-FtoUD"
      },
      "source": [
        "model = FlowPixelCNN((20, 20, 3)).to(device)\n",
        "batch = torch.rand((2, 3, 20, 20)).to(device)"
      ],
      "execution_count": 14,
      "outputs": []
    },
    {
      "cell_type": "code",
      "metadata": {
        "id": "aAyqdNELuS3J",
        "outputId": "b6870ae1-40be-45ca-f912-99b44267dc25",
        "colab": {
          "base_uri": "https://localhost:8080/"
        }
      },
      "source": [
        "log_w, mu, log_s = torch.chunk(model(batch), 3, dim=2)\n",
        "w = F.softmax(log_w, dim=2)\n",
        "dist = Normal(mu, log_s.exp())   \n",
        "w.shape"
      ],
      "execution_count": 27,
      "outputs": [
        {
          "output_type": "execute_result",
          "data": {
            "text/plain": [
              "torch.Size([2, 3, 5, 20, 20])"
            ]
          },
          "metadata": {},
          "execution_count": 27
        }
      ]
    },
    {
      "cell_type": "code",
      "metadata": {
        "id": "IlyyJfkgur--",
        "outputId": "9a9ebe36-a02c-441d-b092-ce68d404cc31",
        "colab": {
          "base_uri": "https://localhost:8080/"
        }
      },
      "source": [
        "dist.batch_shape"
      ],
      "execution_count": 28,
      "outputs": [
        {
          "output_type": "execute_result",
          "data": {
            "text/plain": [
              "torch.Size([2, 3, 5, 20, 20])"
            ]
          },
          "metadata": {},
          "execution_count": 28
        }
      ]
    },
    {
      "cell_type": "code",
      "metadata": {
        "id": "JkhocN5uveoz",
        "outputId": "f7e11eea-e49e-420d-d67c-00c31d071f6e",
        "colab": {
          "base_uri": "https://localhost:8080/"
        }
      },
      "source": [
        "batch_r = batch.unsqueeze(2).repeat(1, 1, 5, 1, 1)\n",
        "batch.shape, batch_r.shape"
      ],
      "execution_count": 43,
      "outputs": [
        {
          "output_type": "execute_result",
          "data": {
            "text/plain": [
              "(torch.Size([2, 3, 20, 20]), torch.Size([2, 3, 5, 20, 20]))"
            ]
          },
          "metadata": {},
          "execution_count": 43
        }
      ]
    },
    {
      "cell_type": "code",
      "metadata": {
        "id": "LfxZUatJwHmH",
        "outputId": "d01ff634-a6ab-439e-9396-13539f1aeb38",
        "colab": {
          "base_uri": "https://localhost:8080/"
        }
      },
      "source": [
        "z = (dist.cdf(batch_r) * w).sum(dim=2)\n",
        "z.shape"
      ],
      "execution_count": 42,
      "outputs": [
        {
          "output_type": "execute_result",
          "data": {
            "text/plain": [
              "torch.Size([2, 3, 20, 20])"
            ]
          },
          "metadata": {},
          "execution_count": 42
        }
      ]
    },
    {
      "cell_type": "code",
      "metadata": {
        "id": "gH9eG-rgwe-1",
        "outputId": "8eea62db-3849-470d-fd2b-dda73d9d23c5",
        "colab": {
          "base_uri": "https://localhost:8080/"
        }
      },
      "source": [
        "log_det = (dist.log_prob(batch_r).exp() * w).sum(dim=2).log()\n",
        "log_det.shape"
      ],
      "execution_count": 44,
      "outputs": [
        {
          "output_type": "execute_result",
          "data": {
            "text/plain": [
              "torch.Size([2, 3, 20, 20])"
            ]
          },
          "metadata": {},
          "execution_count": 44
        }
      ]
    },
    {
      "cell_type": "code",
      "metadata": {
        "id": "jQfyQBDlw3OT",
        "outputId": "bfa6e4f9-4e26-4879-812f-06a10ae4eafe",
        "colab": {
          "base_uri": "https://localhost:8080/"
        }
      },
      "source": [
        "log_det.sum(dim=(2,3))"
      ],
      "execution_count": 46,
      "outputs": [
        {
          "output_type": "execute_result",
          "data": {
            "text/plain": [
              "tensor([[-452.4270, -430.6246, -437.7518],\n",
              "        [-453.5385, -435.5212, -445.2745]], grad_fn=<SumBackward1>)"
            ]
          },
          "metadata": {},
          "execution_count": 46
        }
      ]
    },
    {
      "cell_type": "code",
      "metadata": {
        "id": "alF9C1t-tEys",
        "colab": {
          "base_uri": "https://localhost:8080/",
          "height": 264
        },
        "outputId": "42362677-5780-4d81-88fd-383b9e61ae39"
      },
      "source": [
        "visualize_q1_data()"
      ],
      "execution_count": null,
      "outputs": [
        {
          "output_type": "display_data",
          "data": {
            "image/png": "[encoded data removed]",
            "text/plain": [
              "<Figure size 432x288 with 1 Axes>"
            ]
          },
          "metadata": {
            "needs_background": "light"
          }
        }
      ]
    },
    {
      "cell_type": "markdown",
      "metadata": {
        "id": "fHHxHqSJTSAa"
      },
      "source": [
        "### Solution\n",
        "Fill out the function below and return the necessary arguments. Feel free to create more cells if need be."
      ]
    },
    {
      "cell_type": "code",
      "metadata": {
        "id": "-i67l0UJZ5dN"
      },
      "source": [
        "class PixelDataset(Dataset):\n",
        "    def __init__(self, data) -> None:\n",
        "        super().__init__()\n",
        "\n",
        "        self.data = torch.FloatTensor(data.transpose(0, 3, 1, 2))\n",
        "        #self.data += 0.5 - torch.rand(self.data.shape)\n",
        "\n",
        "    def __len__(self):\n",
        "        return self.data.size(0)\n",
        "\n",
        "    def __getitem__(self, index):\n",
        "        return self.data[index]"
      ],
      "execution_count": 51,
      "outputs": []
    },
    {
      "cell_type": "code",
      "metadata": {
        "id": "wtFZU2ymB6_t"
      },
      "source": [
        "def q1(train_data, test_data):\n",
        "  \"\"\"\n",
        "  train_data: A (n_train, H, W, 1) uint8 numpy array of binary images with values in {0, 1}\n",
        "  test_data: A (n_test, H, W, 1) uint8 numpy array of binary images with values in {0, 1}\n",
        "  H = W = 20\n",
        "  Note that you should dequantize your train and test data, your dequantized pixels should all lie in [0,1]\n",
        "\n",
        "  Returns\n",
        "  - a (# of training iterations,) numpy array of train_losses evaluated every minibatch\n",
        "  - a (# of epochs + 1,) numpy array of test_losses evaluated once at initialization and after each epoch\n",
        "  - a numpy array of size (100, H, W, 1) of samples with values in [0, 1], where [0,0.5] represents a black pixel\n",
        "      and [0.5,1] represents a white pixel. We will show your samples with and without noise. \n",
        "  \"\"\"\n",
        "  \n",
        "  \"\"\" YOUR CODE HERE \"\"\"\n",
        "\n",
        "  epochs = 5\n",
        "  batch_size = 128\n",
        "  lr = 1e-3\n",
        "  model = FlowPixelCNN(train_data.shape[1:]).to(device)\n",
        "\n",
        "  train_dataloader = DataLoader(PixelDataset(train_data), batch_size=batch_size, shuffle=True)\n",
        "  test_dataloader = DataLoader(PixelDataset(test_data), batch_size=batch_size, shuffle=False)\n",
        "\n",
        "  train_losses, test_losses = model.fit(train_dataloader, test_dataloader, epochs, lr)\n",
        "  \n",
        "  return train_losses, test_losses, model.sample(n=100)\n"
      ],
      "execution_count": 52,
      "outputs": []
    },
    {
      "cell_type": "markdown",
      "metadata": {
        "id": "Iso12bj4Tup8"
      },
      "source": [
        "### Results\n",
        "\n",
        "Once you've implemented `q1`, execute the cells below to visualize and save your results\n",
        "\n"
      ]
    },
    {
      "cell_type": "code",
      "metadata": {
        "id": "njfGrZ74Jm2d"
      },
      "source": [
        "q1_save_results(q1)"
      ],
      "execution_count": null,
      "outputs": []
    },
    {
      "cell_type": "code",
      "metadata": {
        "id": "LDZzWrcO-wnm"
      },
      "source": [
        ""
      ],
      "execution_count": null,
      "outputs": []
    }
  ]
}