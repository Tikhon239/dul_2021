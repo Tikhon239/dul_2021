{
  "nbformat": 4,
  "nbformat_minor": 0,
  "metadata": {
    "colab": {
      "name": "Homework10_selfsupervised.ipynb",
      "provenance": [],
      "collapsed_sections": [],
      "include_colab_link": true
    },
    "kernelspec": {
      "name": "python3",
      "display_name": "Python 3"
    },
    "language_info": {
      "name": "python"
    },
    "accelerator": "GPU",
    "widgets": {
      "application/vnd.jupyter.widget-state+json": {
        "56a706df1ca34da2b8852ef3ec9cf575": {
          "model_module": "@jupyter-widgets/controls",
          "model_name": "HBoxModel",
          "model_module_version": "1.5.0",
          "state": {
            "_view_name": "HBoxView",
            "_dom_classes": [],
            "_model_name": "HBoxModel",
            "_view_module": "@jupyter-widgets/controls",
            "_model_module_version": "1.5.0",
            "_view_count": null,
            "_view_module_version": "1.5.0",
            "box_style": "",
            "layout": "IPY_MODEL_95478abfd88d407c9e8a0051d3240b98",
            "_model_module": "@jupyter-widgets/controls",
            "children": [
              "IPY_MODEL_2994cc4ca49d41bb9c349df3e2fb8051",
              "IPY_MODEL_c15e3eab7ddb4093ae62e78cb48262b6",
              "IPY_MODEL_5b363fdfa6b141b6adb40da8b1f0a740"
            ]
          }
        },
        "95478abfd88d407c9e8a0051d3240b98": {
          "model_module": "@jupyter-widgets/base",
          "model_name": "LayoutModel",
          "model_module_version": "1.2.0",
          "state": {
            "_view_name": "LayoutView",
            "grid_template_rows": null,
            "right": null,
            "justify_content": null,
            "_view_module": "@jupyter-widgets/base",
            "overflow": null,
            "_model_module_version": "1.2.0",
            "_view_count": null,
            "flex_flow": null,
            "width": null,
            "min_width": null,
            "border": null,
            "align_items": null,
            "bottom": null,
            "_model_module": "@jupyter-widgets/base",
            "top": null,
            "grid_column": null,
            "overflow_y": null,
            "overflow_x": null,
            "grid_auto_flow": null,
            "grid_area": null,
            "grid_template_columns": null,
            "flex": null,
            "_model_name": "LayoutModel",
            "justify_items": null,
            "grid_row": null,
            "max_height": null,
            "align_content": null,
            "visibility": null,
            "align_self": null,
            "height": null,
            "min_height": null,
            "padding": null,
            "grid_auto_rows": null,
            "grid_gap": null,
            "max_width": null,
            "order": null,
            "_view_module_version": "1.2.0",
            "grid_template_areas": null,
            "object_position": null,
            "object_fit": null,
            "grid_auto_columns": null,
            "margin": null,
            "display": null,
            "left": null
          }
        },
        "2994cc4ca49d41bb9c349df3e2fb8051": {
          "model_module": "@jupyter-widgets/controls",
          "model_name": "HTMLModel",
          "model_module_version": "1.5.0",
          "state": {
            "_view_name": "HTMLView",
            "style": "IPY_MODEL_f2de788ef06c4b37819d3c9c88573be6",
            "_dom_classes": [],
            "description": "",
            "_model_name": "HTMLModel",
            "placeholder": "​",
            "_view_module": "@jupyter-widgets/controls",
            "_model_module_version": "1.5.0",
            "value": "Training: 100%",
            "_view_count": null,
            "_view_module_version": "1.5.0",
            "description_tooltip": null,
            "_model_module": "@jupyter-widgets/controls",
            "layout": "IPY_MODEL_7203d412877d4f7f94d8c57067b7f03d"
          }
        },
        "c15e3eab7ddb4093ae62e78cb48262b6": {
          "model_module": "@jupyter-widgets/controls",
          "model_name": "FloatProgressModel",
          "model_module_version": "1.5.0",
          "state": {
            "_view_name": "ProgressView",
            "style": "IPY_MODEL_32362edfff984daf97ed1264733e804f",
            "_dom_classes": [],
            "description": "",
            "_model_name": "FloatProgressModel",
            "bar_style": "success",
            "max": 20,
            "_view_module": "@jupyter-widgets/controls",
            "_model_module_version": "1.5.0",
            "value": 20,
            "_view_count": null,
            "_view_module_version": "1.5.0",
            "orientation": "horizontal",
            "min": 0,
            "description_tooltip": null,
            "_model_module": "@jupyter-widgets/controls",
            "layout": "IPY_MODEL_62c1a0fc012c45cda186f0f072ceb9fc"
          }
        },
        "5b363fdfa6b141b6adb40da8b1f0a740": {
          "model_module": "@jupyter-widgets/controls",
          "model_name": "HTMLModel",
          "model_module_version": "1.5.0",
          "state": {
            "_view_name": "HTMLView",
            "style": "IPY_MODEL_dc544e4c7c3340759154572be13dbf80",
            "_dom_classes": [],
            "description": "",
            "_model_name": "HTMLModel",
            "placeholder": "​",
            "_view_module": "@jupyter-widgets/controls",
            "_model_module_version": "1.5.0",
            "value": " 20/20 [07:18&lt;00:00, 21.83s/it]",
            "_view_count": null,
            "_view_module_version": "1.5.0",
            "description_tooltip": null,
            "_model_module": "@jupyter-widgets/controls",
            "layout": "IPY_MODEL_4d6ede2e13d147ed8712c3b709a15353"
          }
        },
        "f2de788ef06c4b37819d3c9c88573be6": {
          "model_module": "@jupyter-widgets/controls",
          "model_name": "DescriptionStyleModel",
          "model_module_version": "1.5.0",
          "state": {
            "_view_name": "StyleView",
            "_model_name": "DescriptionStyleModel",
            "description_width": "",
            "_view_module": "@jupyter-widgets/base",
            "_model_module_version": "1.5.0",
            "_view_count": null,
            "_view_module_version": "1.2.0",
            "_model_module": "@jupyter-widgets/controls"
          }
        },
        "7203d412877d4f7f94d8c57067b7f03d": {
          "model_module": "@jupyter-widgets/base",
          "model_name": "LayoutModel",
          "model_module_version": "1.2.0",
          "state": {
            "_view_name": "LayoutView",
            "grid_template_rows": null,
            "right": null,
            "justify_content": null,
            "_view_module": "@jupyter-widgets/base",
            "overflow": null,
            "_model_module_version": "1.2.0",
            "_view_count": null,
            "flex_flow": null,
            "width": null,
            "min_width": null,
            "border": null,
            "align_items": null,
            "bottom": null,
            "_model_module": "@jupyter-widgets/base",
            "top": null,
            "grid_column": null,
            "overflow_y": null,
            "overflow_x": null,
            "grid_auto_flow": null,
            "grid_area": null,
            "grid_template_columns": null,
            "flex": null,
            "_model_name": "LayoutModel",
            "justify_items": null,
            "grid_row": null,
            "max_height": null,
            "align_content": null,
            "visibility": null,
            "align_self": null,
            "height": null,
            "min_height": null,
            "padding": null,
            "grid_auto_rows": null,
            "grid_gap": null,
            "max_width": null,
            "order": null,
            "_view_module_version": "1.2.0",
            "grid_template_areas": null,
            "object_position": null,
            "object_fit": null,
            "grid_auto_columns": null,
            "margin": null,
            "display": null,
            "left": null
          }
        },
        "32362edfff984daf97ed1264733e804f": {
          "model_module": "@jupyter-widgets/controls",
          "model_name": "ProgressStyleModel",
          "model_module_version": "1.5.0",
          "state": {
            "_view_name": "StyleView",
            "_model_name": "ProgressStyleModel",
            "description_width": "",
            "_view_module": "@jupyter-widgets/base",
            "_model_module_version": "1.5.0",
            "_view_count": null,
            "_view_module_version": "1.2.0",
            "bar_color": null,
            "_model_module": "@jupyter-widgets/controls"
          }
        },
        "62c1a0fc012c45cda186f0f072ceb9fc": {
          "model_module": "@jupyter-widgets/base",
          "model_name": "LayoutModel",
          "model_module_version": "1.2.0",
          "state": {
            "_view_name": "LayoutView",
            "grid_template_rows": null,
            "right": null,
            "justify_content": null,
            "_view_module": "@jupyter-widgets/base",
            "overflow": null,
            "_model_module_version": "1.2.0",
            "_view_count": null,
            "flex_flow": null,
            "width": null,
            "min_width": null,
            "border": null,
            "align_items": null,
            "bottom": null,
            "_model_module": "@jupyter-widgets/base",
            "top": null,
            "grid_column": null,
            "overflow_y": null,
            "overflow_x": null,
            "grid_auto_flow": null,
            "grid_area": null,
            "grid_template_columns": null,
            "flex": null,
            "_model_name": "LayoutModel",
            "justify_items": null,
            "grid_row": null,
            "max_height": null,
            "align_content": null,
            "visibility": null,
            "align_self": null,
            "height": null,
            "min_height": null,
            "padding": null,
            "grid_auto_rows": null,
            "grid_gap": null,
            "max_width": null,
            "order": null,
            "_view_module_version": "1.2.0",
            "grid_template_areas": null,
            "object_position": null,
            "object_fit": null,
            "grid_auto_columns": null,
            "margin": null,
            "display": null,
            "left": null
          }
        },
        "dc544e4c7c3340759154572be13dbf80": {
          "model_module": "@jupyter-widgets/controls",
          "model_name": "DescriptionStyleModel",
          "model_module_version": "1.5.0",
          "state": {
            "_view_name": "StyleView",
            "_model_name": "DescriptionStyleModel",
            "description_width": "",
            "_view_module": "@jupyter-widgets/base",
            "_model_module_version": "1.5.0",
            "_view_count": null,
            "_view_module_version": "1.2.0",
            "_model_module": "@jupyter-widgets/controls"
          }
        },
        "4d6ede2e13d147ed8712c3b709a15353": {
          "model_module": "@jupyter-widgets/base",
          "model_name": "LayoutModel",
          "model_module_version": "1.2.0",
          "state": {
            "_view_name": "LayoutView",
            "grid_template_rows": null,
            "right": null,
            "justify_content": null,
            "_view_module": "@jupyter-widgets/base",
            "overflow": null,
            "_model_module_version": "1.2.0",
            "_view_count": null,
            "flex_flow": null,
            "width": null,
            "min_width": null,
            "border": null,
            "align_items": null,
            "bottom": null,
            "_model_module": "@jupyter-widgets/base",
            "top": null,
            "grid_column": null,
            "overflow_y": null,
            "overflow_x": null,
            "grid_auto_flow": null,
            "grid_area": null,
            "grid_template_columns": null,
            "flex": null,
            "_model_name": "LayoutModel",
            "justify_items": null,
            "grid_row": null,
            "max_height": null,
            "align_content": null,
            "visibility": null,
            "align_self": null,
            "height": null,
            "min_height": null,
            "padding": null,
            "grid_auto_rows": null,
            "grid_gap": null,
            "max_width": null,
            "order": null,
            "_view_module_version": "1.2.0",
            "grid_template_areas": null,
            "object_position": null,
            "object_fit": null,
            "grid_auto_columns": null,
            "margin": null,
            "display": null,
            "left": null
          }
        },
        "35c2ea09ae4f4be6be09f80927c90e7e": {
          "model_module": "@jupyter-widgets/controls",
          "model_name": "HBoxModel",
          "model_module_version": "1.5.0",
          "state": {
            "_view_name": "HBoxView",
            "_dom_classes": [],
            "_model_name": "HBoxModel",
            "_view_module": "@jupyter-widgets/controls",
            "_model_module_version": "1.5.0",
            "_view_count": null,
            "_view_module_version": "1.5.0",
            "box_style": "",
            "layout": "IPY_MODEL_2130d62c2ce046c1b15f27d391db7a5c",
            "_model_module": "@jupyter-widgets/controls",
            "children": [
              "IPY_MODEL_7832924ce20f49e8ae280019cb225f45",
              "IPY_MODEL_6ec5cdbd9ed04dd09e47e2b234e6243d",
              "IPY_MODEL_f3793192311c47739c67762fa5032188"
            ]
          }
        },
        "2130d62c2ce046c1b15f27d391db7a5c": {
          "model_module": "@jupyter-widgets/base",
          "model_name": "LayoutModel",
          "model_module_version": "1.2.0",
          "state": {
            "_view_name": "LayoutView",
            "grid_template_rows": null,
            "right": null,
            "justify_content": null,
            "_view_module": "@jupyter-widgets/base",
            "overflow": null,
            "_model_module_version": "1.2.0",
            "_view_count": null,
            "flex_flow": null,
            "width": null,
            "min_width": null,
            "border": null,
            "align_items": null,
            "bottom": null,
            "_model_module": "@jupyter-widgets/base",
            "top": null,
            "grid_column": null,
            "overflow_y": null,
            "overflow_x": null,
            "grid_auto_flow": null,
            "grid_area": null,
            "grid_template_columns": null,
            "flex": null,
            "_model_name": "LayoutModel",
            "justify_items": null,
            "grid_row": null,
            "max_height": null,
            "align_content": null,
            "visibility": null,
            "align_self": null,
            "height": null,
            "min_height": null,
            "padding": null,
            "grid_auto_rows": null,
            "grid_gap": null,
            "max_width": null,
            "order": null,
            "_view_module_version": "1.2.0",
            "grid_template_areas": null,
            "object_position": null,
            "object_fit": null,
            "grid_auto_columns": null,
            "margin": null,
            "display": null,
            "left": null
          }
        },
        "7832924ce20f49e8ae280019cb225f45": {
          "model_module": "@jupyter-widgets/controls",
          "model_name": "HTMLModel",
          "model_module_version": "1.5.0",
          "state": {
            "_view_name": "HTMLView",
            "style": "IPY_MODEL_126b462ad59046c080b9a605228df64b",
            "_dom_classes": [],
            "description": "",
            "_model_name": "HTMLModel",
            "placeholder": "​",
            "_view_module": "@jupyter-widgets/controls",
            "_model_module_version": "1.5.0",
            "value": "Training: 100%",
            "_view_count": null,
            "_view_module_version": "1.5.0",
            "description_tooltip": null,
            "_model_module": "@jupyter-widgets/controls",
            "layout": "IPY_MODEL_2ca0c0c465904183a9c87c45696e5649"
          }
        },
        "6ec5cdbd9ed04dd09e47e2b234e6243d": {
          "model_module": "@jupyter-widgets/controls",
          "model_name": "FloatProgressModel",
          "model_module_version": "1.5.0",
          "state": {
            "_view_name": "ProgressView",
            "style": "IPY_MODEL_1bdb92cb861f47bf9b5bd7d727e7c577",
            "_dom_classes": [],
            "description": "",
            "_model_name": "FloatProgressModel",
            "bar_style": "success",
            "max": 20,
            "_view_module": "@jupyter-widgets/controls",
            "_model_module_version": "1.5.0",
            "value": 20,
            "_view_count": null,
            "_view_module_version": "1.5.0",
            "orientation": "horizontal",
            "min": 0,
            "description_tooltip": null,
            "_model_module": "@jupyter-widgets/controls",
            "layout": "IPY_MODEL_7c349431e18042bd89cdc096f67ee6cd"
          }
        },
        "f3793192311c47739c67762fa5032188": {
          "model_module": "@jupyter-widgets/controls",
          "model_name": "HTMLModel",
          "model_module_version": "1.5.0",
          "state": {
            "_view_name": "HTMLView",
            "style": "IPY_MODEL_71ef65b352d24772adefd9858bf23bf5",
            "_dom_classes": [],
            "description": "",
            "_model_name": "HTMLModel",
            "placeholder": "​",
            "_view_module": "@jupyter-widgets/controls",
            "_model_module_version": "1.5.0",
            "value": " 20/20 [07:33&lt;00:00, 22.63s/it]",
            "_view_count": null,
            "_view_module_version": "1.5.0",
            "description_tooltip": null,
            "_model_module": "@jupyter-widgets/controls",
            "layout": "IPY_MODEL_ddf1a5f6bc374aa49d2f80aaa3c238b8"
          }
        },
        "126b462ad59046c080b9a605228df64b": {
          "model_module": "@jupyter-widgets/controls",
          "model_name": "DescriptionStyleModel",
          "model_module_version": "1.5.0",
          "state": {
            "_view_name": "StyleView",
            "_model_name": "DescriptionStyleModel",
            "description_width": "",
            "_view_module": "@jupyter-widgets/base",
            "_model_module_version": "1.5.0",
            "_view_count": null,
            "_view_module_version": "1.2.0",
            "_model_module": "@jupyter-widgets/controls"
          }
        },
        "2ca0c0c465904183a9c87c45696e5649": {
          "model_module": "@jupyter-widgets/base",
          "model_name": "LayoutModel",
          "model_module_version": "1.2.0",
          "state": {
            "_view_name": "LayoutView",
            "grid_template_rows": null,
            "right": null,
            "justify_content": null,
            "_view_module": "@jupyter-widgets/base",
            "overflow": null,
            "_model_module_version": "1.2.0",
            "_view_count": null,
            "flex_flow": null,
            "width": null,
            "min_width": null,
            "border": null,
            "align_items": null,
            "bottom": null,
            "_model_module": "@jupyter-widgets/base",
            "top": null,
            "grid_column": null,
            "overflow_y": null,
            "overflow_x": null,
            "grid_auto_flow": null,
            "grid_area": null,
            "grid_template_columns": null,
            "flex": null,
            "_model_name": "LayoutModel",
            "justify_items": null,
            "grid_row": null,
            "max_height": null,
            "align_content": null,
            "visibility": null,
            "align_self": null,
            "height": null,
            "min_height": null,
            "padding": null,
            "grid_auto_rows": null,
            "grid_gap": null,
            "max_width": null,
            "order": null,
            "_view_module_version": "1.2.0",
            "grid_template_areas": null,
            "object_position": null,
            "object_fit": null,
            "grid_auto_columns": null,
            "margin": null,
            "display": null,
            "left": null
          }
        },
        "1bdb92cb861f47bf9b5bd7d727e7c577": {
          "model_module": "@jupyter-widgets/controls",
          "model_name": "ProgressStyleModel",
          "model_module_version": "1.5.0",
          "state": {
            "_view_name": "StyleView",
            "_model_name": "ProgressStyleModel",
            "description_width": "",
            "_view_module": "@jupyter-widgets/base",
            "_model_module_version": "1.5.0",
            "_view_count": null,
            "_view_module_version": "1.2.0",
            "bar_color": null,
            "_model_module": "@jupyter-widgets/controls"
          }
        },
        "7c349431e18042bd89cdc096f67ee6cd": {
          "model_module": "@jupyter-widgets/base",
          "model_name": "LayoutModel",
          "model_module_version": "1.2.0",
          "state": {
            "_view_name": "LayoutView",
            "grid_template_rows": null,
            "right": null,
            "justify_content": null,
            "_view_module": "@jupyter-widgets/base",
            "overflow": null,
            "_model_module_version": "1.2.0",
            "_view_count": null,
            "flex_flow": null,
            "width": null,
            "min_width": null,
            "border": null,
            "align_items": null,
            "bottom": null,
            "_model_module": "@jupyter-widgets/base",
            "top": null,
            "grid_column": null,
            "overflow_y": null,
            "overflow_x": null,
            "grid_auto_flow": null,
            "grid_area": null,
            "grid_template_columns": null,
            "flex": null,
            "_model_name": "LayoutModel",
            "justify_items": null,
            "grid_row": null,
            "max_height": null,
            "align_content": null,
            "visibility": null,
            "align_self": null,
            "height": null,
            "min_height": null,
            "padding": null,
            "grid_auto_rows": null,
            "grid_gap": null,
            "max_width": null,
            "order": null,
            "_view_module_version": "1.2.0",
            "grid_template_areas": null,
            "object_position": null,
            "object_fit": null,
            "grid_auto_columns": null,
            "margin": null,
            "display": null,
            "left": null
          }
        },
        "71ef65b352d24772adefd9858bf23bf5": {
          "model_module": "@jupyter-widgets/controls",
          "model_name": "DescriptionStyleModel",
          "model_module_version": "1.5.0",
          "state": {
            "_view_name": "StyleView",
            "_model_name": "DescriptionStyleModel",
            "description_width": "",
            "_view_module": "@jupyter-widgets/base",
            "_model_module_version": "1.5.0",
            "_view_count": null,
            "_view_module_version": "1.2.0",
            "_model_module": "@jupyter-widgets/controls"
          }
        },
        "ddf1a5f6bc374aa49d2f80aaa3c238b8": {
          "model_module": "@jupyter-widgets/base",
          "model_name": "LayoutModel",
          "model_module_version": "1.2.0",
          "state": {
            "_view_name": "LayoutView",
            "grid_template_rows": null,
            "right": null,
            "justify_content": null,
            "_view_module": "@jupyter-widgets/base",
            "overflow": null,
            "_model_module_version": "1.2.0",
            "_view_count": null,
            "flex_flow": null,
            "width": null,
            "min_width": null,
            "border": null,
            "align_items": null,
            "bottom": null,
            "_model_module": "@jupyter-widgets/base",
            "top": null,
            "grid_column": null,
            "overflow_y": null,
            "overflow_x": null,
            "grid_auto_flow": null,
            "grid_area": null,
            "grid_template_columns": null,
            "flex": null,
            "_model_name": "LayoutModel",
            "justify_items": null,
            "grid_row": null,
            "max_height": null,
            "align_content": null,
            "visibility": null,
            "align_self": null,
            "height": null,
            "min_height": null,
            "padding": null,
            "grid_auto_rows": null,
            "grid_gap": null,
            "max_width": null,
            "order": null,
            "_view_module_version": "1.2.0",
            "grid_template_areas": null,
            "object_position": null,
            "object_fit": null,
            "grid_auto_columns": null,
            "margin": null,
            "display": null,
            "left": null
          }
        },
        "540b5d44e70e457eb331db2f2fa37818": {
          "model_module": "@jupyter-widgets/controls",
          "model_name": "HBoxModel",
          "model_module_version": "1.5.0",
          "state": {
            "_view_name": "HBoxView",
            "_dom_classes": [],
            "_model_name": "HBoxModel",
            "_view_module": "@jupyter-widgets/controls",
            "_model_module_version": "1.5.0",
            "_view_count": null,
            "_view_module_version": "1.5.0",
            "box_style": "",
            "layout": "IPY_MODEL_259dc11689d04b92b4ddc35c7b69a441",
            "_model_module": "@jupyter-widgets/controls",
            "children": [
              "IPY_MODEL_5a27902e69a7480ab2e6e27bd9daee22",
              "IPY_MODEL_cd9d4dbd5dc844fa92f6ac49dc74de2a",
              "IPY_MODEL_4e6dbf6e80c849019a203b1b1923d6c4"
            ]
          }
        },
        "259dc11689d04b92b4ddc35c7b69a441": {
          "model_module": "@jupyter-widgets/base",
          "model_name": "LayoutModel",
          "model_module_version": "1.2.0",
          "state": {
            "_view_name": "LayoutView",
            "grid_template_rows": null,
            "right": null,
            "justify_content": null,
            "_view_module": "@jupyter-widgets/base",
            "overflow": null,
            "_model_module_version": "1.2.0",
            "_view_count": null,
            "flex_flow": null,
            "width": null,
            "min_width": null,
            "border": null,
            "align_items": null,
            "bottom": null,
            "_model_module": "@jupyter-widgets/base",
            "top": null,
            "grid_column": null,
            "overflow_y": null,
            "overflow_x": null,
            "grid_auto_flow": null,
            "grid_area": null,
            "grid_template_columns": null,
            "flex": null,
            "_model_name": "LayoutModel",
            "justify_items": null,
            "grid_row": null,
            "max_height": null,
            "align_content": null,
            "visibility": null,
            "align_self": null,
            "height": null,
            "min_height": null,
            "padding": null,
            "grid_auto_rows": null,
            "grid_gap": null,
            "max_width": null,
            "order": null,
            "_view_module_version": "1.2.0",
            "grid_template_areas": null,
            "object_position": null,
            "object_fit": null,
            "grid_auto_columns": null,
            "margin": null,
            "display": null,
            "left": null
          }
        },
        "5a27902e69a7480ab2e6e27bd9daee22": {
          "model_module": "@jupyter-widgets/controls",
          "model_name": "HTMLModel",
          "model_module_version": "1.5.0",
          "state": {
            "_view_name": "HTMLView",
            "style": "IPY_MODEL_d97610948b374a96a7774681a02cf315",
            "_dom_classes": [],
            "description": "",
            "_model_name": "HTMLModel",
            "placeholder": "​",
            "_view_module": "@jupyter-widgets/controls",
            "_model_module_version": "1.5.0",
            "value": "Training: 100%",
            "_view_count": null,
            "_view_module_version": "1.5.0",
            "description_tooltip": null,
            "_model_module": "@jupyter-widgets/controls",
            "layout": "IPY_MODEL_844199f0aaea4734bca15e74e85377aa"
          }
        },
        "cd9d4dbd5dc844fa92f6ac49dc74de2a": {
          "model_module": "@jupyter-widgets/controls",
          "model_name": "FloatProgressModel",
          "model_module_version": "1.5.0",
          "state": {
            "_view_name": "ProgressView",
            "style": "IPY_MODEL_a4e9b7bbe9564486b4d4201115bbe69f",
            "_dom_classes": [],
            "description": "",
            "_model_name": "FloatProgressModel",
            "bar_style": "success",
            "max": 10,
            "_view_module": "@jupyter-widgets/controls",
            "_model_module_version": "1.5.0",
            "value": 10,
            "_view_count": null,
            "_view_module_version": "1.5.0",
            "orientation": "horizontal",
            "min": 0,
            "description_tooltip": null,
            "_model_module": "@jupyter-widgets/controls",
            "layout": "IPY_MODEL_890a33045aaa4ad4a9aa22848eb5700c"
          }
        },
        "4e6dbf6e80c849019a203b1b1923d6c4": {
          "model_module": "@jupyter-widgets/controls",
          "model_name": "HTMLModel",
          "model_module_version": "1.5.0",
          "state": {
            "_view_name": "HTMLView",
            "style": "IPY_MODEL_ef5e90a6f7854a0aa0e83e4abb694766",
            "_dom_classes": [],
            "description": "",
            "_model_name": "HTMLModel",
            "placeholder": "​",
            "_view_module": "@jupyter-widgets/controls",
            "_model_module_version": "1.5.0",
            "value": " 10/10 [04:04&lt;00:00, 24.37s/it]",
            "_view_count": null,
            "_view_module_version": "1.5.0",
            "description_tooltip": null,
            "_model_module": "@jupyter-widgets/controls",
            "layout": "IPY_MODEL_04affdc6a72c4f90845f06e558fdeb44"
          }
        },
        "d97610948b374a96a7774681a02cf315": {
          "model_module": "@jupyter-widgets/controls",
          "model_name": "DescriptionStyleModel",
          "model_module_version": "1.5.0",
          "state": {
            "_view_name": "StyleView",
            "_model_name": "DescriptionStyleModel",
            "description_width": "",
            "_view_module": "@jupyter-widgets/base",
            "_model_module_version": "1.5.0",
            "_view_count": null,
            "_view_module_version": "1.2.0",
            "_model_module": "@jupyter-widgets/controls"
          }
        },
        "844199f0aaea4734bca15e74e85377aa": {
          "model_module": "@jupyter-widgets/base",
          "model_name": "LayoutModel",
          "model_module_version": "1.2.0",
          "state": {
            "_view_name": "LayoutView",
            "grid_template_rows": null,
            "right": null,
            "justify_content": null,
            "_view_module": "@jupyter-widgets/base",
            "overflow": null,
            "_model_module_version": "1.2.0",
            "_view_count": null,
            "flex_flow": null,
            "width": null,
            "min_width": null,
            "border": null,
            "align_items": null,
            "bottom": null,
            "_model_module": "@jupyter-widgets/base",
            "top": null,
            "grid_column": null,
            "overflow_y": null,
            "overflow_x": null,
            "grid_auto_flow": null,
            "grid_area": null,
            "grid_template_columns": null,
            "flex": null,
            "_model_name": "LayoutModel",
            "justify_items": null,
            "grid_row": null,
            "max_height": null,
            "align_content": null,
            "visibility": null,
            "align_self": null,
            "height": null,
            "min_height": null,
            "padding": null,
            "grid_auto_rows": null,
            "grid_gap": null,
            "max_width": null,
            "order": null,
            "_view_module_version": "1.2.0",
            "grid_template_areas": null,
            "object_position": null,
            "object_fit": null,
            "grid_auto_columns": null,
            "margin": null,
            "display": null,
            "left": null
          }
        },
        "a4e9b7bbe9564486b4d4201115bbe69f": {
          "model_module": "@jupyter-widgets/controls",
          "model_name": "ProgressStyleModel",
          "model_module_version": "1.5.0",
          "state": {
            "_view_name": "StyleView",
            "_model_name": "ProgressStyleModel",
            "description_width": "",
            "_view_module": "@jupyter-widgets/base",
            "_model_module_version": "1.5.0",
            "_view_count": null,
            "_view_module_version": "1.2.0",
            "bar_color": null,
            "_model_module": "@jupyter-widgets/controls"
          }
        },
        "890a33045aaa4ad4a9aa22848eb5700c": {
          "model_module": "@jupyter-widgets/base",
          "model_name": "LayoutModel",
          "model_module_version": "1.2.0",
          "state": {
            "_view_name": "LayoutView",
            "grid_template_rows": null,
            "right": null,
            "justify_content": null,
            "_view_module": "@jupyter-widgets/base",
            "overflow": null,
            "_model_module_version": "1.2.0",
            "_view_count": null,
            "flex_flow": null,
            "width": null,
            "min_width": null,
            "border": null,
            "align_items": null,
            "bottom": null,
            "_model_module": "@jupyter-widgets/base",
            "top": null,
            "grid_column": null,
            "overflow_y": null,
            "overflow_x": null,
            "grid_auto_flow": null,
            "grid_area": null,
            "grid_template_columns": null,
            "flex": null,
            "_model_name": "LayoutModel",
            "justify_items": null,
            "grid_row": null,
            "max_height": null,
            "align_content": null,
            "visibility": null,
            "align_self": null,
            "height": null,
            "min_height": null,
            "padding": null,
            "grid_auto_rows": null,
            "grid_gap": null,
            "max_width": null,
            "order": null,
            "_view_module_version": "1.2.0",
            "grid_template_areas": null,
            "object_position": null,
            "object_fit": null,
            "grid_auto_columns": null,
            "margin": null,
            "display": null,
            "left": null
          }
        },
        "ef5e90a6f7854a0aa0e83e4abb694766": {
          "model_module": "@jupyter-widgets/controls",
          "model_name": "DescriptionStyleModel",
          "model_module_version": "1.5.0",
          "state": {
            "_view_name": "StyleView",
            "_model_name": "DescriptionStyleModel",
            "description_width": "",
            "_view_module": "@jupyter-widgets/base",
            "_model_module_version": "1.5.0",
            "_view_count": null,
            "_view_module_version": "1.2.0",
            "_model_module": "@jupyter-widgets/controls"
          }
        },
        "04affdc6a72c4f90845f06e558fdeb44": {
          "model_module": "@jupyter-widgets/base",
          "model_name": "LayoutModel",
          "model_module_version": "1.2.0",
          "state": {
            "_view_name": "LayoutView",
            "grid_template_rows": null,
            "right": null,
            "justify_content": null,
            "_view_module": "@jupyter-widgets/base",
            "overflow": null,
            "_model_module_version": "1.2.0",
            "_view_count": null,
            "flex_flow": null,
            "width": null,
            "min_width": null,
            "border": null,
            "align_items": null,
            "bottom": null,
            "_model_module": "@jupyter-widgets/base",
            "top": null,
            "grid_column": null,
            "overflow_y": null,
            "overflow_x": null,
            "grid_auto_flow": null,
            "grid_area": null,
            "grid_template_columns": null,
            "flex": null,
            "_model_name": "LayoutModel",
            "justify_items": null,
            "grid_row": null,
            "max_height": null,
            "align_content": null,
            "visibility": null,
            "align_self": null,
            "height": null,
            "min_height": null,
            "padding": null,
            "grid_auto_rows": null,
            "grid_gap": null,
            "max_width": null,
            "order": null,
            "_view_module_version": "1.2.0",
            "grid_template_areas": null,
            "object_position": null,
            "object_fit": null,
            "grid_auto_columns": null,
            "margin": null,
            "display": null,
            "left": null
          }
        }
      }
    }
  },
  "cells": [
    {
      "cell_type": "markdown",
      "metadata": {
        "id": "view-in-github",
        "colab_type": "text"
      },
      "source": [
        "<a href=\"https://colab.research.google.com/github/Tikhon239/dul_2021/blob/hw10/Homework/hw10/Homework10_selfsupervised.ipynb\" target=\"_parent\"><img src=\"https://colab.research.google.com/assets/colab-badge.svg\" alt=\"Open In Colab\"/></a>"
      ]
    },
    {
      "cell_type": "code",
      "execution_count": 1,
      "metadata": {
        "id": "ZT2VPDHkxZa8",
        "colab": {
          "base_uri": "https://localhost:8080/"
        },
        "outputId": "e64d9046-1a37-4ef2-efdb-9f9c7ea906ed"
      },
      "outputs": [
        {
          "output_type": "stream",
          "name": "stdout",
          "text": [
            "Cloning into 'dul_2021'...\n",
            "remote: Enumerating objects: 339, done.\u001b[K\n",
            "remote: Counting objects: 100% (176/176), done.\u001b[K\n",
            "remote: Compressing objects: 100% (110/110), done.\u001b[K\n",
            "remote: Total 339 (delta 100), reused 78 (delta 60), pack-reused 163\u001b[K\n",
            "Receiving objects: 100% (339/339), 55.19 MiB | 41.46 MiB/s, done.\n",
            "Resolving deltas: 100% (157/157), done.\n",
            "Processing ./dul_2021\n",
            "\u001b[33m  DEPRECATION: A future pip version will change local packages to be built in-place without first copying to a temporary directory. We recommend you use --use-feature=in-tree-build to test your packages with this new behavior before it becomes the default.\n",
            "   pip 21.3 will remove support for this functionality. You can find discussion regarding this at https://github.com/pypa/pip/issues/7555.\u001b[0m\n",
            "Building wheels for collected packages: dul-2021\n",
            "  Building wheel for dul-2021 (setup.py) ... \u001b[?25l\u001b[?25hdone\n",
            "  Created wheel for dul-2021: filename=dul_2021-0.1.0-py3-none-any.whl size=25374 sha256=e27ac75120756c1cc6ed5c6a2b4bdd94d54894d7dfb7ccfafb378064c75a0c39\n",
            "  Stored in directory: /tmp/pip-ephem-wheel-cache-r0p166_e/wheels/55/59/29/0fb1c635652157734f4d741f32fc11979149684e83e919de06\n",
            "Successfully built dul-2021\n",
            "Installing collected packages: dul-2021\n",
            "Successfully installed dul-2021-0.1.0\n"
          ]
        }
      ],
      "source": [
        "!if [ -d dul_2021 ]; then rm -Rf dul_2021; fi\n",
        "!git clone https://github.com/GrigoryBartosh/dul_2021\n",
        "!pip install ./dul_2021"
      ]
    },
    {
      "cell_type": "code",
      "source": [
        "from typing import Tuple, List, Optional\n",
        "from tqdm.auto import trange\n",
        "\n",
        "import numpy as np\n",
        "\n",
        "import torch\n",
        "import torch.nn as nn\n",
        "import torch.optim as opt\n",
        "import torch.nn.functional as F\n",
        "from torch.utils.data import Dataset, DataLoader\n",
        "from torch.distributions import MultivariateNormal\n",
        "\n",
        "import torchvision.transforms as T"
      ],
      "metadata": {
        "id": "EDvlsg73qosN"
      },
      "execution_count": 1,
      "outputs": []
    },
    {
      "cell_type": "code",
      "source": [
        "from dul_2021.utils.hw10_utils import *"
      ],
      "metadata": {
        "id": "kvPNepG2L2Hp"
      },
      "execution_count": 2,
      "outputs": []
    },
    {
      "cell_type": "code",
      "source": [
        "device = torch.device(\"cuda\" if torch.cuda.is_available() else \"cpu\")"
      ],
      "metadata": {
        "id": "8JNApwMsrCoe"
      },
      "execution_count": 3,
      "outputs": []
    },
    {
      "cell_type": "markdown",
      "source": [
        "# Question 1. Context Encoder"
      ],
      "metadata": {
        "id": "86iMf3mEPaCR"
      }
    },
    {
      "cell_type": "markdown",
      "metadata": {
        "id": "tRyHjNsSDzPY"
      },
      "source": [
        "Here we will implement [context encoder](https://arxiv.org/abs/1604.07379). The context encoder structures its self-supervised learning task by inpainting masked images. For example, the figure below shows different masking shapes, such as center masking, random block masking, and segmentation masking. Note that segmentation masking (c) is not purely self-supervised since we would need to train a image segmentation model which requires labels. However, the other two masking schemes (a) and (b) and purely self-supervised.\n",
        "\n",
        "![](https://drive.google.com/uc?id=1fhzkULYTtyMGUUF2n9dlPayJSdcY5pRv)\n",
        "\n",
        "More formally, the context encoder optimizes the following reconstruction loss:\n",
        "$$\\mathcal{L}_{rec} = \\left\\Vert \\hat{M} \\odot (x - F((1 - \\hat{M})\\odot x)) \\right\\Vert^2_2$$\n",
        "where $\\hat{M}$ is the masked region, $x$ is the image, and $F$ is the context encoder that tries to reconstruct the masked portion. In addition to the reconstruction loss, the paper introduces an adversarial loss that encourages more realistic inpaintings.\n",
        "$$L_{adv} = \\max_D \\mathbb{E}_{x\\in \\chi} [\\log(D(x)) + \\log(1 - D(F((1-\\hat{M})\\odot x)))]$$"
      ]
    },
    {
      "cell_type": "markdown",
      "source": [
        "In this task we will crop central 14x14 region. You can use slightly afjusted architectures from AVB task from homework 8.\n",
        "\n",
        "**Hyperparametrs**\n",
        "\n",
        "* latent_dim = 128\n",
        "* epochs ~ 10-20\n",
        "* classifier need fewer updates than encoder-decoder part. We suggest to update it on each 10-th iteration.\n",
        "\n",
        "**You will provide the following deliverables**\n",
        "\n",
        "\n",
        "1. Over the course of training, record the mse loss and adversarial losses per batch.\n",
        "3. 30 (1, 28, 28) images. Where first 10 images are random sample from testdata with removed central region. Next 10 images are reconstracted images with your trained model. Last 10 images are initial without any removal."
      ],
      "metadata": {
        "id": "uW2dsZBKEo8m"
      }
    },
    {
      "cell_type": "code",
      "source": [
        "class Discriminator(nn.Module):\n",
        "    def __init__(self, hidden_dim=128):\n",
        "        super().__init__()\n",
        "        self.conv_block = nn.Sequential(\n",
        "            nn.Conv2d(1, 32, 3, 1, 1),\n",
        "            nn.ReLU(),\n",
        "            nn.Conv2d(32, 64, 3, 2, 1),\n",
        "            nn.ReLU(), \n",
        "            nn.Conv2d(64, 128, 3, 2, 1), \n",
        "            nn.ReLU(), \n",
        "            nn.Conv2d(128, 128, 3, 2, 1), \n",
        "            nn.ReLU()\n",
        "        )\n",
        "\n",
        "        self.linear_block = nn.Sequential(\n",
        "            nn.Linear(4 * 4 * 128, hidden_dim), \n",
        "            nn.ReLU(),\n",
        "            nn.Linear(hidden_dim, hidden_dim), \n",
        "            nn.ReLU(),\n",
        "            nn.Linear(hidden_dim, 1),\n",
        "            nn.Sigmoid()\n",
        "        )\n",
        "  \n",
        "    def forward(self, x):\n",
        "        out = self.conv_block(x)\n",
        "        out = torch.flatten(out, start_dim=1)\n",
        "        \n",
        "        return self.linear_block(out)"
      ],
      "metadata": {
        "id": "OraXhgUbZmea"
      },
      "execution_count": 10,
      "outputs": []
    },
    {
      "cell_type": "code",
      "source": [
        "class Encoder(nn.Module):\n",
        "    def __init__(self, latent_dim=1, noise_dim=0):\n",
        "        super().__init__()\n",
        "        self.latent_dim = latent_dim\n",
        "        self.noise_dim = noise_dim\n",
        "\n",
        "        self.conv_block = nn.Sequential(\n",
        "            nn.Conv2d(1, 32, 3, 1, 1),\n",
        "            nn.ReLU(),\n",
        "            nn.Conv2d(32, 64, 3, 2, 1),\n",
        "            nn.ReLU(), \n",
        "            nn.Conv2d(64, 128, 3, 2, 1), \n",
        "            nn.ReLU(), \n",
        "            nn.Conv2d(128, 128, 3, 2, 1), \n",
        "            nn.ReLU()\n",
        "        )\n",
        "\n",
        "        self.linear_block = nn.Linear(4 * 4 * 128 + noise_dim, latent_dim)\n",
        "\n",
        "    def forward(self, x, noise=None):\n",
        "        batch_size = x.shape[0]\n",
        "\n",
        "        out = self.conv_block(x)\n",
        "        out = torch.flatten(out, start_dim=1)\n",
        "        if self.noise_dim > 0:\n",
        "            out = torch.cat((out, noise), dim=1)\n",
        "        return self.linear_block(out)"
      ],
      "metadata": {
        "id": "WsjMOwtSZqeF"
      },
      "execution_count": 11,
      "outputs": []
    },
    {
      "cell_type": "code",
      "source": [
        "class Decoder(nn.Module):\n",
        "    def __init__(self, latent_dim=1):\n",
        "        super().__init__()\n",
        "        self.linear_block = nn.Sequential(\n",
        "            nn.Linear(latent_dim, 4 * 4 * 128),\n",
        "            nn.ReLU()\n",
        "        )\n",
        "\n",
        "        self.conv_transposed_block = nn.Sequential(\n",
        "            nn.ConvTranspose2d(128, 128, 3, 2, 1), \n",
        "            nn.ReLU(), \n",
        "            nn.ConvTranspose2d(128, 64, 4, 2, 1), \n",
        "            nn.ReLU(), \n",
        "            nn.ConvTranspose2d(64, 32, 4, 2, 1), \n",
        "            nn.ReLU(), \n",
        "            nn.Conv2d(32, 1, 3, 1, 1),\n",
        "            nn.Tanh()\n",
        "        )\n",
        "  \n",
        "    def forward(self, x):\n",
        "        batch_size = x.shape[0]\n",
        "\n",
        "        out = self.linear_block(x)\n",
        "\n",
        "        return self.conv_transposed_block(out.reshape(batch_size, 128, 4, 4))"
      ],
      "metadata": {
        "id": "Y1GjurV3Ztc_"
      },
      "execution_count": 12,
      "outputs": []
    },
    {
      "cell_type": "code",
      "source": [
        "class ContextEncoder(nn.Module):\n",
        "    def __init__(self, latent_dim=32, noise_dim=0, hidden_dim=128):\n",
        "        super().__init__()\n",
        "\n",
        "        self.discriminator = Discriminator(hidden_dim=hidden_dim)\n",
        "        self.encoder = Encoder(latent_dim=latent_dim, noise_dim=noise_dim)\n",
        "        self.decoder = Decoder(latent_dim=latent_dim)\n",
        "\n",
        "        self.latent_dist = MultivariateNormal(\n",
        "            torch.zeros(latent_dim, device=device),\n",
        "            torch.eye(latent_dim, device=device)\n",
        "        )\n",
        "\n",
        "        self.noize_dist = None\n",
        "        if noise_dim > 0:\n",
        "            self.noize_dist = MultivariateNormal(\n",
        "                torch.zeros(noise_dim, device=device),\n",
        "                torch.eye(noise_dim, device=device)\n",
        "            )\n",
        "    \n",
        "    def forward(self, batch: torch.tensor, mask: torch.tensor):\n",
        "        batch_size = batch.shape[0]\n",
        "        \n",
        "        if self.noize_dist is None:\n",
        "            noise = None\n",
        "        else:\n",
        "            noise = self.noize_dist.sample((batch_size,))\n",
        "        \n",
        "        z = self.encoder((1 - mask) * batch, noise)\n",
        "\n",
        "        return self.decoder(z)\n",
        "\n",
        "    def _get_generator_loss(self, batch: torch.tensor, mask: torch.tensor):\n",
        "        batch_size = batch.shape[0]\n",
        "\n",
        "        batch_recon = self(batch, mask)\n",
        "\n",
        "        recon_loss = mask * F.mse_loss(batch_recon, batch, reduction='none')\n",
        "        recon_loss = recon_loss.reshape(batch_size, -1).mean(dim=1)\n",
        "        \n",
        "        discriminator_fake = self.discriminator(batch_recon)\n",
        "        fake_loss = F.binary_cross_entropy(discriminator_fake, torch.ones_like(discriminator_fake))\n",
        "\n",
        "        loss = recon_loss + fake_loss\n",
        "        return loss.mean(), recon_loss.mean()\n",
        "    \n",
        "    def _get_discriminator_loss(self, batch: torch.tensor, mask: torch.tensor):\n",
        "        with torch.no_grad():\n",
        "            batch_recon = self(batch, mask)\n",
        "\n",
        "        discriminator_real = self.discriminator(batch)\n",
        "        discriminator_fake = self.discriminator(batch_recon)\n",
        "        \n",
        "        real_loss = F.binary_cross_entropy(discriminator_real, torch.ones_like(discriminator_real))\n",
        "        fake_loss = F.binary_cross_entropy(discriminator_fake, torch.zeros_like(discriminator_fake))\n",
        "        discriminator_loss = real_loss + fake_loss\n",
        "\n",
        "        return discriminator_loss.mean()\n",
        "    \n",
        "    @torch.no_grad()\n",
        "    def _test(self, test_dataloader: DataLoader) -> List[float]:\n",
        "        sum_recon_loss = 0\n",
        "        sum_discriminator_loss = 0\n",
        "        n_elements = 0\n",
        "        for batch, mask in test_dataloader:\n",
        "            batch_size = batch.shape[0]\n",
        "            batch = batch.to(device)\n",
        "            mask = mask.to(device)\n",
        "\n",
        "            loss, recon_loss = self._get_generator_loss(batch, mask)\n",
        "            discriminator_loss = self._get_discriminator_loss(batch, mask)\n",
        "\n",
        "            sum_recon_loss += batch_size * recon_loss\n",
        "            sum_discriminator_loss += batch_size * discriminator_loss\n",
        "            n_elements += batch_size\n",
        "\n",
        "        return [\n",
        "                sum_recon_loss.item() / n_elements,\n",
        "                sum_discriminator_loss.item() / n_elements,\n",
        "                ]\n",
        "\n",
        "    def fit(self,\n",
        "            train_dataloader: DataLoader,\n",
        "            test_dataloader: DataLoader,\n",
        "            epochs: int = 20,\n",
        "            lr: float = 1e-3,\n",
        "            ) -> Tuple[np.ndarray, np.ndarray]:\n",
        "\n",
        "        train_losses = []\n",
        "        test_losses = []\n",
        "\n",
        "        encoder_decoder_optim = opt.Adam(\n",
        "            list(self.encoder.parameters()) + list(self.decoder.parameters()), lr=lr\n",
        "        )\n",
        "        discriminator_optim = opt.Adam(self.discriminator.parameters(), lr=lr)\n",
        "\n",
        "        #test_losses.append(self._test(test_dataloader))\n",
        "\n",
        "        step = 1\n",
        "        for epoch in trange(epochs, desc=\"Training\"):\n",
        "            for batch, mask in train_dataloader:\n",
        "                batch = batch.to(device)\n",
        "                mask = mask.to(device)\n",
        "\n",
        "                loss, recon_loss = self._get_generator_loss(batch, mask)\n",
        "                discriminator_loss = self._get_discriminator_loss(batch, mask)\n",
        "                \n",
        "                encoder_decoder_optim.zero_grad()\n",
        "                loss.backward()\n",
        "                encoder_decoder_optim.step()\n",
        "  \n",
        "                if step % 10 == 0:\n",
        "                    discriminator_optim.zero_grad()\n",
        "                    discriminator_loss.backward()\n",
        "                    discriminator_optim.step()\n",
        "                    \n",
        "                train_losses.append([recon_loss.item(), discriminator_loss.item()])\n",
        "                step += 1\n",
        "\n",
        "            #test_losses.append(self._test(test_dataloader))\n",
        "          \n",
        "        return np.array(train_losses), np.array(test_losses)\n",
        "\n",
        "    @torch.no_grad()\n",
        "    def reconstact(self, batch, mask) -> np.ndarray:\n",
        "        batch = batch.to(device)\n",
        "        mask = mask.to(device)\n",
        "\n",
        "        batch_recon = self(batch, mask)\n",
        "\n",
        "        return np.vstack((\n",
        "            ((1 - mask) * batch).cpu().numpy(),\n",
        "            batch_recon.cpu().numpy(),\n",
        "            batch.cpu().numpy()\n",
        "        ))"
      ],
      "metadata": {
        "id": "TczZV-sNZxkf"
      },
      "execution_count": 17,
      "outputs": []
    },
    {
      "cell_type": "code",
      "source": [
        "class ContextDataset(Dataset):\n",
        "    def __init__(\n",
        "        self,\n",
        "        image_dataset: Dataset,\n",
        "        crop_size: Tuple[int, int] = (14, 14),\n",
        "        shift: int = 5\n",
        "        ):\n",
        "      \n",
        "        super().__init__()\n",
        "        \n",
        "        self.image_dataset = image_dataset\n",
        "\n",
        "        self.crop_size = crop_size\n",
        "        self.shift = shift\n",
        "        _, self.h, self.w = image_dataset[0][0].shape\n",
        "    \n",
        "    def get_mask(self):\n",
        "        mask = torch.zeros((1, self.h, self.w), dtype=torch.float32)\n",
        "\n",
        "        crop_h, crop_w = self.crop_size\n",
        "        y = (self.h - crop_h) // 2\n",
        "        x = (self.w - crop_w) // 2\n",
        "        if self.shift > 0:\n",
        "            y = np.random.randint(y - self.shift, y + self.shift)\n",
        "            x = np.random.randint(x - self.shift, x + self.shift)\n",
        "        mask[:, y : y + crop_h, x : x + crop_w] = 1\n",
        "        return mask\n",
        "\n",
        "    def __len__(self):\n",
        "        return len(self.image_dataset)\n",
        "\n",
        "    def __getitem__(self, index):\n",
        "        return self.image_dataset[index][0], self.get_mask()"
      ],
      "metadata": {
        "id": "fEb8EVVsap0M"
      },
      "execution_count": 28,
      "outputs": []
    },
    {
      "cell_type": "code",
      "source": [
        "def q1(train_data, test_data):\n",
        "    \"\"\"\n",
        "    train_data: An (n_train, 1, 28, 28) torchvision dataset of MNIST images with values from -1 to 1\n",
        "    test_data: An (n_test, 1, 28, 28) torchvision dataset of MNIST images with values from -1 to 1\n",
        "\n",
        "    Returns\n",
        "    - a (# of training iterations, ) numpy array of full of mse losses\n",
        "    - a (# of training iterations, ) numpy array of full of adversarial losses\n",
        "    - a (30, 1, 28, 28) numpy array of 10 transformed images, 10 reconstructions, and 10 groundtruths\n",
        "    \"\"\"\n",
        "\n",
        "    batch_size = 256\n",
        "    epochs = 20\n",
        "    lr = 1e-3\n",
        "\n",
        "    latent_dim = 128\n",
        "    noise_dim = 0\n",
        "    hidden_dim = 128\n",
        "    crop_size = (14, 14)\n",
        "    shift = 0\n",
        "\n",
        "    train_dataset = ContextDataset(train_data, crop_size, shift)\n",
        "    test_dataset = ContextDataset(test_data, crop_size, shift)\n",
        "    \n",
        "    train_dataloader = DataLoader(\n",
        "        train_dataset, batch_size=batch_size, shuffle=True\n",
        "    )\n",
        "    test_dataloader = DataLoader(\n",
        "        test_dataset, batch_size=batch_size, shuffle=True\n",
        "    )\n",
        "    \n",
        "    model = ContextEncoder(latent_dim, noise_dim, hidden_dim).to(device)\n",
        "\n",
        "    train_losses, _ = model.fit(train_dataloader, test_dataloader, epochs, lr)\n",
        "\n",
        "    reconstruction_indexes = np.random.choice(len(test_dataset), 10, replace=False)\n",
        "    reconstruction_batch_mask = [test_dataset[index] for index in reconstruction_indexes]\n",
        "    reconstruction_batch = torch.stack([batch_mask[0] for batch_mask in reconstruction_batch_mask])\n",
        "    reconstruction_mask = torch.stack([batch_mask[1] for batch_mask in reconstruction_batch_mask])\n",
        "    reconstructions = model.reconstact(reconstruction_batch, reconstruction_mask)\n",
        "\n",
        "    return train_losses[:, 0], train_losses[:, 1], reconstructions"
      ],
      "metadata": {
        "id": "lQnVUrB36iFT"
      },
      "execution_count": 29,
      "outputs": []
    },
    {
      "cell_type": "code",
      "source": [
        "q1_results(q1)"
      ],
      "metadata": {
        "id": "bQGvs2xoEK8T",
        "outputId": "d9460e4c-4673-44a3-821f-ab943a616ecd",
        "colab": {
          "base_uri": "https://localhost:8080/",
          "height": 596,
          "referenced_widgets": [
            "56a706df1ca34da2b8852ef3ec9cf575",
            "95478abfd88d407c9e8a0051d3240b98",
            "2994cc4ca49d41bb9c349df3e2fb8051",
            "c15e3eab7ddb4093ae62e78cb48262b6",
            "5b363fdfa6b141b6adb40da8b1f0a740",
            "f2de788ef06c4b37819d3c9c88573be6",
            "7203d412877d4f7f94d8c57067b7f03d",
            "32362edfff984daf97ed1264733e804f",
            "62c1a0fc012c45cda186f0f072ceb9fc",
            "dc544e4c7c3340759154572be13dbf80",
            "4d6ede2e13d147ed8712c3b709a15353"
          ]
        }
      },
      "execution_count": 30,
      "outputs": [
        {
          "output_type": "display_data",
          "data": {
            "application/vnd.jupyter.widget-view+json": {
              "model_id": "56a706df1ca34da2b8852ef3ec9cf575",
              "version_minor": 0,
              "version_major": 2
            },
            "text/plain": [
              "Training:   0%|          | 0/20 [00:00<?, ?it/s]"
            ]
          },
          "metadata": {}
        },
        {
          "output_type": "display_data",
          "data": {
            "image/png": "[encoded data removed]",
            "text/plain": [
              "<Figure size 432x288 with 1 Axes>"
            ]
          },
          "metadata": {
            "needs_background": "light"
          }
        },
        {
          "output_type": "display_data",
          "data": {
            "image/png": "[encoded data removed]",
            "text/plain": [
              "<Figure size 1080x1080 with 1 Axes>"
            ]
          },
          "metadata": {
            "needs_background": "light"
          }
        }
      ]
    },
    {
      "cell_type": "code",
      "source": [
        "q1_results(q1)"
      ],
      "metadata": {
        "id": "3uQzNlV8bQMB",
        "colab": {
          "base_uri": "https://localhost:8080/",
          "height": 596,
          "referenced_widgets": [
            "35c2ea09ae4f4be6be09f80927c90e7e",
            "2130d62c2ce046c1b15f27d391db7a5c",
            "7832924ce20f49e8ae280019cb225f45",
            "6ec5cdbd9ed04dd09e47e2b234e6243d",
            "f3793192311c47739c67762fa5032188",
            "126b462ad59046c080b9a605228df64b",
            "2ca0c0c465904183a9c87c45696e5649",
            "1bdb92cb861f47bf9b5bd7d727e7c577",
            "7c349431e18042bd89cdc096f67ee6cd",
            "71ef65b352d24772adefd9858bf23bf5",
            "ddf1a5f6bc374aa49d2f80aaa3c238b8"
          ]
        },
        "outputId": "a3d9b37d-4389-4a22-8022-c280ec763fb7"
      },
      "execution_count": 22,
      "outputs": [
        {
          "output_type": "display_data",
          "data": {
            "application/vnd.jupyter.widget-view+json": {
              "model_id": "35c2ea09ae4f4be6be09f80927c90e7e",
              "version_minor": 0,
              "version_major": 2
            },
            "text/plain": [
              "Training:   0%|          | 0/20 [00:00<?, ?it/s]"
            ]
          },
          "metadata": {}
        },
        {
          "output_type": "display_data",
          "data": {
            "image/png": "[encoded data removed]",
            "text/plain": [
              "<Figure size 432x288 with 1 Axes>"
            ]
          },
          "metadata": {
            "needs_background": "light"
          }
        },
        {
          "output_type": "display_data",
          "data": {
            "image/png": "[encoded data removed]",
            "text/plain": [
              "<Figure size 1080x1080 with 1 Axes>"
            ]
          },
          "metadata": {
            "needs_background": "light"
          }
        }
      ]
    },
    {
      "cell_type": "markdown",
      "source": [
        "# Question 2. Rotations Prediction"
      ],
      "metadata": {
        "id": "W6LVLHMMjzVL"
      }
    },
    {
      "cell_type": "markdown",
      "source": [
        "Here we will imlement this [paper](https://arxiv.org/abs/1803.07728). Here, model learns good representations for downstream tasks by proxy task of prediciting rotation of the original image.\n",
        "\n",
        "![](https://drive.google.com/uc?id=1eHXLH-N_6uMGRzdf1Wjnga26qlS5-FRv)\n",
        "\n",
        "We will work with same rotations as in paper (0, 90, 180, 270). You can use architecture AVB task in hw8. Latent dim 128 and 10 epochs should be enough.\n",
        "\n",
        "**You will provide the following deliverables**\n",
        "\n",
        "\n",
        "1. Over the course of training, record the loss per batch.\n",
        "2. Over the course of training, record the accuracy score for each iteration.\n",
        "\n",
        "\n"
      ],
      "metadata": {
        "id": "TUP2DAeeIK0F"
      }
    },
    {
      "cell_type": "code",
      "source": [
        "class Classifier(nn.Module):\n",
        "    def __init__(self, n_classes: int = 4, hidden_dim: int = 128):\n",
        "        super().__init__()\n",
        "\n",
        "        self.conv_block = nn.Sequential(\n",
        "            nn.Conv2d(1, 32, 3, 1, 1),\n",
        "            nn.ReLU(),\n",
        "            nn.Conv2d(32, 64, 3, 2, 1),\n",
        "            nn.ReLU(), \n",
        "            nn.Conv2d(64, 128, 3, 2, 1), \n",
        "            nn.ReLU(), \n",
        "            nn.Conv2d(128, 128, 3, 2, 1), \n",
        "            nn.ReLU()\n",
        "        )\n",
        "\n",
        "        self.linear_block = nn.Sequential(\n",
        "            nn.Linear(4 * 4 * 128, hidden_dim), \n",
        "            nn.ReLU(),\n",
        "            nn.Linear(hidden_dim, hidden_dim), \n",
        "            nn.ReLU(),\n",
        "            nn.Linear(hidden_dim, n_classes)\n",
        "        )\n",
        "\n",
        "    def forward(self, x, noise=None):\n",
        "        batch_size = x.shape[0]\n",
        "        out = self.conv_block(x)\n",
        "        out = torch.flatten(out, start_dim=1)\n",
        "\n",
        "        return self.linear_block(out)"
      ],
      "metadata": {
        "id": "VatFkzgPbowE"
      },
      "execution_count": 4,
      "outputs": []
    },
    {
      "cell_type": "code",
      "source": [
        "class RotationNet(nn.Module): \n",
        "    def __init__(self, n_classes: int = 4, hidden_dim: int = 128): \n",
        "        super().__init__()\n",
        "        self.classifier = Classifier(n_classes, hidden_dim)\n",
        "\n",
        "    def _calculate_loss(self, batch, labels):\n",
        "        batch_size = batch.shape[0]\n",
        "\n",
        "        predicition = self.classifier(batch)\n",
        "        loss = F.cross_entropy(predicition, labels)\n",
        "\n",
        "        batch_accuracy = (torch.argmax(predicition, dim=1) == labels).sum()\n",
        "\n",
        "        return loss.mean(), batch_accuracy\n",
        "\n",
        "    def fit(self,\n",
        "            train_dataloader: DataLoader,\n",
        "            epochs: int = 20,\n",
        "            lr: float = 1e-3,\n",
        "            ) -> Tuple[np.ndarray, np.ndarray]:\n",
        "\n",
        "        losses = []\n",
        "        accuracy_array = []\n",
        "        optim = opt.Adam(self.parameters(), lr=lr)\n",
        "\n",
        "        for epoch in trange(epochs, desc=\"Training\"):\n",
        "            accuracy = 0\n",
        "            dataset_size = 0\n",
        "            for batch, label in train_dataloader:\n",
        "                dataset_size += batch.shape[0]\n",
        "\n",
        "                batch = batch.to(device)\n",
        "                label = label.to(device)\n",
        "                \n",
        "                loss, batch_accuracy = self._calculate_loss(batch, label)\n",
        "                \n",
        "                optim.zero_grad()\n",
        "                loss.backward()\n",
        "                optim.step()\n",
        "\n",
        "                losses.append(loss.item())\n",
        "                accuracy += batch_accuracy.item()\n",
        "\n",
        "            accuracy_array.append(accuracy / dataset_size)\n",
        "\n",
        "        return np.array(losses), np.array(accuracy_array)"
      ],
      "metadata": {
        "id": "dyNTeJM4VcSB"
      },
      "execution_count": 5,
      "outputs": []
    },
    {
      "cell_type": "code",
      "source": [
        "class RotationDataset(Dataset):\n",
        "    def __init__(\n",
        "        self,\n",
        "        image_dataset: Dataset,\n",
        "        degree_array: List[float] = [0.0, 90.0, 180.0, 270.0]\n",
        "        ):\n",
        "      \n",
        "        super().__init__()\n",
        "\n",
        "        self.degree_array = degree_array\n",
        "        \n",
        "        self.image_dataset = image_dataset\n",
        "\n",
        "    def __len__(self):\n",
        "        return len(self.image_dataset)\n",
        "\n",
        "    def __getitem__(self, index):\n",
        "        cur_image = self.image_dataset[index][0]\n",
        "\n",
        "        degree_index = np.random.randint(0, len(self.degree_array))\n",
        "        degree = self.degree_array[degree_index]\n",
        "\n",
        "        return T.functional.rotate(cur_image, degree), degree_index"
      ],
      "metadata": {
        "id": "9x_cQZ2thTt2"
      },
      "execution_count": 6,
      "outputs": []
    },
    {
      "cell_type": "code",
      "source": [
        "def q2(train_data):\n",
        "    \"\"\"\n",
        "    train_data: An (n_train, 1, 28, 28) torchvision dataset of MNIST images with values from -1 to 1\n",
        "    Returns\n",
        "    - a (# of training iterations, ) numpy array of full of losses\n",
        "    - a (# of training epochs, ) numpy array of full of accuracy scores\n",
        "    \"\"\"\n",
        "\n",
        "    batch_size = 256\n",
        "    epochs = 10\n",
        "    lr = 1e-3\n",
        "\n",
        "    degree_array = [0.0, 90.0, 180.0, 270.0]\n",
        "    hidden_dim = 128\n",
        "\n",
        "    train_dataset = RotationDataset(train_data, degree_array)\n",
        "    \n",
        "    train_dataloader = DataLoader(\n",
        "        train_dataset, batch_size=batch_size, shuffle=True\n",
        "    )\n",
        "\n",
        "    model = RotationNet(len(degree_array), hidden_dim).to(device)\n",
        "\n",
        "    losses, accuracy_array = model.fit(train_dataloader, epochs, lr)\n",
        "\n",
        "    return losses, accuracy_array "
      ],
      "metadata": {
        "id": "_YSch41UKy2g"
      },
      "execution_count": 7,
      "outputs": []
    },
    {
      "cell_type": "code",
      "source": [
        "q2_results(q2)"
      ],
      "metadata": {
        "colab": {
          "base_uri": "https://localhost:8080/",
          "height": 605,
          "referenced_widgets": [
            "540b5d44e70e457eb331db2f2fa37818",
            "259dc11689d04b92b4ddc35c7b69a441",
            "5a27902e69a7480ab2e6e27bd9daee22",
            "cd9d4dbd5dc844fa92f6ac49dc74de2a",
            "4e6dbf6e80c849019a203b1b1923d6c4",
            "d97610948b374a96a7774681a02cf315",
            "844199f0aaea4734bca15e74e85377aa",
            "a4e9b7bbe9564486b4d4201115bbe69f",
            "890a33045aaa4ad4a9aa22848eb5700c",
            "ef5e90a6f7854a0aa0e83e4abb694766",
            "04affdc6a72c4f90845f06e558fdeb44"
          ]
        },
        "id": "he5IAEg9jxwM",
        "outputId": "af2b6f24-552d-4b9d-9323-0b29e73d5cd1"
      },
      "execution_count": 9,
      "outputs": [
        {
          "output_type": "display_data",
          "data": {
            "application/vnd.jupyter.widget-view+json": {
              "model_id": "540b5d44e70e457eb331db2f2fa37818",
              "version_minor": 0,
              "version_major": 2
            },
            "text/plain": [
              "Training:   0%|          | 0/10 [00:00<?, ?it/s]"
            ]
          },
          "metadata": {}
        },
        {
          "output_type": "display_data",
          "data": {
            "image/png": "[encoded data removed]",
            "text/plain": [
              "<Figure size 432x288 with 1 Axes>"
            ]
          },
          "metadata": {
            "needs_background": "light"
          }
        },
        {
          "output_type": "display_data",
          "data": {
            "image/png": "[encoded data removed]",
            "text/plain": [
              "<Figure size 432x288 with 1 Axes>"
            ]
          },
          "metadata": {
            "needs_background": "light"
          }
        }
      ]
    },
    {
      "cell_type": "code",
      "source": [
        ""
      ],
      "metadata": {
        "id": "Gz5bFSW16gum"
      },
      "execution_count": null,
      "outputs": []
    }
  ]
}