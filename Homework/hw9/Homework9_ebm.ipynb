{
  "nbformat": 4,
  "nbformat_minor": 0,
  "metadata": {
    "colab": {
      "name": "Homework9_ebm.ipynb",
      "provenance": [],
      "collapsed_sections": [],
      "include_colab_link": true
    },
    "kernelspec": {
      "name": "python3",
      "display_name": "Python 3"
    },
    "language_info": {
      "name": "python"
    },
    "accelerator": "GPU",
    "widgets": {
      "application/vnd.jupyter.widget-state+json": {
        "022e0d5e9ea941aaa87debd33a3fe57a": {
          "model_module": "@jupyter-widgets/controls",
          "model_name": "HBoxModel",
          "model_module_version": "1.5.0",
          "state": {
            "_view_name": "HBoxView",
            "_dom_classes": [],
            "_model_name": "HBoxModel",
            "_view_module": "@jupyter-widgets/controls",
            "_model_module_version": "1.5.0",
            "_view_count": null,
            "_view_module_version": "1.5.0",
            "box_style": "",
            "layout": "IPY_MODEL_d56c6dc83c354d74b575d5de5479e469",
            "_model_module": "@jupyter-widgets/controls",
            "children": [
              "IPY_MODEL_c2a68a84d3a346688a4a0d4a4e28f074",
              "IPY_MODEL_3b92aa76fe5340648f44fb64f4b58f95",
              "IPY_MODEL_363bdbb67bef448eaba3d00cd6853187"
            ]
          }
        },
        "d56c6dc83c354d74b575d5de5479e469": {
          "model_module": "@jupyter-widgets/base",
          "model_name": "LayoutModel",
          "model_module_version": "1.2.0",
          "state": {
            "_view_name": "LayoutView",
            "grid_template_rows": null,
            "right": null,
            "justify_content": null,
            "_view_module": "@jupyter-widgets/base",
            "overflow": null,
            "_model_module_version": "1.2.0",
            "_view_count": null,
            "flex_flow": null,
            "width": null,
            "min_width": null,
            "border": null,
            "align_items": null,
            "bottom": null,
            "_model_module": "@jupyter-widgets/base",
            "top": null,
            "grid_column": null,
            "overflow_y": null,
            "overflow_x": null,
            "grid_auto_flow": null,
            "grid_area": null,
            "grid_template_columns": null,
            "flex": null,
            "_model_name": "LayoutModel",
            "justify_items": null,
            "grid_row": null,
            "max_height": null,
            "align_content": null,
            "visibility": null,
            "align_self": null,
            "height": null,
            "min_height": null,
            "padding": null,
            "grid_auto_rows": null,
            "grid_gap": null,
            "max_width": null,
            "order": null,
            "_view_module_version": "1.2.0",
            "grid_template_areas": null,
            "object_position": null,
            "object_fit": null,
            "grid_auto_columns": null,
            "margin": null,
            "display": null,
            "left": null
          }
        },
        "c2a68a84d3a346688a4a0d4a4e28f074": {
          "model_module": "@jupyter-widgets/controls",
          "model_name": "HTMLModel",
          "model_module_version": "1.5.0",
          "state": {
            "_view_name": "HTMLView",
            "style": "IPY_MODEL_4931678ee08247008d5f0dc560bad881",
            "_dom_classes": [],
            "description": "",
            "_model_name": "HTMLModel",
            "placeholder": "​",
            "_view_module": "@jupyter-widgets/controls",
            "_model_module_version": "1.5.0",
            "value": "100%",
            "_view_count": null,
            "_view_module_version": "1.5.0",
            "description_tooltip": null,
            "_model_module": "@jupyter-widgets/controls",
            "layout": "IPY_MODEL_20ec4ffe4ff2434fa5fc6c03215bfaea"
          }
        },
        "3b92aa76fe5340648f44fb64f4b58f95": {
          "model_module": "@jupyter-widgets/controls",
          "model_name": "FloatProgressModel",
          "model_module_version": "1.5.0",
          "state": {
            "_view_name": "ProgressView",
            "style": "IPY_MODEL_acdbeba89b8d4b3584e24148939d881b",
            "_dom_classes": [],
            "description": "",
            "_model_name": "FloatProgressModel",
            "bar_style": "success",
            "max": 5,
            "_view_module": "@jupyter-widgets/controls",
            "_model_module_version": "1.5.0",
            "value": 5,
            "_view_count": null,
            "_view_module_version": "1.5.0",
            "orientation": "horizontal",
            "min": 0,
            "description_tooltip": null,
            "_model_module": "@jupyter-widgets/controls",
            "layout": "IPY_MODEL_0c2282beb19348b6b839e89a2450be2c"
          }
        },
        "363bdbb67bef448eaba3d00cd6853187": {
          "model_module": "@jupyter-widgets/controls",
          "model_name": "HTMLModel",
          "model_module_version": "1.5.0",
          "state": {
            "_view_name": "HTMLView",
            "style": "IPY_MODEL_f58e4a92fec14b63b07ba84d18da9ad2",
            "_dom_classes": [],
            "description": "",
            "_model_name": "HTMLModel",
            "placeholder": "​",
            "_view_module": "@jupyter-widgets/controls",
            "_model_module_version": "1.5.0",
            "value": " 5/5 [07:03&lt;00:00, 84.41s/it]",
            "_view_count": null,
            "_view_module_version": "1.5.0",
            "description_tooltip": null,
            "_model_module": "@jupyter-widgets/controls",
            "layout": "IPY_MODEL_2f8308658f5e40eb99d1825fed666f08"
          }
        },
        "4931678ee08247008d5f0dc560bad881": {
          "model_module": "@jupyter-widgets/controls",
          "model_name": "DescriptionStyleModel",
          "model_module_version": "1.5.0",
          "state": {
            "_view_name": "StyleView",
            "_model_name": "DescriptionStyleModel",
            "description_width": "",
            "_view_module": "@jupyter-widgets/base",
            "_model_module_version": "1.5.0",
            "_view_count": null,
            "_view_module_version": "1.2.0",
            "_model_module": "@jupyter-widgets/controls"
          }
        },
        "20ec4ffe4ff2434fa5fc6c03215bfaea": {
          "model_module": "@jupyter-widgets/base",
          "model_name": "LayoutModel",
          "model_module_version": "1.2.0",
          "state": {
            "_view_name": "LayoutView",
            "grid_template_rows": null,
            "right": null,
            "justify_content": null,
            "_view_module": "@jupyter-widgets/base",
            "overflow": null,
            "_model_module_version": "1.2.0",
            "_view_count": null,
            "flex_flow": null,
            "width": null,
            "min_width": null,
            "border": null,
            "align_items": null,
            "bottom": null,
            "_model_module": "@jupyter-widgets/base",
            "top": null,
            "grid_column": null,
            "overflow_y": null,
            "overflow_x": null,
            "grid_auto_flow": null,
            "grid_area": null,
            "grid_template_columns": null,
            "flex": null,
            "_model_name": "LayoutModel",
            "justify_items": null,
            "grid_row": null,
            "max_height": null,
            "align_content": null,
            "visibility": null,
            "align_self": null,
            "height": null,
            "min_height": null,
            "padding": null,
            "grid_auto_rows": null,
            "grid_gap": null,
            "max_width": null,
            "order": null,
            "_view_module_version": "1.2.0",
            "grid_template_areas": null,
            "object_position": null,
            "object_fit": null,
            "grid_auto_columns": null,
            "margin": null,
            "display": null,
            "left": null
          }
        },
        "acdbeba89b8d4b3584e24148939d881b": {
          "model_module": "@jupyter-widgets/controls",
          "model_name": "ProgressStyleModel",
          "model_module_version": "1.5.0",
          "state": {
            "_view_name": "StyleView",
            "_model_name": "ProgressStyleModel",
            "description_width": "",
            "_view_module": "@jupyter-widgets/base",
            "_model_module_version": "1.5.0",
            "_view_count": null,
            "_view_module_version": "1.2.0",
            "bar_color": null,
            "_model_module": "@jupyter-widgets/controls"
          }
        },
        "0c2282beb19348b6b839e89a2450be2c": {
          "model_module": "@jupyter-widgets/base",
          "model_name": "LayoutModel",
          "model_module_version": "1.2.0",
          "state": {
            "_view_name": "LayoutView",
            "grid_template_rows": null,
            "right": null,
            "justify_content": null,
            "_view_module": "@jupyter-widgets/base",
            "overflow": null,
            "_model_module_version": "1.2.0",
            "_view_count": null,
            "flex_flow": null,
            "width": null,
            "min_width": null,
            "border": null,
            "align_items": null,
            "bottom": null,
            "_model_module": "@jupyter-widgets/base",
            "top": null,
            "grid_column": null,
            "overflow_y": null,
            "overflow_x": null,
            "grid_auto_flow": null,
            "grid_area": null,
            "grid_template_columns": null,
            "flex": null,
            "_model_name": "LayoutModel",
            "justify_items": null,
            "grid_row": null,
            "max_height": null,
            "align_content": null,
            "visibility": null,
            "align_self": null,
            "height": null,
            "min_height": null,
            "padding": null,
            "grid_auto_rows": null,
            "grid_gap": null,
            "max_width": null,
            "order": null,
            "_view_module_version": "1.2.0",
            "grid_template_areas": null,
            "object_position": null,
            "object_fit": null,
            "grid_auto_columns": null,
            "margin": null,
            "display": null,
            "left": null
          }
        },
        "f58e4a92fec14b63b07ba84d18da9ad2": {
          "model_module": "@jupyter-widgets/controls",
          "model_name": "DescriptionStyleModel",
          "model_module_version": "1.5.0",
          "state": {
            "_view_name": "StyleView",
            "_model_name": "DescriptionStyleModel",
            "description_width": "",
            "_view_module": "@jupyter-widgets/base",
            "_model_module_version": "1.5.0",
            "_view_count": null,
            "_view_module_version": "1.2.0",
            "_model_module": "@jupyter-widgets/controls"
          }
        },
        "2f8308658f5e40eb99d1825fed666f08": {
          "model_module": "@jupyter-widgets/base",
          "model_name": "LayoutModel",
          "model_module_version": "1.2.0",
          "state": {
            "_view_name": "LayoutView",
            "grid_template_rows": null,
            "right": null,
            "justify_content": null,
            "_view_module": "@jupyter-widgets/base",
            "overflow": null,
            "_model_module_version": "1.2.0",
            "_view_count": null,
            "flex_flow": null,
            "width": null,
            "min_width": null,
            "border": null,
            "align_items": null,
            "bottom": null,
            "_model_module": "@jupyter-widgets/base",
            "top": null,
            "grid_column": null,
            "overflow_y": null,
            "overflow_x": null,
            "grid_auto_flow": null,
            "grid_area": null,
            "grid_template_columns": null,
            "flex": null,
            "_model_name": "LayoutModel",
            "justify_items": null,
            "grid_row": null,
            "max_height": null,
            "align_content": null,
            "visibility": null,
            "align_self": null,
            "height": null,
            "min_height": null,
            "padding": null,
            "grid_auto_rows": null,
            "grid_gap": null,
            "max_width": null,
            "order": null,
            "_view_module_version": "1.2.0",
            "grid_template_areas": null,
            "object_position": null,
            "object_fit": null,
            "grid_auto_columns": null,
            "margin": null,
            "display": null,
            "left": null
          }
        },
        "b2d77d217ea34553871c8f1669c138e6": {
          "model_module": "@jupyter-widgets/controls",
          "model_name": "HBoxModel",
          "model_module_version": "1.5.0",
          "state": {
            "_view_name": "HBoxView",
            "_dom_classes": [],
            "_model_name": "HBoxModel",
            "_view_module": "@jupyter-widgets/controls",
            "_model_module_version": "1.5.0",
            "_view_count": null,
            "_view_module_version": "1.5.0",
            "box_style": "",
            "layout": "IPY_MODEL_2110ac5a23cf4393ac2ddfca350bf199",
            "_model_module": "@jupyter-widgets/controls",
            "children": [
              "IPY_MODEL_42b71f0af43849e1afd5a32d194d63f2",
              "IPY_MODEL_40042909054341c7b975e8bf1786ddb2",
              "IPY_MODEL_ad03dbeb81864a4eb3cbbf6e5940d464"
            ]
          }
        },
        "2110ac5a23cf4393ac2ddfca350bf199": {
          "model_module": "@jupyter-widgets/base",
          "model_name": "LayoutModel",
          "model_module_version": "1.2.0",
          "state": {
            "_view_name": "LayoutView",
            "grid_template_rows": null,
            "right": null,
            "justify_content": null,
            "_view_module": "@jupyter-widgets/base",
            "overflow": null,
            "_model_module_version": "1.2.0",
            "_view_count": null,
            "flex_flow": null,
            "width": null,
            "min_width": null,
            "border": null,
            "align_items": null,
            "bottom": null,
            "_model_module": "@jupyter-widgets/base",
            "top": null,
            "grid_column": null,
            "overflow_y": null,
            "overflow_x": null,
            "grid_auto_flow": null,
            "grid_area": null,
            "grid_template_columns": null,
            "flex": null,
            "_model_name": "LayoutModel",
            "justify_items": null,
            "grid_row": null,
            "max_height": null,
            "align_content": null,
            "visibility": null,
            "align_self": null,
            "height": null,
            "min_height": null,
            "padding": null,
            "grid_auto_rows": null,
            "grid_gap": null,
            "max_width": null,
            "order": null,
            "_view_module_version": "1.2.0",
            "grid_template_areas": null,
            "object_position": null,
            "object_fit": null,
            "grid_auto_columns": null,
            "margin": null,
            "display": null,
            "left": null
          }
        },
        "42b71f0af43849e1afd5a32d194d63f2": {
          "model_module": "@jupyter-widgets/controls",
          "model_name": "HTMLModel",
          "model_module_version": "1.5.0",
          "state": {
            "_view_name": "HTMLView",
            "style": "IPY_MODEL_b071dea44da54596b7ae275df4cb5ad4",
            "_dom_classes": [],
            "description": "",
            "_model_name": "HTMLModel",
            "placeholder": "​",
            "_view_module": "@jupyter-widgets/controls",
            "_model_module_version": "1.5.0",
            "value": "  0%",
            "_view_count": null,
            "_view_module_version": "1.5.0",
            "description_tooltip": null,
            "_model_module": "@jupyter-widgets/controls",
            "layout": "IPY_MODEL_dca90f288670488da60a3f380dc283db"
          }
        },
        "40042909054341c7b975e8bf1786ddb2": {
          "model_module": "@jupyter-widgets/controls",
          "model_name": "FloatProgressModel",
          "model_module_version": "1.5.0",
          "state": {
            "_view_name": "ProgressView",
            "style": "IPY_MODEL_684bc28a9f89468d8372539dab36f1af",
            "_dom_classes": [],
            "description": "",
            "_model_name": "FloatProgressModel",
            "bar_style": "danger",
            "max": 5,
            "_view_module": "@jupyter-widgets/controls",
            "_model_module_version": "1.5.0",
            "value": 0,
            "_view_count": null,
            "_view_module_version": "1.5.0",
            "orientation": "horizontal",
            "min": 0,
            "description_tooltip": null,
            "_model_module": "@jupyter-widgets/controls",
            "layout": "IPY_MODEL_87e4d18924384498af35db60fa3c98cc"
          }
        },
        "ad03dbeb81864a4eb3cbbf6e5940d464": {
          "model_module": "@jupyter-widgets/controls",
          "model_name": "HTMLModel",
          "model_module_version": "1.5.0",
          "state": {
            "_view_name": "HTMLView",
            "style": "IPY_MODEL_18adffbf43d04806bfed81d21afee716",
            "_dom_classes": [],
            "description": "",
            "_model_name": "HTMLModel",
            "placeholder": "​",
            "_view_module": "@jupyter-widgets/controls",
            "_model_module_version": "1.5.0",
            "value": " 0/5 [00:00&lt;?, ?it/s]",
            "_view_count": null,
            "_view_module_version": "1.5.0",
            "description_tooltip": null,
            "_model_module": "@jupyter-widgets/controls",
            "layout": "IPY_MODEL_0aa7c7b7339b4f279d1b37ff9b667f6d"
          }
        },
        "b071dea44da54596b7ae275df4cb5ad4": {
          "model_module": "@jupyter-widgets/controls",
          "model_name": "DescriptionStyleModel",
          "model_module_version": "1.5.0",
          "state": {
            "_view_name": "StyleView",
            "_model_name": "DescriptionStyleModel",
            "description_width": "",
            "_view_module": "@jupyter-widgets/base",
            "_model_module_version": "1.5.0",
            "_view_count": null,
            "_view_module_version": "1.2.0",
            "_model_module": "@jupyter-widgets/controls"
          }
        },
        "dca90f288670488da60a3f380dc283db": {
          "model_module": "@jupyter-widgets/base",
          "model_name": "LayoutModel",
          "model_module_version": "1.2.0",
          "state": {
            "_view_name": "LayoutView",
            "grid_template_rows": null,
            "right": null,
            "justify_content": null,
            "_view_module": "@jupyter-widgets/base",
            "overflow": null,
            "_model_module_version": "1.2.0",
            "_view_count": null,
            "flex_flow": null,
            "width": null,
            "min_width": null,
            "border": null,
            "align_items": null,
            "bottom": null,
            "_model_module": "@jupyter-widgets/base",
            "top": null,
            "grid_column": null,
            "overflow_y": null,
            "overflow_x": null,
            "grid_auto_flow": null,
            "grid_area": null,
            "grid_template_columns": null,
            "flex": null,
            "_model_name": "LayoutModel",
            "justify_items": null,
            "grid_row": null,
            "max_height": null,
            "align_content": null,
            "visibility": null,
            "align_self": null,
            "height": null,
            "min_height": null,
            "padding": null,
            "grid_auto_rows": null,
            "grid_gap": null,
            "max_width": null,
            "order": null,
            "_view_module_version": "1.2.0",
            "grid_template_areas": null,
            "object_position": null,
            "object_fit": null,
            "grid_auto_columns": null,
            "margin": null,
            "display": null,
            "left": null
          }
        },
        "684bc28a9f89468d8372539dab36f1af": {
          "model_module": "@jupyter-widgets/controls",
          "model_name": "ProgressStyleModel",
          "model_module_version": "1.5.0",
          "state": {
            "_view_name": "StyleView",
            "_model_name": "ProgressStyleModel",
            "description_width": "",
            "_view_module": "@jupyter-widgets/base",
            "_model_module_version": "1.5.0",
            "_view_count": null,
            "_view_module_version": "1.2.0",
            "bar_color": null,
            "_model_module": "@jupyter-widgets/controls"
          }
        },
        "87e4d18924384498af35db60fa3c98cc": {
          "model_module": "@jupyter-widgets/base",
          "model_name": "LayoutModel",
          "model_module_version": "1.2.0",
          "state": {
            "_view_name": "LayoutView",
            "grid_template_rows": null,
            "right": null,
            "justify_content": null,
            "_view_module": "@jupyter-widgets/base",
            "overflow": null,
            "_model_module_version": "1.2.0",
            "_view_count": null,
            "flex_flow": null,
            "width": null,
            "min_width": null,
            "border": null,
            "align_items": null,
            "bottom": null,
            "_model_module": "@jupyter-widgets/base",
            "top": null,
            "grid_column": null,
            "overflow_y": null,
            "overflow_x": null,
            "grid_auto_flow": null,
            "grid_area": null,
            "grid_template_columns": null,
            "flex": null,
            "_model_name": "LayoutModel",
            "justify_items": null,
            "grid_row": null,
            "max_height": null,
            "align_content": null,
            "visibility": null,
            "align_self": null,
            "height": null,
            "min_height": null,
            "padding": null,
            "grid_auto_rows": null,
            "grid_gap": null,
            "max_width": null,
            "order": null,
            "_view_module_version": "1.2.0",
            "grid_template_areas": null,
            "object_position": null,
            "object_fit": null,
            "grid_auto_columns": null,
            "margin": null,
            "display": null,
            "left": null
          }
        },
        "18adffbf43d04806bfed81d21afee716": {
          "model_module": "@jupyter-widgets/controls",
          "model_name": "DescriptionStyleModel",
          "model_module_version": "1.5.0",
          "state": {
            "_view_name": "StyleView",
            "_model_name": "DescriptionStyleModel",
            "description_width": "",
            "_view_module": "@jupyter-widgets/base",
            "_model_module_version": "1.5.0",
            "_view_count": null,
            "_view_module_version": "1.2.0",
            "_model_module": "@jupyter-widgets/controls"
          }
        },
        "0aa7c7b7339b4f279d1b37ff9b667f6d": {
          "model_module": "@jupyter-widgets/base",
          "model_name": "LayoutModel",
          "model_module_version": "1.2.0",
          "state": {
            "_view_name": "LayoutView",
            "grid_template_rows": null,
            "right": null,
            "justify_content": null,
            "_view_module": "@jupyter-widgets/base",
            "overflow": null,
            "_model_module_version": "1.2.0",
            "_view_count": null,
            "flex_flow": null,
            "width": null,
            "min_width": null,
            "border": null,
            "align_items": null,
            "bottom": null,
            "_model_module": "@jupyter-widgets/base",
            "top": null,
            "grid_column": null,
            "overflow_y": null,
            "overflow_x": null,
            "grid_auto_flow": null,
            "grid_area": null,
            "grid_template_columns": null,
            "flex": null,
            "_model_name": "LayoutModel",
            "justify_items": null,
            "grid_row": null,
            "max_height": null,
            "align_content": null,
            "visibility": null,
            "align_self": null,
            "height": null,
            "min_height": null,
            "padding": null,
            "grid_auto_rows": null,
            "grid_gap": null,
            "max_width": null,
            "order": null,
            "_view_module_version": "1.2.0",
            "grid_template_areas": null,
            "object_position": null,
            "object_fit": null,
            "grid_auto_columns": null,
            "margin": null,
            "display": null,
            "left": null
          }
        }
      }
    }
  },
  "cells": [
    {
      "cell_type": "markdown",
      "metadata": {
        "id": "view-in-github",
        "colab_type": "text"
      },
      "source": [
        "<a href=\"https://colab.research.google.com/github/Tikhon239/dul_2021/blob/hw9/Homework/hw9/Homework9_ebm.ipynb\" target=\"_parent\"><img src=\"https://colab.research.google.com/assets/colab-badge.svg\" alt=\"Open In Colab\"/></a>"
      ]
    },
    {
      "cell_type": "code",
      "source": [
        "!if [ -d dul_2021 ]; then rm -Rf dul_2021; fi\n",
        "!git clone https://github.com/GrigoryBartosh/dul_2021\n",
        "!pip install ./dul_2021"
      ],
      "metadata": {
        "colab": {
          "base_uri": "https://localhost:8080/"
        },
        "id": "-ByWitS_XMo8",
        "outputId": "b4c2f712-8014-4eb0-ef73-2c536511d062"
      },
      "execution_count": 1,
      "outputs": [
        {
          "output_type": "stream",
          "name": "stdout",
          "text": [
            "Cloning into 'dul_2021'...\n",
            "remote: Enumerating objects: 303, done.\u001b[K\n",
            "remote: Counting objects: 100% (140/140), done.\u001b[K\n",
            "remote: Compressing objects: 100% (80/80), done.\u001b[K\n",
            "remote: Total 303 (delta 80), reused 66 (delta 55), pack-reused 163\u001b[K\n",
            "Receiving objects: 100% (303/303), 54.18 MiB | 22.10 MiB/s, done.\n",
            "Resolving deltas: 100% (137/137), done.\n",
            "Processing ./dul_2021\n",
            "\u001b[33m  DEPRECATION: A future pip version will change local packages to be built in-place without first copying to a temporary directory. We recommend you use --use-feature=in-tree-build to test your packages with this new behavior before it becomes the default.\n",
            "   pip 21.3 will remove support for this functionality. You can find discussion regarding this at https://github.com/pypa/pip/issues/7555.\u001b[0m\n",
            "Building wheels for collected packages: dul-2021\n",
            "  Building wheel for dul-2021 (setup.py) ... \u001b[?25l\u001b[?25hdone\n",
            "  Created wheel for dul-2021: filename=dul_2021-0.1.0-py3-none-any.whl size=24553 sha256=a7cc5105996643307faaa997b812b3b81d02c3a51ba8e55dbe7bc8865ee213e1\n",
            "  Stored in directory: /tmp/pip-ephem-wheel-cache-r5_cpd5y/wheels/55/59/29/0fb1c635652157734f4d741f32fc11979149684e83e919de06\n",
            "Successfully built dul-2021\n",
            "Installing collected packages: dul-2021\n",
            "  Attempting uninstall: dul-2021\n",
            "    Found existing installation: dul-2021 0.1.0\n",
            "    Uninstalling dul-2021-0.1.0:\n",
            "      Successfully uninstalled dul-2021-0.1.0\n",
            "Successfully installed dul-2021-0.1.0\n"
          ]
        }
      ]
    },
    {
      "cell_type": "code",
      "source": [
        "from dul_2021.utils.hw9_utils import *"
      ],
      "metadata": {
        "id": "LeFGGzuxB63K"
      },
      "execution_count": 2,
      "outputs": []
    },
    {
      "cell_type": "code",
      "source": [
        "import math\n",
        "import numpy as np\n",
        "from tqdm.notebook import trange\n",
        "\n",
        "import torch\n",
        "import torch.nn as nn\n",
        "import torch.nn.functional as F\n",
        "\n",
        "from torch.optim import Adam\n",
        "from torch.utils.data import Dataset, DataLoader\n",
        "from torch.distributions import Normal, Uniform"
      ],
      "metadata": {
        "id": "yJt12tkH_6Wb"
      },
      "execution_count": 3,
      "outputs": []
    },
    {
      "cell_type": "code",
      "source": [
        "device = torch.device(\"cuda\" if torch.cuda.is_available() else \"cpu\")"
      ],
      "metadata": {
        "id": "Eg4NQOHyCRXq"
      },
      "execution_count": 4,
      "outputs": []
    },
    {
      "cell_type": "markdown",
      "source": [
        "# Question 1: EBM on MNIST"
      ],
      "metadata": {
        "id": "dFcrPb9xsEN6"
      }
    },
    {
      "cell_type": "markdown",
      "source": [
        "Here we will implement EBM on MNIST data. \n",
        "\n",
        "* **Architecture.** You may experiment with different hyperparameters and architecture designs, but \n",
        "the following designs for the EBM architecture may be useful.\n",
        "\n",
        "```\n",
        "    Conv2d(1, 16, 5, 2, 4), \n",
        "    Swish(),\n",
        "    Conv2d(16, 32, 3, 2, 1),\n",
        "    Swish(), \n",
        "    Conv2d(32, 64, 3, 2, 1), \n",
        "    Swish(), \n",
        "    Conv2d(64, 64, 3, 2, 1), \n",
        "    Swish(),\n",
        "    Flatten(),\n",
        "    Linear(256, 64), \n",
        "    Swish(),\n",
        "    Linear(64, 1)\n",
        "```\n",
        "\n",
        "\n",
        "Where `swish(x) = σ(x)x`. You **should** use activation with non-sparse gradients for better MCMC convergence.\n",
        "\n",
        "* **Buffer.** To use the contrastive divergence objective, we need to generate samples during training. Because of high dimension of image space we need a lot of iterations in MCMC to obtain reasonable samples. We can reduce sampling cost with buffer trick. The idea of this trick it to re-use previous samples as starting points for MCMC (since distribuionts are close). In our implementation, we initialize 95% of starting points with previous samples and 5% with random noise from -1 to 1. \n",
        "\n",
        "* **MCMC.** During MCMC procedure you only need gradients wrt input. You can find it helpful to disable gradients of your model during MCMC. Since all images are in [-1, 1] you should clamp all resulting points during MCMC step. We also clamp gradients to [-0.03, 0.03].\n",
        "    ```\n",
        "    for p in model.parameters():\n",
        "        p.requires_grad = False\n",
        "    ```\n",
        "\n",
        "* **Regularizations.**\n",
        "\n",
        " You should add small noise to real data otherwise ebm will focus on black areas of real images won't train.\n",
        "\n",
        " Add l2 regularaztion to ebm outputs on real and fake data. Otherwise, the output values will fluctuate in a very large range (because energy is invariant to scalar shift).\n",
        "\n",
        "* **Hyperparameters**\n",
        "    * Max buffer size - 8192\n",
        "    * MCMC step size - 10\n",
        "    * MCMC # step - 60\n",
        "    * MCMC noise - N(0, 0.005)\n",
        "    * Noise to data - N(0, 0.005)\n",
        "    * l2 reg weight - 0.1\n",
        "    * batch_size - 128\n",
        "    * use Adam with lr=1e-3 and betas=(0, 0.999)\n",
        "    * you can exponential scheduler\n",
        "    * 20 epochs should be enough (~1 hour on gpu)\n",
        "\n",
        "\n",
        "\n",
        "**You will provide the following deliverables**\n",
        "\n",
        "\n",
        "1.   Over the course of training, record the regularization and contrastive losses per batch.\n",
        "2. 100 samples from your trained EBM"
      ],
      "metadata": {
        "id": "vBkH8uuiywTC"
      }
    },
    {
      "cell_type": "code",
      "source": [
        "class Buffer:\n",
        "    def __init__(self, shape, buffer_size=8192):\n",
        "        self.buffer_size = buffer_size\n",
        "        self.cur_size = 0\n",
        "        self.cur_index = 0\n",
        "\n",
        "        self.buffer = torch.empty(buffer_size, *shape)\n",
        "\n",
        "    def __len__(self):\n",
        "        return self.cur_size\n",
        "\n",
        "    def push(self, x):\n",
        "        n = x.shape[0]\n",
        "      \n",
        "        if self.cur_index + n <= self.buffer_size:\n",
        "            self.buffer[self.cur_index : self.cur_index + n] = x\n",
        "        else:\n",
        "            index = self.buffer_size - self.cur_index\n",
        "            self.buffer[-index:] = x[:index]\n",
        "            self.buffer[:n - index] = x[index:]\n",
        "\n",
        "        self.cur_size = min(self.buffer_size, self.cur_size + n)\n",
        "        self.cur_index = (self.cur_index + n) % self.buffer_size\n",
        "\n",
        "    def sample(self, n):\n",
        "        indices = np.random.choice(self.cur_size, n, replace=False)\n",
        "        return self.buffer[indices]"
      ],
      "metadata": {
        "id": "xzOJINiIIxk1"
      },
      "execution_count": 5,
      "outputs": []
    },
    {
      "cell_type": "code",
      "source": [
        "class EBM(nn.Module):\n",
        "    def __init__(self, shape=(1, 28, 28), buffer_size=8192, noise_sigma=0.005, langevin_sigma=0.005, alpha=0.1):\n",
        "        super().__init__()\n",
        "\n",
        "        self.f = nn.Sequential(\n",
        "            nn.Conv2d(1, 16, 5, 2, 4),\n",
        "            nn.SiLU(),\n",
        "            nn.Conv2d(16, 32, 3, 2, 1),\n",
        "            nn.SiLU(),\n",
        "            nn.Conv2d(32, 64, 3, 2, 1),\n",
        "            nn.SiLU(),\n",
        "            nn.Conv2d(64, 64, 3, 2, 1),\n",
        "            nn.SiLU(),\n",
        "            nn.Flatten(),\n",
        "            nn.Linear(256, 64),\n",
        "            nn.SiLU(),\n",
        "            nn.Linear(64, 1),\n",
        "        )\n",
        "\n",
        "        self.buffer = Buffer(shape, buffer_size)\n",
        "        self.alpha = alpha\n",
        "\n",
        "        self.buffer_dist = Uniform(\n",
        "            -torch.ones(shape).to(device),\n",
        "            torch.ones(shape).to(device)\n",
        "        )\n",
        "\n",
        "        self.noise_dist = Normal(\n",
        "            torch.Tensor([0]).to(device),\n",
        "            torch.Tensor([noise_sigma]).to(device)\n",
        "        )\n",
        "\n",
        "        self.langevin_dist = Normal(\n",
        "            torch.Tensor([0]).to(device),\n",
        "            torch.Tensor([langevin_sigma]).to(device)\n",
        "        )\n",
        "\n",
        "    def requires_grad_tumbler(self, flag=True):\n",
        "        for p in self.f.parameters():\n",
        "            p.requires_grad = flag\n",
        "\n",
        "    def get_energy(self, batch):\n",
        "        return -self.f(batch)\n",
        "\n",
        "    def get_d_x_log_p(self, x):\n",
        "        energy = self.get_energy(x)\n",
        "        return torch.clip(torch.autograd.grad(-energy.sum(), x)[0], -0.03, 0.03)\n",
        "\n",
        "    def sample(self, n, eps, steps):\n",
        "        self.requires_grad_tumbler(False)\n",
        "        self.f.eval()\n",
        "\n",
        "        if len(self.buffer) < n:\n",
        "            self.buffer.push(self.buffer_dist.sample((n,)).cpu())\n",
        "\n",
        "        batch_buffer = self.buffer.sample(int(n * 0.95)).to(device)\n",
        "        batch_noise = self.buffer_dist.sample((n - int(n * 0.95),))\n",
        "\n",
        "        batch = torch.vstack((batch_buffer, batch_noise))\n",
        "        batch.requires_grad = True\n",
        "\n",
        "        for step in range(steps):\n",
        "            z = self.langevin_dist.expand(batch.shape).sample()\n",
        "            grad = self.get_d_x_log_p(batch)\n",
        "            batch = torch.clip(batch + eps * grad + math.sqrt(2 * eps) * z, -1.0, 1.0)\n",
        "\n",
        "        self.requires_grad_tumbler(True)\n",
        "        self.f.train()\n",
        "\n",
        "        return batch\n",
        "\n",
        "    def calculate_loss(self, batch, eps, steps):\n",
        "        batch_size = batch.shape[0]\n",
        "        noise = self.noise_dist.expand(batch.shape).sample()\n",
        "        x_real = batch + noise\n",
        "        energy_real = self.get_energy(x_real)\n",
        "\n",
        "        x_fake = self.sample(batch_size, eps, steps)\n",
        "        self.buffer.push(x_fake.detach().cpu())\n",
        "        energy_fake = self.get_energy(x_fake)\n",
        "\n",
        "        contrastive_loss = energy_real.mean() - energy_fake.mean()\n",
        "        reg_loss = (energy_real ** 2 + energy_fake ** 2).mean()\n",
        "\n",
        "        return contrastive_loss + self.alpha * reg_loss, contrastive_loss, reg_loss\n",
        "\n",
        "    def fit(self, train_dataloader, lr=1e-3, epochs=20, eps=10, steps=60):\n",
        "        optim = Adam(self.parameters(), lr=lr, betas=(0, 0.999))\n",
        "        \n",
        "        contrastive_losses = []\n",
        "        reg_losses = []\n",
        "\n",
        "        for epoch in trange(epochs):\n",
        "            for batch, _ in train_dataloader:\n",
        "                batch = batch.to(device)\n",
        "                loss, contrastive_loss, reg_loss = self.calculate_loss(batch, eps, steps)\n",
        "\n",
        "                optim.zero_grad()\n",
        "                loss.backward()\n",
        "                optim.step()\n",
        "\n",
        "                contrastive_losses.append(contrastive_loss.item())\n",
        "                reg_losses.append(reg_loss.item())\n",
        "\n",
        "        return contrastive_losses, reg_losses"
      ],
      "metadata": {
        "id": "oq0Mo8hlAaX4"
      },
      "execution_count": 6,
      "outputs": []
    },
    {
      "cell_type": "code",
      "source": [
        "def q1(train_data):\n",
        "    \"\"\"\n",
        "    train_data: An (n_train, 1, 28, 28) torchvision dataset of MNIST images with values from -1 to 1\n",
        "\n",
        "    Returns\n",
        "    - a (# of training iterations, ) numpy array full of contrastive losses on each iteration\n",
        "    - a (# of training iterations, ) numpy array full of regularization losses on each iteration\n",
        "    - a (100, 28, 28, 1) numpy array of 100 samples from ebm model\n",
        "    \"\"\"\n",
        "\n",
        "    batch_size = 128\n",
        "    lr = 1e-3\n",
        "    epochs = 5\n",
        "    eps = 10\n",
        "    steps = 60\n",
        "\n",
        "    train_dataloader = DataLoader(train_data, batch_size=batch_size, shuffle=True)\n",
        "\n",
        "    model = EBM().to(device)\n",
        "    contrastive_losses, reg_losses = model.fit(train_dataloader, lr, epochs)\n",
        "\n",
        "    return contrastive_losses, reg_losses, model.sample(100, eps, steps).detach().cpu().numpy()"
      ],
      "metadata": {
        "id": "5f89iZY4o4ZF"
      },
      "execution_count": 7,
      "outputs": []
    },
    {
      "cell_type": "code",
      "source": [
        "q1_results(q1)"
      ],
      "metadata": {
        "id": "SEkq0_7mXXKC",
        "outputId": "268189f8-91a7-4d9c-c8b7-2242aa4adcb0",
        "colab": {
          "base_uri": "https://localhost:8080/",
          "height": 885,
          "referenced_widgets": [
            "022e0d5e9ea941aaa87debd33a3fe57a",
            "d56c6dc83c354d74b575d5de5479e469",
            "c2a68a84d3a346688a4a0d4a4e28f074",
            "3b92aa76fe5340648f44fb64f4b58f95",
            "363bdbb67bef448eaba3d00cd6853187",
            "4931678ee08247008d5f0dc560bad881",
            "20ec4ffe4ff2434fa5fc6c03215bfaea",
            "acdbeba89b8d4b3584e24148939d881b",
            "0c2282beb19348b6b839e89a2450be2c",
            "f58e4a92fec14b63b07ba84d18da9ad2",
            "2f8308658f5e40eb99d1825fed666f08"
          ]
        }
      },
      "execution_count": 8,
      "outputs": [
        {
          "output_type": "display_data",
          "data": {
            "application/vnd.jupyter.widget-view+json": {
              "model_id": "022e0d5e9ea941aaa87debd33a3fe57a",
              "version_minor": 0,
              "version_major": 2
            },
            "text/plain": [
              "  0%|          | 0/5 [00:00<?, ?it/s]"
            ]
          },
          "metadata": {}
        },
        {
          "output_type": "display_data",
          "data": {
            "image/png": "[encoded data removed]",
            "text/plain": [
              "<Figure size 432x288 with 1 Axes>"
            ]
          },
          "metadata": {
            "needs_background": "light"
          }
        },
        {
          "output_type": "display_data",
          "data": {
            "image/png": "[encoded data removed]",
            "text/plain": [
              "<Figure size 720x720 with 1 Axes>"
            ]
          },
          "metadata": {
            "needs_background": "light"
          }
        }
      ]
    },
    {
      "cell_type": "markdown",
      "source": [
        "# Question 2: EBM conditional generation"
      ],
      "metadata": {
        "id": "ngk19-Usokks"
      }
    },
    {
      "cell_type": "markdown",
      "source": [
        "Here we will train EBM jointly with classifier to generate objects conditioned on class labels. ([original paper](https://arxiv.org/pdf/1912.03263.pdf)).\n",
        "\n",
        "* **Theory**. Here we will work with joint distribution on x (data point) and y (label). We will parametrize probability of the pair as follows\n",
        "\n",
        "```\n",
        "p_θ(x, y) = exp(f_θ(x)[y]) / Z(θ)\n",
        "```\n",
        "Where `f(x)[y]` is an y-th output of the classifier model and `Z(θ)` is a normalization constant.\n",
        "\n",
        "We will optimize log-likelihood of train pair:\n",
        "\n",
        "```\n",
        "log p(x, y) = log p(x) + log p(y|x)\n",
        "```\n",
        "\n",
        "Second term corresponds to normal classification loss and we will optimize it with cross entropy. We will optimize first tirm via contrastive divergence. The energy of can be from classifire output : `E(x)=-log ∑ exp(f_θ(x)[y])`.\n",
        "\n",
        "* **Architecture.** We will work with smile dataset and you can use architecture from practice.\n",
        "\n",
        "* **Hyperparameters**\n",
        "    * Max buffer size - 8192\n",
        "    * MCMC step size - 0.1\n",
        "    * MCMC # step - 500 (during final sampling you can increase it)\n",
        "    * MCMC noise - N(0, 0.005)\n",
        "    * Noise to data - None\n",
        "    * l2 reg weight - 0.1\n",
        "    * batch_size - 128\n",
        "    * use Adam with lr=1e-3 and betas=(0, 0.999)\n",
        "    * you can use exponential scheduler\n",
        "    * 100 epochs should be enough (~10 minutes on cpu)\n",
        "\n",
        "\n",
        "\n",
        "**You will provide the following deliverables**\n",
        "\n",
        "\n",
        "1.   Over the course of training, record loss per batch.\n",
        "3. 300 samples from your trained EBM. First 100 samples should be generated for label 0, next 100 for label 1, and last 100 for label 2"
      ],
      "metadata": {
        "id": "zapL42YYp8zI"
      }
    },
    {
      "cell_type": "code",
      "source": [
        "class ConditionalEBM(EBM):\n",
        "    def __init__(self, num_classes, shape, hidden_dim=128, buffer_size=8192, noise_sigma=0.005, langevin_sigma=0.005, alpha=0.1):\n",
        "        super().__init__(shape, buffer_size, noise_sigma, langevin_sigma, alpha)\n",
        "\n",
        "        self.f = nn.Sequential(\n",
        "            nn.Linear(2, hidden_dim), \n",
        "            nn.LeakyReLU(0.2),\n",
        "            nn.Linear(hidden_dim, hidden_dim), \n",
        "            nn.LeakyReLU(0.2),\n",
        "            nn.Linear(hidden_dim, hidden_dim),\n",
        "            nn.LeakyReLU(0.2),\n",
        "            nn.Linear(hidden_dim, num_classes)\n",
        "        )\n",
        "    \n",
        "    def get_energy(self, x):\n",
        "        return torch.logsumexp(self.f(x), dim=1)\n",
        "    \n",
        "    def calculate_loss(self, batch, labels, eps, steps):\n",
        "        ebm_loss, _, _ = super().calculate_loss(batch, eps, steps)\n",
        "        classification_loss = F.cross_entropy(batch, labels)\n",
        "\n",
        "        return ebm_loss + classification_loss\n",
        "    \n",
        "    def fit(self, train_dataloader, lr=1e-3, epochs=20, eps=0.1, steps=500):\n",
        "        optim = Adam(self.parameters(), lr=lr, betas=(0, 0.999))\n",
        "        \n",
        "        losses = []\n",
        "\n",
        "        for epoch in trange(epochs):\n",
        "            for batch, labels in train_dataloader:\n",
        "                batch = batch.to(device)\n",
        "                labels = labels.to(device)\n",
        "                loss = self.calculate_loss(batch, labels, eps, steps)\n",
        "\n",
        "                optim.zero_grad()\n",
        "                loss.backward()\n",
        "                optim.step()\n",
        "\n",
        "                losses.append(loss.item())\n",
        "\n",
        "        return losses"
      ],
      "metadata": {
        "id": "JQ1nnkfjVVMH"
      },
      "execution_count": 9,
      "outputs": []
    },
    {
      "cell_type": "code",
      "source": [
        "def q2(train_data, train_labels):\n",
        "    \"\"\"\n",
        "    train_data: An (n_train, 2) np.array of binary points\n",
        "    train_labels: An (n_train, ) np.array labels (3 classes)\n",
        "    Returns\n",
        "    - a (# of training iterations, ) numpy array full of losses on each iteration\n",
        "    - a (300, 2) numpy array of 300 samples from ebm model (0-99 with label 0; 100-199 with label 1; 200-300 with label 2)\n",
        "    \"\"\"\n",
        "\n",
        "    batch_size = 128\n",
        "    lr = 1e-3\n",
        "    epochs = 5\n",
        "    eps = 0.1\n",
        "    steps = 500\n",
        "    num_classes = 3\n",
        "    shape = (2,)\n",
        "    \n",
        "    dataset = torch.utils.data.TensorDataset(torch.tensor(train_data, dtype=torch.float32), torch.tensor(train_labels))\n",
        "    train_dataloader = DataLoader(dataset, batch_size=batch_size, shuffle=True)\n",
        "\n",
        "    model = ConditionalEBM(num_classes=num_classes, shape=shape).to(device)\n",
        "    losses = model.fit(train_dataloader, lr, epochs)\n",
        "\n",
        "    return losses, model.sample(100, eps, steps).detach().cpu().numpy()\n"
      ],
      "metadata": {
        "id": "tDw5zYhdr0BH"
      },
      "execution_count": 10,
      "outputs": []
    },
    {
      "cell_type": "code",
      "source": [
        "q2_results(q2)"
      ],
      "metadata": {
        "colab": {
          "base_uri": "https://localhost:8080/",
          "height": 849,
          "referenced_widgets": [
            "b2d77d217ea34553871c8f1669c138e6",
            "2110ac5a23cf4393ac2ddfca350bf199",
            "42b71f0af43849e1afd5a32d194d63f2",
            "40042909054341c7b975e8bf1786ddb2",
            "ad03dbeb81864a4eb3cbbf6e5940d464",
            "b071dea44da54596b7ae275df4cb5ad4",
            "dca90f288670488da60a3f380dc283db",
            "684bc28a9f89468d8372539dab36f1af",
            "87e4d18924384498af35db60fa3c98cc",
            "18adffbf43d04806bfed81d21afee716",
            "0aa7c7b7339b4f279d1b37ff9b667f6d"
          ]
        },
        "id": "CEMsbsP2-5Uz",
        "outputId": "2a21cc40-26ea-4006-dbe2-07d1405083e8"
      },
      "execution_count": 11,
      "outputs": [
        {
          "output_type": "display_data",
          "data": {
            "application/vnd.jupyter.widget-view+json": {
              "model_id": "b2d77d217ea34553871c8f1669c138e6",
              "version_minor": 0,
              "version_major": 2
            },
            "text/plain": [
              "  0%|          | 0/5 [00:00<?, ?it/s]"
            ]
          },
          "metadata": {}
        },
        {
          "output_type": "error",
          "ename": "RuntimeError",
          "evalue": "ignored",
          "traceback": [
            "\u001b[0;31m---------------------------------------------------------------------------\u001b[0m",
            "\u001b[0;31mRuntimeError\u001b[0m                              Traceback (most recent call last)",
            "\u001b[0;32m<ipython-input-11-b7da9fbc2f3b>\u001b[0m in \u001b[0;36m<module>\u001b[0;34m()\u001b[0m\n\u001b[0;32m----> 1\u001b[0;31m \u001b[0mq2_results\u001b[0m\u001b[0;34m(\u001b[0m\u001b[0mq2\u001b[0m\u001b[0;34m)\u001b[0m\u001b[0;34m\u001b[0m\u001b[0;34m\u001b[0m\u001b[0m\n\u001b[0m",
            "\u001b[0;32m/content/dul_2021/utils/hw9_utils.py\u001b[0m in \u001b[0;36mq2_results\u001b[0;34m(q2)\u001b[0m\n\u001b[1;32m    105\u001b[0m \u001b[0;32mdef\u001b[0m \u001b[0mq2_results\u001b[0m\u001b[0;34m(\u001b[0m\u001b[0mq2\u001b[0m\u001b[0;34m)\u001b[0m\u001b[0;34m:\u001b[0m\u001b[0;34m\u001b[0m\u001b[0;34m\u001b[0m\u001b[0m\n\u001b[1;32m    106\u001b[0m     \u001b[0mtrain_data\u001b[0m\u001b[0;34m,\u001b[0m \u001b[0mtrain_labels\u001b[0m\u001b[0;34m,\u001b[0m \u001b[0m_\u001b[0m\u001b[0;34m,\u001b[0m \u001b[0m_\u001b[0m \u001b[0;34m=\u001b[0m \u001b[0mq2_sample_data\u001b[0m\u001b[0;34m(\u001b[0m\u001b[0;34m)\u001b[0m\u001b[0;34m\u001b[0m\u001b[0;34m\u001b[0m\u001b[0m\n\u001b[0;32m--> 107\u001b[0;31m     \u001b[0mloss\u001b[0m\u001b[0;34m,\u001b[0m \u001b[0msamples\u001b[0m \u001b[0;34m=\u001b[0m \u001b[0mq2\u001b[0m\u001b[0;34m(\u001b[0m\u001b[0mtrain_data\u001b[0m\u001b[0;34m,\u001b[0m \u001b[0mtrain_labels\u001b[0m\u001b[0;34m)\u001b[0m\u001b[0;34m\u001b[0m\u001b[0;34m\u001b[0m\u001b[0m\n\u001b[0m\u001b[1;32m    108\u001b[0m \u001b[0;34m\u001b[0m\u001b[0m\n\u001b[1;32m    109\u001b[0m     \u001b[0mplot_q2_training_plot\u001b[0m\u001b[0;34m(\u001b[0m\u001b[0mloss\u001b[0m\u001b[0;34m)\u001b[0m\u001b[0;34m\u001b[0m\u001b[0;34m\u001b[0m\u001b[0m\n",
            "\u001b[0;32m<ipython-input-10-9786071ebd54>\u001b[0m in \u001b[0;36mq2\u001b[0;34m(train_data, train_labels)\u001b[0m\n\u001b[1;32m     20\u001b[0m \u001b[0;34m\u001b[0m\u001b[0m\n\u001b[1;32m     21\u001b[0m     \u001b[0mmodel\u001b[0m \u001b[0;34m=\u001b[0m \u001b[0mConditionalEBM\u001b[0m\u001b[0;34m(\u001b[0m\u001b[0mnum_classes\u001b[0m\u001b[0;34m=\u001b[0m\u001b[0mnum_classes\u001b[0m\u001b[0;34m,\u001b[0m \u001b[0mshape\u001b[0m\u001b[0;34m=\u001b[0m\u001b[0mshape\u001b[0m\u001b[0;34m)\u001b[0m\u001b[0;34m.\u001b[0m\u001b[0mto\u001b[0m\u001b[0;34m(\u001b[0m\u001b[0mdevice\u001b[0m\u001b[0;34m)\u001b[0m\u001b[0;34m\u001b[0m\u001b[0;34m\u001b[0m\u001b[0m\n\u001b[0;32m---> 22\u001b[0;31m     \u001b[0mlosses\u001b[0m \u001b[0;34m=\u001b[0m \u001b[0mmodel\u001b[0m\u001b[0;34m.\u001b[0m\u001b[0mfit\u001b[0m\u001b[0;34m(\u001b[0m\u001b[0mtrain_dataloader\u001b[0m\u001b[0;34m,\u001b[0m \u001b[0mlr\u001b[0m\u001b[0;34m,\u001b[0m \u001b[0mepochs\u001b[0m\u001b[0;34m)\u001b[0m\u001b[0;34m\u001b[0m\u001b[0;34m\u001b[0m\u001b[0m\n\u001b[0m\u001b[1;32m     23\u001b[0m \u001b[0;34m\u001b[0m\u001b[0m\n\u001b[1;32m     24\u001b[0m     \u001b[0;32mreturn\u001b[0m \u001b[0mlosses\u001b[0m\u001b[0;34m,\u001b[0m \u001b[0mmodel\u001b[0m\u001b[0;34m.\u001b[0m\u001b[0msample\u001b[0m\u001b[0;34m(\u001b[0m\u001b[0;36m100\u001b[0m\u001b[0;34m,\u001b[0m \u001b[0meps\u001b[0m\u001b[0;34m,\u001b[0m \u001b[0msteps\u001b[0m\u001b[0;34m)\u001b[0m\u001b[0;34m.\u001b[0m\u001b[0mdetach\u001b[0m\u001b[0;34m(\u001b[0m\u001b[0;34m)\u001b[0m\u001b[0;34m.\u001b[0m\u001b[0mcpu\u001b[0m\u001b[0;34m(\u001b[0m\u001b[0;34m)\u001b[0m\u001b[0;34m.\u001b[0m\u001b[0mnumpy\u001b[0m\u001b[0;34m(\u001b[0m\u001b[0;34m)\u001b[0m\u001b[0;34m\u001b[0m\u001b[0;34m\u001b[0m\u001b[0m\n",
            "\u001b[0;32m<ipython-input-9-c3be29389366>\u001b[0m in \u001b[0;36mfit\u001b[0;34m(self, train_dataloader, lr, epochs, eps, steps)\u001b[0m\n\u001b[1;32m     34\u001b[0m \u001b[0;34m\u001b[0m\u001b[0m\n\u001b[1;32m     35\u001b[0m                 \u001b[0moptim\u001b[0m\u001b[0;34m.\u001b[0m\u001b[0mzero_grad\u001b[0m\u001b[0;34m(\u001b[0m\u001b[0;34m)\u001b[0m\u001b[0;34m\u001b[0m\u001b[0;34m\u001b[0m\u001b[0m\n\u001b[0;32m---> 36\u001b[0;31m                 \u001b[0mloss\u001b[0m\u001b[0;34m.\u001b[0m\u001b[0mbackward\u001b[0m\u001b[0;34m(\u001b[0m\u001b[0;34m)\u001b[0m\u001b[0;34m\u001b[0m\u001b[0;34m\u001b[0m\u001b[0m\n\u001b[0m\u001b[1;32m     37\u001b[0m                 \u001b[0moptim\u001b[0m\u001b[0;34m.\u001b[0m\u001b[0mstep\u001b[0m\u001b[0;34m(\u001b[0m\u001b[0;34m)\u001b[0m\u001b[0;34m\u001b[0m\u001b[0;34m\u001b[0m\u001b[0m\n\u001b[1;32m     38\u001b[0m \u001b[0;34m\u001b[0m\u001b[0m\n",
            "\u001b[0;32m/usr/local/lib/python3.7/dist-packages/torch/_tensor.py\u001b[0m in \u001b[0;36mbackward\u001b[0;34m(self, gradient, retain_graph, create_graph, inputs)\u001b[0m\n\u001b[1;32m    305\u001b[0m                 \u001b[0mcreate_graph\u001b[0m\u001b[0;34m=\u001b[0m\u001b[0mcreate_graph\u001b[0m\u001b[0;34m,\u001b[0m\u001b[0;34m\u001b[0m\u001b[0;34m\u001b[0m\u001b[0m\n\u001b[1;32m    306\u001b[0m                 inputs=inputs)\n\u001b[0;32m--> 307\u001b[0;31m         \u001b[0mtorch\u001b[0m\u001b[0;34m.\u001b[0m\u001b[0mautograd\u001b[0m\u001b[0;34m.\u001b[0m\u001b[0mbackward\u001b[0m\u001b[0;34m(\u001b[0m\u001b[0mself\u001b[0m\u001b[0;34m,\u001b[0m \u001b[0mgradient\u001b[0m\u001b[0;34m,\u001b[0m \u001b[0mretain_graph\u001b[0m\u001b[0;34m,\u001b[0m \u001b[0mcreate_graph\u001b[0m\u001b[0;34m,\u001b[0m \u001b[0minputs\u001b[0m\u001b[0;34m=\u001b[0m\u001b[0minputs\u001b[0m\u001b[0;34m)\u001b[0m\u001b[0;34m\u001b[0m\u001b[0;34m\u001b[0m\u001b[0m\n\u001b[0m\u001b[1;32m    308\u001b[0m \u001b[0;34m\u001b[0m\u001b[0m\n\u001b[1;32m    309\u001b[0m     \u001b[0;32mdef\u001b[0m \u001b[0mregister_hook\u001b[0m\u001b[0;34m(\u001b[0m\u001b[0mself\u001b[0m\u001b[0;34m,\u001b[0m \u001b[0mhook\u001b[0m\u001b[0;34m)\u001b[0m\u001b[0;34m:\u001b[0m\u001b[0;34m\u001b[0m\u001b[0;34m\u001b[0m\u001b[0m\n",
            "\u001b[0;32m/usr/local/lib/python3.7/dist-packages/torch/autograd/__init__.py\u001b[0m in \u001b[0;36mbackward\u001b[0;34m(tensors, grad_tensors, retain_graph, create_graph, grad_variables, inputs)\u001b[0m\n\u001b[1;32m    154\u001b[0m     Variable._execution_engine.run_backward(\n\u001b[1;32m    155\u001b[0m         \u001b[0mtensors\u001b[0m\u001b[0;34m,\u001b[0m \u001b[0mgrad_tensors_\u001b[0m\u001b[0;34m,\u001b[0m \u001b[0mretain_graph\u001b[0m\u001b[0;34m,\u001b[0m \u001b[0mcreate_graph\u001b[0m\u001b[0;34m,\u001b[0m \u001b[0minputs\u001b[0m\u001b[0;34m,\u001b[0m\u001b[0;34m\u001b[0m\u001b[0;34m\u001b[0m\u001b[0m\n\u001b[0;32m--> 156\u001b[0;31m         allow_unreachable=True, accumulate_grad=True)  # allow_unreachable flag\n\u001b[0m\u001b[1;32m    157\u001b[0m \u001b[0;34m\u001b[0m\u001b[0m\n\u001b[1;32m    158\u001b[0m \u001b[0;34m\u001b[0m\u001b[0m\n",
            "\u001b[0;31mRuntimeError\u001b[0m: CUDA error: device-side assert triggered\nCUDA kernel errors might be asynchronously reported at some other API call,so the stacktrace below might be incorrect.\nFor debugging consider passing CUDA_LAUNCH_BLOCKING=1."
          ]
        }
      ]
    },
    {
      "cell_type": "markdown",
      "source": [
        "# Bonus : Conditional generation with EBM and classifier.\n",
        "\n",
        "Here you need to generate points conditioned on class on smile dataset with independently trained ebm and classifier. For generation use MCMC with\n",
        "\n",
        "```\n",
        "log p(x|y) ~ log p(x) + log p(y|x)\n",
        "```\n",
        "\n",
        "Where first term is `-E(x)` and second is obtained via backprop from trained classifier."
      ],
      "metadata": {
        "id": "Lh4RFxa6ytf5"
      }
    },
    {
      "cell_type": "code",
      "source": [
        "def b(train_data, train_labels):\n",
        "    \"\"\"\n",
        "    train_data: An (n_train, 2) np.array of binary points\n",
        "    train_labels: An (n_train, ) np.array labels (3 classes)\n",
        "    Returns\n",
        "    - a (# of training iterations, ) numpy array full of losses of classfier on each iteration\n",
        "    - a (# of training iterations, ) numpy array full of losses of ebm on each iteration\n",
        "    - a (300, 2) numpy array of 300 samples from ebm model (0-99 with label 0; 100-199 with label 1; 200-300 with label 2)\n",
        "    \"\"\""
      ],
      "metadata": {
        "id": "V3pB997Yrz8P"
      },
      "execution_count": null,
      "outputs": []
    }
  ]
}